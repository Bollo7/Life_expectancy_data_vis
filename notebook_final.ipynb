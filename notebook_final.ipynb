{
 "cells": [
  {
   "cell_type": "code",
   "execution_count": 1,
   "metadata": {
    "cell_id": "00000-d92013d3-a075-47b9-80f0-60d6d16c1234",
    "deepnote_cell_type": "code",
    "deepnote_to_be_reexecuted": false,
    "execution_millis": 2158,
    "execution_start": 1610404802475,
    "source_hash": "282881a2",
    "tags": []
   },
   "outputs": [
    {
     "name": "stdout",
     "output_type": "stream",
     "text": [
      "Defaulting to user installation because normal site-packages is not writeable\n",
      "Requirement already satisfied: altair in c:\\program files (x86)\\anaconda\\lib\\site-packages (4.1.0)\n",
      "Requirement already satisfied: jsonschema in c:\\program files (x86)\\anaconda\\lib\\site-packages (from altair) (3.2.0)\n",
      "Requirement already satisfied: toolz in c:\\program files (x86)\\anaconda\\lib\\site-packages (from altair) (0.11.1)\n",
      "Requirement already satisfied: pandas>=0.18 in c:\\program files (x86)\\anaconda\\lib\\site-packages (from altair) (1.1.3)\n",
      "Requirement already satisfied: jinja2 in c:\\program files (x86)\\anaconda\\lib\\site-packages (from altair) (2.11.2)\n",
      "Requirement already satisfied: entrypoints in c:\\program files (x86)\\anaconda\\lib\\site-packages (from altair) (0.3)\n",
      "Requirement already satisfied: numpy in c:\\program files (x86)\\anaconda\\lib\\site-packages (from altair) (1.19.2)\n",
      "Requirement already satisfied: pyrsistent>=0.14.0 in c:\\program files (x86)\\anaconda\\lib\\site-packages (from jsonschema->altair) (0.17.3)\n",
      "Requirement already satisfied: six>=1.11.0 in c:\\program files (x86)\\anaconda\\lib\\site-packages (from jsonschema->altair) (1.15.0)\n",
      "Requirement already satisfied: importlib-metadata; python_version < \"3.8\" in c:\\program files (x86)\\anaconda\\lib\\site-packages (from jsonschema->altair) (2.0.0)\n",
      "Requirement already satisfied: attrs>=17.4.0 in c:\\program files (x86)\\anaconda\\lib\\site-packages (from jsonschema->altair) (20.3.0)\n",
      "Requirement already satisfied: setuptools in c:\\program files (x86)\\anaconda\\lib\\site-packages (from jsonschema->altair) (50.3.1.post20201107)\n",
      "Requirement already satisfied: pytz>=2017.2 in c:\\program files (x86)\\anaconda\\lib\\site-packages (from pandas>=0.18->altair) (2020.1)\n",
      "Requirement already satisfied: python-dateutil>=2.7.3 in c:\\program files (x86)\\anaconda\\lib\\site-packages (from pandas>=0.18->altair) (2.8.1)\n",
      "Requirement already satisfied: MarkupSafe>=0.23 in c:\\program files (x86)\\anaconda\\lib\\site-packages (from jinja2->altair) (1.1.1)\n",
      "Requirement already satisfied: zipp>=0.5 in c:\\program files (x86)\\anaconda\\lib\\site-packages (from importlib-metadata; python_version < \"3.8\"->jsonschema->altair) (3.4.0)\n"
     ]
    }
   ],
   "source": [
    "!pip install altair\n",
    "import warnings\n",
    "warnings.filterwarnings('ignore', category=FutureWarning)\n",
    "\n",
    "import matplotlib.pyplot as plt\n",
    "import pandas as pd\n",
    "import copy\n",
    "import ipywidgets as widgets\n",
    "import altair as alt\n",
    "from ipywidgets import interact, interact_manual\n",
    "import numpy as np"
   ]
  },
  {
   "cell_type": "code",
   "execution_count": 2,
   "metadata": {
    "cell_id": "00001-30cda33f-e677-4c17-81e5-4704779a058b",
    "deepnote_cell_type": "code",
    "deepnote_to_be_reexecuted": false,
    "execution_millis": 785,
    "execution_start": 1610404804638,
    "source_hash": "8632d922",
    "tags": []
   },
   "outputs": [
    {
     "data": {
      "text/html": [
       "<div>\n",
       "<style scoped>\n",
       "    .dataframe tbody tr th:only-of-type {\n",
       "        vertical-align: middle;\n",
       "    }\n",
       "\n",
       "    .dataframe tbody tr th {\n",
       "        vertical-align: top;\n",
       "    }\n",
       "\n",
       "    .dataframe thead th {\n",
       "        text-align: right;\n",
       "    }\n",
       "</style>\n",
       "<table border=\"1\" class=\"dataframe\">\n",
       "  <thead>\n",
       "    <tr style=\"text-align: right;\">\n",
       "      <th>country</th>\n",
       "      <th>year</th>\n",
       "      <th>Afghanistan</th>\n",
       "      <th>Albania</th>\n",
       "      <th>Algeria</th>\n",
       "      <th>Angola</th>\n",
       "      <th>Antigua and Barbuda</th>\n",
       "      <th>Argentina</th>\n",
       "      <th>Armenia</th>\n",
       "      <th>Australia</th>\n",
       "      <th>Austria</th>\n",
       "      <th>...</th>\n",
       "      <th>United Kingdom</th>\n",
       "      <th>United States</th>\n",
       "      <th>Uruguay</th>\n",
       "      <th>Uzbekistan</th>\n",
       "      <th>Vanuatu</th>\n",
       "      <th>Venezuela</th>\n",
       "      <th>Vietnam</th>\n",
       "      <th>Yemen</th>\n",
       "      <th>Zambia</th>\n",
       "      <th>Zimbabwe</th>\n",
       "    </tr>\n",
       "  </thead>\n",
       "  <tbody>\n",
       "    <tr>\n",
       "      <th>0</th>\n",
       "      <td>1800</td>\n",
       "      <td>28.2</td>\n",
       "      <td>35.4</td>\n",
       "      <td>28.8</td>\n",
       "      <td>27.0</td>\n",
       "      <td>33.5</td>\n",
       "      <td>33.2</td>\n",
       "      <td>34.0</td>\n",
       "      <td>34.0</td>\n",
       "      <td>34.4</td>\n",
       "      <td>...</td>\n",
       "      <td>38.6</td>\n",
       "      <td>39.4</td>\n",
       "      <td>32.9</td>\n",
       "      <td>26.9</td>\n",
       "      <td>24.3</td>\n",
       "      <td>32.2</td>\n",
       "      <td>32.0</td>\n",
       "      <td>23.4</td>\n",
       "      <td>32.6</td>\n",
       "      <td>33.7</td>\n",
       "    </tr>\n",
       "    <tr>\n",
       "      <th>1</th>\n",
       "      <td>1801</td>\n",
       "      <td>28.2</td>\n",
       "      <td>35.4</td>\n",
       "      <td>28.8</td>\n",
       "      <td>27.0</td>\n",
       "      <td>33.5</td>\n",
       "      <td>33.2</td>\n",
       "      <td>34.0</td>\n",
       "      <td>34.0</td>\n",
       "      <td>34.4</td>\n",
       "      <td>...</td>\n",
       "      <td>37.4</td>\n",
       "      <td>39.4</td>\n",
       "      <td>32.9</td>\n",
       "      <td>26.9</td>\n",
       "      <td>24.3</td>\n",
       "      <td>32.2</td>\n",
       "      <td>32.0</td>\n",
       "      <td>23.4</td>\n",
       "      <td>32.6</td>\n",
       "      <td>33.7</td>\n",
       "    </tr>\n",
       "    <tr>\n",
       "      <th>2</th>\n",
       "      <td>1802</td>\n",
       "      <td>28.2</td>\n",
       "      <td>35.4</td>\n",
       "      <td>28.8</td>\n",
       "      <td>27.0</td>\n",
       "      <td>33.5</td>\n",
       "      <td>33.2</td>\n",
       "      <td>34.0</td>\n",
       "      <td>34.0</td>\n",
       "      <td>34.4</td>\n",
       "      <td>...</td>\n",
       "      <td>38.6</td>\n",
       "      <td>39.4</td>\n",
       "      <td>32.9</td>\n",
       "      <td>26.9</td>\n",
       "      <td>24.3</td>\n",
       "      <td>32.2</td>\n",
       "      <td>32.0</td>\n",
       "      <td>23.4</td>\n",
       "      <td>32.6</td>\n",
       "      <td>33.7</td>\n",
       "    </tr>\n",
       "    <tr>\n",
       "      <th>3</th>\n",
       "      <td>1803</td>\n",
       "      <td>28.2</td>\n",
       "      <td>35.4</td>\n",
       "      <td>28.8</td>\n",
       "      <td>27.0</td>\n",
       "      <td>33.5</td>\n",
       "      <td>33.2</td>\n",
       "      <td>34.0</td>\n",
       "      <td>34.0</td>\n",
       "      <td>34.4</td>\n",
       "      <td>...</td>\n",
       "      <td>37.3</td>\n",
       "      <td>39.4</td>\n",
       "      <td>32.9</td>\n",
       "      <td>26.9</td>\n",
       "      <td>24.3</td>\n",
       "      <td>32.2</td>\n",
       "      <td>32.0</td>\n",
       "      <td>23.4</td>\n",
       "      <td>32.6</td>\n",
       "      <td>33.7</td>\n",
       "    </tr>\n",
       "    <tr>\n",
       "      <th>4</th>\n",
       "      <td>1804</td>\n",
       "      <td>28.2</td>\n",
       "      <td>35.4</td>\n",
       "      <td>28.8</td>\n",
       "      <td>27.0</td>\n",
       "      <td>33.5</td>\n",
       "      <td>33.2</td>\n",
       "      <td>34.0</td>\n",
       "      <td>34.0</td>\n",
       "      <td>34.4</td>\n",
       "      <td>...</td>\n",
       "      <td>41.4</td>\n",
       "      <td>39.4</td>\n",
       "      <td>32.9</td>\n",
       "      <td>26.9</td>\n",
       "      <td>24.3</td>\n",
       "      <td>32.2</td>\n",
       "      <td>32.0</td>\n",
       "      <td>23.4</td>\n",
       "      <td>32.6</td>\n",
       "      <td>33.7</td>\n",
       "    </tr>\n",
       "    <tr>\n",
       "      <th>...</th>\n",
       "      <td>...</td>\n",
       "      <td>...</td>\n",
       "      <td>...</td>\n",
       "      <td>...</td>\n",
       "      <td>...</td>\n",
       "      <td>...</td>\n",
       "      <td>...</td>\n",
       "      <td>...</td>\n",
       "      <td>...</td>\n",
       "      <td>...</td>\n",
       "      <td>...</td>\n",
       "      <td>...</td>\n",
       "      <td>...</td>\n",
       "      <td>...</td>\n",
       "      <td>...</td>\n",
       "      <td>...</td>\n",
       "      <td>...</td>\n",
       "      <td>...</td>\n",
       "      <td>...</td>\n",
       "      <td>...</td>\n",
       "      <td>...</td>\n",
       "    </tr>\n",
       "    <tr>\n",
       "      <th>296</th>\n",
       "      <td>2096</td>\n",
       "      <td>77.1</td>\n",
       "      <td>87.9</td>\n",
       "      <td>88.8</td>\n",
       "      <td>79.4</td>\n",
       "      <td>86.6</td>\n",
       "      <td>87.2</td>\n",
       "      <td>85.9</td>\n",
       "      <td>91.6</td>\n",
       "      <td>91.3</td>\n",
       "      <td>...</td>\n",
       "      <td>90.2</td>\n",
       "      <td>88.1</td>\n",
       "      <td>87.1</td>\n",
       "      <td>79.5</td>\n",
       "      <td>74.0</td>\n",
       "      <td>86.9</td>\n",
       "      <td>84.8</td>\n",
       "      <td>77.9</td>\n",
       "      <td>77.6</td>\n",
       "      <td>75.1</td>\n",
       "    </tr>\n",
       "    <tr>\n",
       "      <th>297</th>\n",
       "      <td>2097</td>\n",
       "      <td>77.3</td>\n",
       "      <td>88.0</td>\n",
       "      <td>88.9</td>\n",
       "      <td>79.5</td>\n",
       "      <td>86.7</td>\n",
       "      <td>87.3</td>\n",
       "      <td>86.0</td>\n",
       "      <td>91.7</td>\n",
       "      <td>91.5</td>\n",
       "      <td>...</td>\n",
       "      <td>90.3</td>\n",
       "      <td>88.2</td>\n",
       "      <td>87.2</td>\n",
       "      <td>79.6</td>\n",
       "      <td>74.2</td>\n",
       "      <td>87.0</td>\n",
       "      <td>84.9</td>\n",
       "      <td>78.0</td>\n",
       "      <td>77.7</td>\n",
       "      <td>75.3</td>\n",
       "    </tr>\n",
       "    <tr>\n",
       "      <th>298</th>\n",
       "      <td>2098</td>\n",
       "      <td>77.4</td>\n",
       "      <td>88.1</td>\n",
       "      <td>89.0</td>\n",
       "      <td>79.7</td>\n",
       "      <td>86.8</td>\n",
       "      <td>87.4</td>\n",
       "      <td>86.2</td>\n",
       "      <td>91.8</td>\n",
       "      <td>91.6</td>\n",
       "      <td>...</td>\n",
       "      <td>90.4</td>\n",
       "      <td>88.3</td>\n",
       "      <td>87.3</td>\n",
       "      <td>79.8</td>\n",
       "      <td>74.3</td>\n",
       "      <td>87.1</td>\n",
       "      <td>85.0</td>\n",
       "      <td>78.2</td>\n",
       "      <td>77.8</td>\n",
       "      <td>75.4</td>\n",
       "    </tr>\n",
       "    <tr>\n",
       "      <th>299</th>\n",
       "      <td>2099</td>\n",
       "      <td>77.5</td>\n",
       "      <td>88.2</td>\n",
       "      <td>89.1</td>\n",
       "      <td>79.8</td>\n",
       "      <td>86.9</td>\n",
       "      <td>87.5</td>\n",
       "      <td>86.3</td>\n",
       "      <td>91.9</td>\n",
       "      <td>91.7</td>\n",
       "      <td>...</td>\n",
       "      <td>90.5</td>\n",
       "      <td>88.4</td>\n",
       "      <td>87.4</td>\n",
       "      <td>79.9</td>\n",
       "      <td>74.4</td>\n",
       "      <td>87.2</td>\n",
       "      <td>85.2</td>\n",
       "      <td>78.3</td>\n",
       "      <td>78.0</td>\n",
       "      <td>75.5</td>\n",
       "    </tr>\n",
       "    <tr>\n",
       "      <th>300</th>\n",
       "      <td>2100</td>\n",
       "      <td>77.7</td>\n",
       "      <td>88.3</td>\n",
       "      <td>89.2</td>\n",
       "      <td>79.9</td>\n",
       "      <td>87.0</td>\n",
       "      <td>87.6</td>\n",
       "      <td>86.4</td>\n",
       "      <td>92.0</td>\n",
       "      <td>91.8</td>\n",
       "      <td>...</td>\n",
       "      <td>90.6</td>\n",
       "      <td>88.5</td>\n",
       "      <td>87.5</td>\n",
       "      <td>80.0</td>\n",
       "      <td>74.5</td>\n",
       "      <td>87.3</td>\n",
       "      <td>85.3</td>\n",
       "      <td>78.4</td>\n",
       "      <td>78.1</td>\n",
       "      <td>75.7</td>\n",
       "    </tr>\n",
       "  </tbody>\n",
       "</table>\n",
       "<p>301 rows × 185 columns</p>\n",
       "</div>"
      ],
      "text/plain": [
       "country  year  Afghanistan  Albania  Algeria  Angola  Antigua and Barbuda  \\\n",
       "0        1800         28.2     35.4     28.8    27.0                 33.5   \n",
       "1        1801         28.2     35.4     28.8    27.0                 33.5   \n",
       "2        1802         28.2     35.4     28.8    27.0                 33.5   \n",
       "3        1803         28.2     35.4     28.8    27.0                 33.5   \n",
       "4        1804         28.2     35.4     28.8    27.0                 33.5   \n",
       "..        ...          ...      ...      ...     ...                  ...   \n",
       "296      2096         77.1     87.9     88.8    79.4                 86.6   \n",
       "297      2097         77.3     88.0     88.9    79.5                 86.7   \n",
       "298      2098         77.4     88.1     89.0    79.7                 86.8   \n",
       "299      2099         77.5     88.2     89.1    79.8                 86.9   \n",
       "300      2100         77.7     88.3     89.2    79.9                 87.0   \n",
       "\n",
       "country  Argentina  Armenia  Australia  Austria  ...  United Kingdom  \\\n",
       "0             33.2     34.0       34.0     34.4  ...            38.6   \n",
       "1             33.2     34.0       34.0     34.4  ...            37.4   \n",
       "2             33.2     34.0       34.0     34.4  ...            38.6   \n",
       "3             33.2     34.0       34.0     34.4  ...            37.3   \n",
       "4             33.2     34.0       34.0     34.4  ...            41.4   \n",
       "..             ...      ...        ...      ...  ...             ...   \n",
       "296           87.2     85.9       91.6     91.3  ...            90.2   \n",
       "297           87.3     86.0       91.7     91.5  ...            90.3   \n",
       "298           87.4     86.2       91.8     91.6  ...            90.4   \n",
       "299           87.5     86.3       91.9     91.7  ...            90.5   \n",
       "300           87.6     86.4       92.0     91.8  ...            90.6   \n",
       "\n",
       "country  United States  Uruguay  Uzbekistan  Vanuatu  Venezuela  Vietnam  \\\n",
       "0                 39.4     32.9        26.9     24.3       32.2     32.0   \n",
       "1                 39.4     32.9        26.9     24.3       32.2     32.0   \n",
       "2                 39.4     32.9        26.9     24.3       32.2     32.0   \n",
       "3                 39.4     32.9        26.9     24.3       32.2     32.0   \n",
       "4                 39.4     32.9        26.9     24.3       32.2     32.0   \n",
       "..                 ...      ...         ...      ...        ...      ...   \n",
       "296               88.1     87.1        79.5     74.0       86.9     84.8   \n",
       "297               88.2     87.2        79.6     74.2       87.0     84.9   \n",
       "298               88.3     87.3        79.8     74.3       87.1     85.0   \n",
       "299               88.4     87.4        79.9     74.4       87.2     85.2   \n",
       "300               88.5     87.5        80.0     74.5       87.3     85.3   \n",
       "\n",
       "country  Yemen  Zambia  Zimbabwe  \n",
       "0         23.4    32.6      33.7  \n",
       "1         23.4    32.6      33.7  \n",
       "2         23.4    32.6      33.7  \n",
       "3         23.4    32.6      33.7  \n",
       "4         23.4    32.6      33.7  \n",
       "..         ...     ...       ...  \n",
       "296       77.9    77.6      75.1  \n",
       "297       78.0    77.7      75.3  \n",
       "298       78.2    77.8      75.4  \n",
       "299       78.3    78.0      75.5  \n",
       "300       78.4    78.1      75.7  \n",
       "\n",
       "[301 rows x 185 columns]"
      ]
     },
     "execution_count": 2,
     "metadata": {},
     "output_type": "execute_result"
    }
   ],
   "source": [
    "# PREPROCESSING\n",
    "df = pd.read_csv('data/life_expectancy_years.csv').dropna()\n",
    "\n",
    "# original copy of dataframe, needed for barplot function\n",
    "df_orig = copy.copy(df)\n",
    "\n",
    "names = df['country']\n",
    "df = df.set_index('country').T\n",
    "df = df.reset_index()\n",
    "df['index'] = df['index'].astype(int)\n",
    "df = df.rename(columns={'index': 'year'})\n",
    "df"
   ]
  },
  {
   "cell_type": "code",
   "execution_count": 3,
   "metadata": {
    "cell_id": "00003-25ee294d-d16d-45c4-b4ad-2335f29171ba",
    "deepnote_cell_type": "code",
    "deepnote_to_be_reexecuted": false,
    "execution_millis": 664,
    "execution_start": 1610404805426,
    "source_hash": "63347f94",
    "tags": []
   },
   "outputs": [
    {
     "name": "stdout",
     "output_type": "stream",
     "text": [
      "# # # Dataset information # # # \n",
      "\n",
      "<class 'pandas.core.frame.DataFrame'>\n",
      "Int64Index: 184 entries, 0 to 186\n",
      "Columns: 302 entries, country to 2100\n",
      "dtypes: float64(301), object(1)\n",
      "memory usage: 435.6+ KB\n",
      "None\n",
      "# # # Pandas built-in statistical discription of dataset columns # # # \n",
      "             1800        1801        1802        1803        1804        1805  \\\n",
      "count  184.000000  184.000000  184.000000  184.000000  184.000000  184.000000   \n",
      "mean    31.502717   31.461957   31.478804   31.383152   31.459239   31.586413   \n",
      "std      3.814689    3.806303    3.938674    3.962376    3.934674    4.010884   \n",
      "min     23.400000   23.400000   23.400000   19.600000   23.400000   23.400000   \n",
      "25%     29.075000   28.975000   28.900000   28.900000   28.975000   29.075000   \n",
      "50%     31.750000   31.650000   31.550000   31.500000   31.550000   31.650000   \n",
      "75%     33.825000   33.900000   33.825000   33.625000   33.725000   33.825000   \n",
      "max     42.900000   40.300000   44.400000   44.800000   42.800000   44.300000   \n",
      "\n",
      "             1806        1807        1808        1809  ...        2091  \\\n",
      "count  184.000000  184.000000  184.000000  184.000000  ...  184.000000   \n",
      "mean    31.644565   31.598370   31.383152   31.310326  ...   83.758152   \n",
      "std      4.110598    3.981247    4.087872    4.040580  ...    5.600794   \n",
      "min     23.400000   23.400000   12.500000   13.400000  ...   67.100000   \n",
      "25%     29.075000   29.075000   28.975000   28.875000  ...   79.500000   \n",
      "50%     31.750000   31.750000   31.550000   31.500000  ...   84.200000   \n",
      "75%     33.925000   33.925000   33.725000   33.625000  ...   88.125000   \n",
      "max     45.800000   43.600000   43.500000   41.700000  ...   93.700000   \n",
      "\n",
      "            2092        2093        2094        2095        2096        2097  \\\n",
      "count  184.00000  184.000000  184.000000  184.000000  184.000000  184.000000   \n",
      "mean    83.87663   83.996196   84.119022   84.236957   84.358152   84.478804   \n",
      "std      5.59444    5.589074    5.577601    5.570850    5.566060    5.556903   \n",
      "min     67.30000   67.400000   67.500000   67.600000   67.700000   67.800000   \n",
      "25%     79.70000   79.800000   79.900000   80.075000   80.200000   80.375000   \n",
      "50%     84.35000   84.450000   84.550000   84.650000   84.750000   84.850000   \n",
      "75%     88.22500   88.325000   88.500000   88.600000   88.700000   88.800000   \n",
      "max     93.90000   94.000000   94.100000   94.200000   94.300000   94.400000   \n",
      "\n",
      "             2098       2099        2100  \n",
      "count  184.000000  184.00000  184.000000  \n",
      "mean    84.593478   84.71087   84.829891  \n",
      "std      5.550234    5.54055    5.532609  \n",
      "min     67.900000   68.00000   68.100000  \n",
      "25%     80.475000   80.57500   80.775000  \n",
      "50%     85.000000   85.15000   85.250000  \n",
      "75%     88.900000   89.00000   89.100000  \n",
      "max     94.500000   94.70000   94.800000  \n",
      "\n",
      "[8 rows x 301 columns]\n",
      "# # # Amount of countries in dataset # # # \n",
      "184\n",
      "# # # Amount of null entries per column # # # \n",
      "country    0\n",
      "1800       0\n",
      "1801       0\n",
      "1802       0\n",
      "1803       0\n",
      "          ..\n",
      "2096       0\n",
      "2097       0\n",
      "2098       0\n",
      "2099       0\n",
      "2100       0\n",
      "Length: 302, dtype: int64\n",
      "# # # Overall amount of null entries in dataset # # # \n",
      "0\n",
      "# # # Column names # # # \n",
      "Index(['country', '1800', '1801', '1802', '1803', '1804', '1805', '1806',\n",
      "       '1807', '1808',\n",
      "       ...\n",
      "       '2091', '2092', '2093', '2094', '2095', '2096', '2097', '2098', '2099',\n",
      "       '2100'],\n",
      "      dtype='object', length=302)\n"
     ]
    }
   ],
   "source": [
    "print('# # # Dataset information # # # \\n')\n",
    "print(df_orig.info())\n",
    "print(f'# # # Pandas built-in statistical discription of dataset columns # # # \\n{df_orig.describe()}')\n",
    "print(f'# # # Amount of countries in dataset # # # \\n{df_orig.country.nunique()}')\n",
    "print(f'# # # Amount of null entries per column # # # \\n{df_orig.isna().sum()}')\n",
    "print(f'# # # Overall amount of null entries in dataset # # # \\n{df_orig.isna().sum().sum()}')\n",
    "print(f'# # # Column names # # # \\n{df_orig.columns}')"
   ]
  },
  {
   "cell_type": "markdown",
   "metadata": {
    "cell_id": "00003-a1cc4a33-7e5d-4b4b-8f44-4f5947f53baa",
    "deepnote_cell_type": "markdown",
    "tags": []
   },
   "source": [
    "Dataset contains some null values, which are dropped in the preprocessing step"
   ]
  },
  {
   "cell_type": "markdown",
   "metadata": {
    "cell_id": "00004-5a72cef2-0993-46ee-be56-c5ea1f6608ab",
    "deepnote_cell_type": "markdown",
    "tags": []
   },
   "source": [
    "#### Descriptive Statistics\n",
    "\n",
    "We decided to implement a few functions, that will help to discover stories that this particular data can tell us."
   ]
  },
  {
   "cell_type": "code",
   "execution_count": 4,
   "metadata": {
    "cell_id": "00003-90a94a11-42f4-4964-89c3-885be9da55ca",
    "deepnote_cell_type": "code",
    "deepnote_to_be_reexecuted": false,
    "execution_millis": 306,
    "execution_start": 1610404806099,
    "source_hash": "9d5363b9",
    "tags": []
   },
   "outputs": [
    {
     "data": {
      "application/vnd.jupyter.widget-view+json": {
       "model_id": "2d8014ebd4a6413880292f9ff5127945",
       "version_major": 2,
       "version_minor": 0
      },
      "text/plain": [
       "interactive(children=(IntRangeSlider(value=(1950, 2000), description='range slider', max=2100, min=1800), Outp…"
      ]
     },
     "metadata": {},
     "output_type": "display_data"
    }
   ],
   "source": [
    "df_orig = df_orig.dropna()\n",
    "\n",
    "# Descriptive statistics\n",
    "@interact(years=widgets.IntRangeSlider(value=(1950, 2000), min=1800, max=2100, step=1, description='range slider'))\n",
    "def barplot_top5(years):\n",
    "    '''\n",
    "    Function that plots top 5 countries depending on the attribute of interest and years\n",
    "    \n",
    "    :param year_from: lower boundary year of interest\n",
    "    :param year_to: upper boundary year of interest\n",
    "    \n",
    "    :return: two bar plots, one for selected period of time and second for upper boundary year\n",
    "    '''\n",
    "    \n",
    "    # search only entries with selected year\n",
    "    year_from, year_to = years[0], years[1]\n",
    "    year_on = str(year_to)\n",
    "    fig, ax = plt.subplots(1, 2, figsize=(16, 7), sharex=True)\n",
    "    temp = df_orig.copy()\n",
    "    # take top 5 countries\n",
    "    maxes = temp[year_on].nlargest(5)\n",
    "    # plot the bar plot using seaborn framework\n",
    "    ax[0].bar(temp.country.loc[maxes.index], maxes)\n",
    "    ax[0].set_title(f\"Top 5 countries life expectancy over year {year_on}\")\n",
    "    \n",
    "    # now search entries between two year values\n",
    "    temp = df[df['year'].between(year_from, year_to, inclusive=True)]\n",
    "    # take only country columns\n",
    "    xx = [i for i in temp.columns[1:]]\n",
    "    # create new list for tuples of format (country, mean)\n",
    "    res = []\n",
    "    for i in xx:\n",
    "        # iterate by country and take mean\n",
    "        means = temp[i].mean()\n",
    "        res.append((i, means))\n",
    "    # sort in descending order\n",
    "    res = sorted(res, key=lambda x:x[1], reverse=True)\n",
    "    # take top-5 countries\n",
    "    best_means = res[:5]\n",
    "    country_names, means = [i for i,j in best_means], [j for i,j in best_means]\n",
    "    #plot the barplot\n",
    "    ax[1].bar(country_names, means)\n",
    "    ax[1].set_title(f\"Top 5 countries mean life expectancy over period from {year_from} to {year_to}\")\n",
    "    plt.show()"
   ]
  },
  {
   "cell_type": "code",
   "execution_count": 5,
   "metadata": {
    "cell_id": "00005-0eb4cfd2-9085-4c50-a776-3a5d1f4210b6",
    "deepnote_cell_type": "code",
    "deepnote_to_be_reexecuted": false,
    "execution_millis": 263,
    "execution_start": 1610404806407,
    "source_hash": "ce98e236",
    "tags": []
   },
   "outputs": [
    {
     "data": {
      "image/png": "[encoded data removed]",
      "text/plain": [
       "<Figure size 1152x504 with 2 Axes>"
      ]
     },
     "metadata": {
      "needs_background": "light"
     },
     "output_type": "display_data"
    }
   ],
   "source": [
    "barplot_top5((2000, 2020))"
   ]
  },
  {
   "cell_type": "markdown",
   "metadata": {
    "cell_id": "00007-df542f00-dfee-44be-9d36-f8f570abf0c2",
    "deepnote_cell_type": "markdown",
    "tags": []
   },
   "source": [
    "By using this boxplot function, we can see which countries are leading in life expectancy during particular period of time. By particularly looking at years 2000 to 2020, we can conclude that Japan, Singapore, Switzerland, Iceland and Italy are leading in year 2020, as well as in period from year 2000 to 2020. "
   ]
  },
  {
   "cell_type": "code",
   "execution_count": 6,
   "metadata": {
    "cell_id": "00010-99968ebe-b684-444f-bde2-7c182bd0154d",
    "deepnote_cell_type": "code",
    "deepnote_to_be_reexecuted": false,
    "execution_millis": 3,
    "execution_start": 1610404806675,
    "source_hash": "1cc33b01",
    "tags": []
   },
   "outputs": [],
   "source": [
    "# Descriptive statistics\n",
    "# added init for temp -> so i can use in my plot too LG Robert\n",
    "def linear_plot(countries, temp=df.copy()):\n",
    "    '''\n",
    "    Function to plot change of some attribute in selected countries over time\n",
    "    \n",
    "    :param countries: input countries list\n",
    "    :return: multiple linear plot \n",
    "    '''\n",
    "    # select each country from countries list\n",
    "    for country in countries:  \n",
    "        years, att = temp['year'], temp[country]\n",
    "        # plot results\n",
    "        plt.plot(years, att, label=f'{country}', lw=0.7)\n",
    "        # set title\n",
    "        plt.title(f'Change in life expectancy over period from 1800 to 2100')\n",
    "        # set x and y labels\n",
    "        plt.xlabel('year')\n",
    "        plt.ylabel('life expectancy')\n",
    "        # include plot legend for better navigation\n",
    "        plt.legend()"
   ]
  },
  {
   "cell_type": "code",
   "execution_count": 7,
   "metadata": {
    "cell_id": "00010-f0a89e2a-10e1-4942-aa67-c18eb609fe9b",
    "deepnote_cell_type": "code",
    "deepnote_to_be_reexecuted": false,
    "execution_millis": 282,
    "execution_start": 1610404806701,
    "source_hash": "2b7ec058",
    "tags": []
   },
   "outputs": [
    {
     "data": {
      "application/vnd.jupyter.widget-view+json": {
       "model_id": "4603a8c9b3774eefa94c019def0a02f9",
       "version_major": 2,
       "version_minor": 0
      },
      "text/plain": [
       "interactive(children=(SelectMultiple(description='Country:', index=(8,), options=('Afghanistan', 'Albania', 'A…"
      ]
     },
     "metadata": {},
     "output_type": "display_data"
    }
   ],
   "source": [
    "# init\n",
    "selection = df.columns.drop('year')\n",
    "\n",
    "# create selection menu\n",
    "toggle_y = widgets.SelectMultiple(options=selection, value=['Austria'], description=\"Country:\", disabled=False)\n",
    "smooth_slider =widgets.IntSlider(min=1, max=30, step=1, value=1, description=\"Smooth:\")\n",
    "mean_checkbox = widgets.Checkbox(False, description=\"Dataset Mean\")\n",
    "\n",
    "data_mean = df.mean(axis = 1).rolling(30).sum()/30\n",
    "\n",
    "@interact(selected_countries=toggle_y, smooth=smooth_slider, mean=mean_checkbox)\n",
    "def react_select(selected_countries, smooth, mean):\n",
    "    \n",
    "    # init\n",
    "    local_df = df.copy()\n",
    "    countries = df.columns.drop('year')\n",
    "    selected_countries = list(selected_countries)\n",
    "    \n",
    "    # add mean to data\n",
    "    local_df['mean'] = data_mean\n",
    "    if mean:\n",
    "        selected_countries.insert(0, 'mean')\n",
    "\n",
    "    # smooth plot according to slider settings\n",
    "    for c in countries:\n",
    "        local_df[c] = local_df[c].rolling(smooth).sum()/smooth\n",
    "    local_df.dropna()\n",
    "\n",
    "    linear_plot(selected_countries, local_df)"
   ]
  },
  {
   "cell_type": "code",
   "execution_count": 8,
   "metadata": {
    "cell_id": "00011-62e05734-b20d-4eac-bc1d-8678039402a6",
    "deepnote_cell_type": "code",
    "deepnote_to_be_reexecuted": false,
    "execution_millis": 145,
    "execution_start": 1610404807058,
    "source_hash": "eda9e676",
    "tags": []
   },
   "outputs": [
    {
     "data": {
      "image/png": "[encoded data removed]",
      "text/plain": [
       "<Figure size 432x288 with 1 Axes>"
      ]
     },
     "metadata": {
      "needs_background": "light"
     },
     "output_type": "display_data"
    }
   ],
   "source": [
    "linear_plot(['Austria', 'Germany'])"
   ]
  },
  {
   "cell_type": "code",
   "execution_count": 9,
   "metadata": {
    "cell_id": "00015-fa232d7e-7a13-4dcf-acc9-1a7e3a434ac4",
    "deepnote_cell_type": "code",
    "deepnote_to_be_reexecuted": false,
    "execution_millis": 163,
    "execution_start": 1610404807218,
    "source_hash": "b92d6d82",
    "tags": []
   },
   "outputs": [
    {
     "data": {
      "image/png": "[encoded data removed]",
      "text/plain": [
       "<Figure size 432x288 with 1 Axes>"
      ]
     },
     "metadata": {
      "needs_background": "light"
     },
     "output_type": "display_data"
    }
   ],
   "source": [
    "linear_plot(['Russia', 'Japan', 'United States'])"
   ]
  },
  {
   "cell_type": "markdown",
   "metadata": {
    "cell_id": "00012-bdd48867-dd70-40d4-a7c6-a43b6be1a31b",
    "deepnote_cell_type": "markdown",
    "tags": []
   },
   "source": [
    "Linear plots can show us some interesting patterns in life expectancy changes during different events happened around the globe. For example, it can be clearly seen, that in period from 1900 to 1950 two World Wars took place and numerous countries had death rate spikes, which obviously lowered life expectancy. Using linear plot to represent each country can lead to quite a big amount of plots, so instead of overplotting we decided to show life expectancy changes using interactive choropleth plot (world map), where it is possible to choose time period of interest and have a look on all the countries around the globe at once."
   ]
  },
  {
   "cell_type": "code",
   "execution_count": 10,
   "metadata": {
    "cell_id": "00012-10c562da-89d7-4792-a2b0-81eb7bdc5b93",
    "deepnote_cell_type": "code",
    "deepnote_to_be_reexecuted": false,
    "execution_millis": 1,
    "execution_start": 1610404807429,
    "source_hash": "1579c7bd",
    "tags": []
   },
   "outputs": [],
   "source": [
    "# Country ISO codes\n",
    "ISOs_Country = {\n",
    "'ABW':'Aruba', 'AFG':'Afghanistan','AGO':'Angola','AIA':'Anguilla','ALA':'Åland Islands','ALB':'Albania',\n",
    "'AND':'Andorra','ARE':'United Arab Emirates','ARG':'Argentina','ARM':'Armenia','ASM':'American Samoa',\n",
    "'ATA':'Antarctica','ATF':'French Southern Territories','ATG':'Antigua and Barbuda','AUS':'Australia',\n",
    "'AUT':'Austria','AZE':'Azerbaijan','BDI':'Burundi','BEL':'Belgium','BEN':'Benin',\n",
    "'BES':'Bonaire, Sint Eustatius and Saba','BFA':'Burkina Faso','BGD':'Bangladesh','BGR':'Bulgaria',\n",
    "'BHR':'Bahrain','BHS':'Bahamas','BIH':'Bosnia and Herzegovina','BLM':'Saint Barthélemy','BLR':'Belarus',\n",
    "'BLZ':'Belize','BMU':'Bermuda','BOL':'Bolivia','BRA':'Brazil','BRB':'Barbados',\n",
    "'BRN':'Brunei','BTN':'Bhutan','BVT':'Bouvet Island','BWA':'Botswana','CAF':'Central African Republic',\n",
    "'CAN':'Canada','CCK':'Cocos (Keeling) Islands','CHE':'Switzerland','CHL':'Chile','CHN':'China',\n",
    "'CIV':'Cote d\\'Ivoire','CMR':'Cameroon','COD':'Congo, Dem. Rep.','COG':'Congo, Rep.',\n",
    "'COK':'Cook Islands','COL':'Colombia','COM':'Comoros','CPV':'Cape Verde','CRI':'Costa Rica','CUB':'Cuba',\n",
    "'CUW':'Curaçao','CXR':'Christmas Island','CYM':'Cayman Islands','CYP':'Cyprus','CZE':'Czech Republic',\n",
    "'DEU':'Germany','DJI':'Djibouti','DMA':'Dominica','DNK':'Denmark','DOM':'Dominican Republic','DZA':'Algeria',\n",
    "'ECU':'Ecuador','EGY':'Egypt','ERI':'Eritrea','ESH':'Western Sahara','ESP':'Spain','EST':'Estonia',\n",
    "'ETH':'Ethiopia','FIN':'Finland','FJI':'Fiji','FLK':'Falkland Islands (Malvinas)','FRA':'France',\n",
    "'FRO':'Faroe Islands','FSM':'Micronesia (Federated States of)','GAB':'Gabon',\n",
    "'GBR':'United Kingdom','GEO':'Georgia','GGY':'Guernsey','GHA':'Ghana',\n",
    "'GIB':'Gibraltar','GIN':'Guinea','GLP':'Guadeloupe','GMB':'Gambia','GNB':'Guinea-Bissau',\n",
    "'GNQ':'Equatorial Guinea','GRC':'Greece','GRD':'Grenada','GRL':'Greenland','GTM':'Guatemala',\n",
    "'GUF':'French Guiana','GUM':'Guam','GUY':'Guyana','HKG':'Hong Kong','HMD':'Heard Island and McDonald Islands',\n",
    "'HND':'Honduras','HRV':'Croatia','HTI':'Haiti','HUN':'Hungary','IDN':'Indonesia','IMN':'Isle of Man',\n",
    "'IND':'India','IOT':'British Indian Ocean Territory','IRL':'Ireland','IRN':'Iran',\n",
    "'IRQ':'Iraq','ISL':'Iceland','ISR':'Israel','ITA':'Italy','JAM':'Jamaica','JEY':'Jersey','JOR':'Jordan',\n",
    "'JPN':'Japan','KAZ':'Kazakhstan','KEN':'Kenya','KGZ':'Kyrgyz Republic','KHM':'Cambodia','KIR':'Kiribati',\n",
    "'KNA':'Saint Kitts and Nevis','KOR':'South Korea','KWT':'Kuwait','LAO':'Lao',\n",
    "'LBN':'Lebanon','LBR':'Liberia','LBY':'Libya','LCA':'Saint Lucia', 'LIE':'Liechtenstein','LKA':'Sri Lanka',\n",
    "'LSO':'Lesotho','LTU':'Lithuania','LUX':'Luxembourg','LVA':'Latvia','MAC':'Macao',\n",
    "'MAF':'Saint Martin (French part)','MAR':'Morocco','MCO':'Monaco','MDA':'Republic of Moldova',\n",
    "'MDG':'Madagascar','MDV':'Maldives','MEX':'Mexico','MHL':'Marshall Islands','MKD':'North Macedonia',\n",
    "'MLI':'Mali','MLT':'Malta','MMR':'Myanmar','MNE':'Montenegro','MNG':'Mongolia','MNP':'Northern Mariana Islands',\n",
    "'MOZ':'Mozambique','MRT':'Mauritania','MSR':'Montserrat','MTQ':'Martinique','MUS':'Mauritius','MWI':'Malawi',\n",
    "'MYS':'Malaysia','MYT':'Mayotte','NAM':'Namibia','NCL':'New Caledonia','NER':'Niger','NFK':'Norfolk Island',\n",
    "'NGA':'Nigeria','NIC':'Nicaragua','NIU':'Niue','NLD':'Netherlands','NOR':'Norway','NPL':'Nepal','NRU':'Nauru',\n",
    "'NZL':'New Zealand','OMN':'Oman','PAK':'Pakistan','PAN':'Panama','PCN':'Pitcairn','PER':'Peru','PHL':'Philippines',\n",
    "'PLW':'Palau','PNG':'Papua New Guinea','POL':'Poland','PRI':'Puerto Rico','PRK':'North Korea',\n",
    "'PRT':'Portugal','PRY':'Paraguay','PSE':'Palestine','PYF':'French Polynesia','QAT':'Qatar','REU':'Réunion',\n",
    "'ROU':'Romania','RUS':'Russia','RWA':'Rwanda','SAU':'Saudi Arabia','SDN':'Sudan','SEN':'Senegal',\n",
    "'SGP':'Singapore','SGS':'South Georgia and the South Sandwich Islands','SHN':'Saint Helena, Ascension and Tristan da Cunha',\n",
    "'SJM':'Svalbard and Jan Mayen','SLB':'Solomon Islands','SLE':'Sierra Leone','SLV':'El Salvador','SMR':'San Marino',\n",
    "'SOM':'Somalia','SPM':'Saint Pierre and Miquelon','SRB':'Serbia','SSD':'South Sudan','STP':'Sao Tome and Principe',\n",
    "'SUR':'Suriname','SVK':'Slovak Republic','SVN':'Slovenia','SWE':'Sweden','SWZ':'Eswatini','SXM':'Sint Maarten (Dutch part)',\n",
    "'SYC':'Seychelles','SYR':'Syria','TCA':'Turks and Caicos Islands','TCD':'Chad','TGO':'Togo',\n",
    "'THA':'Thailand','TJK':'Tajikistan','TKL':'Tokelau','TKM':'Turkmenistan','TLS':'Timor-Leste','TON':'Tonga',\n",
    "'TTO':'Trinidad and Tobago','TUN':'Tunisia','TUR':'Turkey','TUV':'Tuvalu','TWN':'Taiwan, Province of China',\n",
    "'TZA':'Tanzania','UGA':'Uganda','UKR':'Ukraine','UMI':'United States Minor Outlying Islands',\n",
    "'URY':'Uruguay','USA':'United States','UZB':'Uzbekistan','VAT':'Holy See','VCT':'Saint Vincent and the Grenadines',\n",
    "'VEN':'Venezuela','VGB':'Virgin Islands (British)','VIR':'Virgin Islands (U.S.)','VNM':'Vietnam',\n",
    "'VUT':'Vanuatu','WLF':'Wallis and Futuna','WSM':'Samoa','YEM':'Yemen','ZAF':'South Africa','ZMB':'Zambia',\n",
    "'ZWE':'Zimbabwe'}\n"
   ]
  },
  {
   "cell_type": "code",
   "execution_count": 11,
   "metadata": {
    "cell_id": "00018-8b15c249-4527-40ac-bf6d-33920ff2b147",
    "deepnote_cell_type": "code",
    "deepnote_to_be_reexecuted": false,
    "execution_millis": 2050,
    "execution_start": 1610404807430,
    "source_hash": "a8989238",
    "tags": []
   },
   "outputs": [
    {
     "name": "stdout",
     "output_type": "stream",
     "text": [
      "Defaulting to user installation because normal site-packages is not writeable\n",
      "Requirement already satisfied: plotly in c:\\users\\bollo\\appdata\\roaming\\python\\python37\\site-packages (4.14.1)\n",
      "Requirement already satisfied: six in c:\\program files (x86)\\anaconda\\lib\\site-packages (from plotly) (1.15.0)\n",
      "Requirement already satisfied: retrying>=1.3.3 in c:\\program files (x86)\\anaconda\\lib\\site-packages (from plotly) (1.3.3)\n"
     ]
    },
    {
     "data": {
      "application/vnd.jupyter.widget-view+json": {
       "model_id": "6e0dc4b956094973b925682a82b77e59",
       "version_major": 2,
       "version_minor": 0
      },
      "text/plain": [
       "interactive(children=(IntRangeSlider(value=(1950, 2000), description='range slider', max=2100, min=1800, step=…"
      ]
     },
     "metadata": {},
     "output_type": "display_data"
    }
   ],
   "source": [
    "# Descriptive statistics\n",
    "!pip install plotly\n",
    "import plotly.graph_objects as go\n",
    "from plotly.subplots import make_subplots\n",
    "import plotly.express as px\n",
    "\n",
    "# widget to choose years range\n",
    "@interact(years=widgets.IntRangeSlider(value=(1950, 2000), min=1800, max=2100, step=2, description='range slider'))\n",
    "def world_map_plot(years):\n",
    "    \n",
    "    '''\n",
    "        Plots interactive world map with mean life expectancy over some period.\n",
    "        :param years: tuple containing lower and upper boundary years\n",
    "        :returns: interactive world map\n",
    "    '''\n",
    "    \n",
    "    # sort dataframe by chosen period of time\n",
    "    temp = df[df['year'].between(years[0], years[1], inclusive=True)]\n",
    "    xx = [i for i in temp.columns[1:]]\n",
    "    res = []\n",
    "    for i in xx:\n",
    "        # get means for each country in selected period\n",
    "        means = temp[i].mean()\n",
    "        res.append((i, means))\n",
    "    #res = sorted(res, key=lambda x:x[1], reverse=True)\n",
    "\n",
    "    isos = {}\n",
    "    for key, value in ISOs_Country.items():\n",
    "        isos[value] = key\n",
    "    \n",
    "    # create list with iso codes for correctness of plot\n",
    "    iso_codes = []\n",
    "    erroneous_strs = [] # DEBUG\n",
    "    for i in [i for i,j in res]:\n",
    "        try:\n",
    "            iso_codes.append(isos[i])\n",
    "        except KeyError:\n",
    "            erroneous_strs.append(i) # DEBUG\n",
    "            iso_codes.append(' ')\n",
    "    \n",
    "    print(erroneous_strs) # DEBUG\n",
    "    \n",
    "    # create dictionary that will serve as pseudo dataframe input for plotly\n",
    "    pseudo_df = {}\n",
    "    pseudo_df['Countries'], pseudo_df['Mean Life Expectancy'] = [i for i,j in res], [j for i,j in res]\n",
    "    pseudo_df['ISO'] = iso_codes\n",
    "    \n",
    "    # plot the map\n",
    "    fig = px.choropleth(pseudo_df, locations = 'ISO', \n",
    "                      hover_name='Countries',\n",
    "                      color='Mean Life Expectancy'\n",
    "                       )\n",
    "\n",
    "    fig.update_layout(title_text = 'World Life Expectancy',\n",
    "                      title_x = 0.5,\n",
    "                      geo=dict(\n",
    "                      showframe = False,\n",
    "                      showcoastlines = False)\n",
    "                    )\n",
    "    \n",
    "    \n",
    "    fig.show()"
   ]
  },
  {
   "cell_type": "code",
   "execution_count": 12,
   "metadata": {
    "cell_id": "00019-3c94a4c2-13ef-4454-b503-bfb8a3b2e56a",
    "deepnote_cell_type": "code",
    "deepnote_to_be_reexecuted": false,
    "execution_millis": 92,
    "execution_start": 1610404809485,
    "source_hash": "6671b9ed",
    "tags": []
   },
   "outputs": [
    {
     "name": "stdout",
     "output_type": "stream",
     "text": [
      "['Micronesia, Fed. Sts.', 'Moldova', 'St. Lucia', 'St. Vincent and the Grenadines']\n"
     ]
    },
    {
     "data": {
      "application/vnd.plotly.v1+json": {
       "config": {
        "plotlyServerURL": "https://plot.ly"
       },
       "data": [
        {
         "coloraxis": "coloraxis",
         "geo": "geo",
         "hovertemplate": "<b>%{hovertext}</b><br><br>ISO=%{location}<br>Mean Life Expectancy=%{z}<extra></extra>",
         "hovertext": [
          "Afghanistan",
          "Albania",
          "Algeria",
          "Angola",
          "Antigua and Barbuda",
          "Argentina",
          "Armenia",
          "Australia",
          "Austria",
          "Azerbaijan",
          "Bahamas",
          "Bahrain",
          "Bangladesh",
          "Barbados",
          "Belarus",
          "Belgium",
          "Belize",
          "Benin",
          "Bhutan",
          "Bolivia",
          "Bosnia and Herzegovina",
          "Botswana",
          "Brazil",
          "Brunei",
          "Bulgaria",
          "Burkina Faso",
          "Burundi",
          "Cambodia",
          "Cameroon",
          "Canada",
          "Cape Verde",
          "Central African Republic",
          "Chad",
          "Chile",
          "China",
          "Colombia",
          "Comoros",
          "Congo, Dem. Rep.",
          "Congo, Rep.",
          "Costa Rica",
          "Cote d'Ivoire",
          "Croatia",
          "Cuba",
          "Cyprus",
          "Czech Republic",
          "Denmark",
          "Djibouti",
          "Dominican Republic",
          "Ecuador",
          "Egypt",
          "El Salvador",
          "Equatorial Guinea",
          "Eritrea",
          "Estonia",
          "Eswatini",
          "Ethiopia",
          "Fiji",
          "Finland",
          "France",
          "Gabon",
          "Gambia",
          "Georgia",
          "Germany",
          "Ghana",
          "Greece",
          "Grenada",
          "Guatemala",
          "Guinea",
          "Guinea-Bissau",
          "Guyana",
          "Haiti",
          "Honduras",
          "Hungary",
          "Iceland",
          "India",
          "Indonesia",
          "Iran",
          "Iraq",
          "Ireland",
          "Israel",
          "Italy",
          "Jamaica",
          "Japan",
          "Jordan",
          "Kazakhstan",
          "Kenya",
          "Kiribati",
          "Kuwait",
          "Kyrgyz Republic",
          "Lao",
          "Latvia",
          "Lebanon",
          "Lesotho",
          "Liberia",
          "Libya",
          "Lithuania",
          "Luxembourg",
          "Madagascar",
          "Malawi",
          "Malaysia",
          "Maldives",
          "Mali",
          "Malta",
          "Mauritania",
          "Mauritius",
          "Mexico",
          "Micronesia, Fed. Sts.",
          "Moldova",
          "Mongolia",
          "Montenegro",
          "Morocco",
          "Mozambique",
          "Myanmar",
          "Namibia",
          "Nepal",
          "Netherlands",
          "New Zealand",
          "Nicaragua",
          "Niger",
          "Nigeria",
          "North Korea",
          "North Macedonia",
          "Norway",
          "Oman",
          "Pakistan",
          "Palestine",
          "Panama",
          "Papua New Guinea",
          "Paraguay",
          "Peru",
          "Philippines",
          "Poland",
          "Portugal",
          "Qatar",
          "Romania",
          "Russia",
          "Rwanda",
          "Samoa",
          "Sao Tome and Principe",
          "Saudi Arabia",
          "Senegal",
          "Serbia",
          "Seychelles",
          "Sierra Leone",
          "Singapore",
          "Slovak Republic",
          "Slovenia",
          "Solomon Islands",
          "Somalia",
          "South Africa",
          "South Korea",
          "South Sudan",
          "Spain",
          "Sri Lanka",
          "St. Lucia",
          "St. Vincent and the Grenadines",
          "Sudan",
          "Suriname",
          "Sweden",
          "Switzerland",
          "Syria",
          "Tajikistan",
          "Tanzania",
          "Thailand",
          "Timor-Leste",
          "Togo",
          "Tonga",
          "Trinidad and Tobago",
          "Tunisia",
          "Turkey",
          "Turkmenistan",
          "Uganda",
          "Ukraine",
          "United Arab Emirates",
          "United Kingdom",
          "United States",
          "Uruguay",
          "Uzbekistan",
          "Vanuatu",
          "Venezuela",
          "Vietnam",
          "Yemen",
          "Zambia",
          "Zimbabwe"
         ],
         "locations": [
          "AFG",
          "ALB",
          "DZA",
          "AGO",
          "ATG",
          "ARG",
          "ARM",
          "AUS",
          "AUT",
          "AZE",
          "BHS",
          "BHR",
          "BGD",
          "BRB",
          "BLR",
          "BEL",
          "BLZ",
          "BEN",
          "BTN",
          "BOL",
          "BIH",
          "BWA",
          "BRA",
          "BRN",
          "BGR",
          "BFA",
          "BDI",
          "KHM",
          "CMR",
          "CAN",
          "CPV",
          "CAF",
          "TCD",
          "CHL",
          "CHN",
          "COL",
          "COM",
          "COD",
          "COG",
          "CRI",
          "CIV",
          "HRV",
          "CUB",
          "CYP",
          "CZE",
          "DNK",
          "DJI",
          "DOM",
          "ECU",
          "EGY",
          "SLV",
          "GNQ",
          "ERI",
          "EST",
          "SWZ",
          "ETH",
          "FJI",
          "FIN",
          "FRA",
          "GAB",
          "GMB",
          "GEO",
          "DEU",
          "GHA",
          "GRC",
          "GRD",
          "GTM",
          "GIN",
          "GNB",
          "GUY",
          "HTI",
          "HND",
          "HUN",
          "ISL",
          "IND",
          "IDN",
          "IRN",
          "IRQ",
          "IRL",
          "ISR",
          "ITA",
          "JAM",
          "JPN",
          "JOR",
          "KAZ",
          "KEN",
          "KIR",
          "KWT",
          "KGZ",
          "LAO",
          "LVA",
          "LBN",
          "LSO",
          "LBR",
          "LBY",
          "LTU",
          "LUX",
          "MDG",
          "MWI",
          "MYS",
          "MDV",
          "MLI",
          "MLT",
          "MRT",
          "MUS",
          "MEX",
          " ",
          " ",
          "MNG",
          "MNE",
          "MAR",
          "MOZ",
          "MMR",
          "NAM",
          "NPL",
          "NLD",
          "NZL",
          "NIC",
          "NER",
          "NGA",
          "PRK",
          "MKD",
          "NOR",
          "OMN",
          "PAK",
          "PSE",
          "PAN",
          "PNG",
          "PRY",
          "PER",
          "PHL",
          "POL",
          "PRT",
          "QAT",
          "ROU",
          "RUS",
          "RWA",
          "WSM",
          "STP",
          "SAU",
          "SEN",
          "SRB",
          "SYC",
          "SLE",
          "SGP",
          "SVK",
          "SVN",
          "SLB",
          "SOM",
          "ZAF",
          "KOR",
          "SSD",
          "ESP",
          "LKA",
          " ",
          " ",
          "SDN",
          "SUR",
          "SWE",
          "CHE",
          "SYR",
          "TJK",
          "TZA",
          "THA",
          "TLS",
          "TGO",
          "TON",
          "TTO",
          "TUN",
          "TUR",
          "TKM",
          "UGA",
          "UKR",
          "ARE",
          "GBR",
          "USA",
          "URY",
          "UZB",
          "VUT",
          "VEN",
          "VNM",
          "YEM",
          "ZMB",
          "ZWE"
         ],
         "name": "",
         "type": "choropleth",
         "z": [
          25.894,
          32.2,
          29.2,
          26.419999999999998,
          31.52,
          45.4,
          34.779999999999994,
          57.56,
          44.68,
          30.459999999999997,
          32.54,
          29.660000000000004,
          20.4,
          30.78,
          36.7,
          40.4,
          29.3,
          28.54,
          30.68,
          33.54,
          32.3,
          29.32,
          31.4,
          30.48,
          42,
          27.24,
          28.080000000000002,
          33.660000000000004,
          25.310000000000002,
          53.08,
          31.6,
          27.839999999999996,
          30.839999999999996,
          31.6,
          30.080000000000002,
          32.46,
          28.96,
          28.919999999999998,
          27.52,
          34.78,
          29.360000000000003,
          31.68,
          34.379999999999995,
          42.86000000000001,
          45,
          57.44,
          28.559999999999995,
          29.440000000000005,
          33.64,
          31.060000000000002,
          28.759999999999998,
          27.52,
          27.119999999999997,
          41.56,
          29.2,
          26.060000000000002,
          23.376,
          45.260000000000005,
          38.04,
          28.419999999999998,
          30.139999999999997,
          33.18,
          39.78,
          25.7,
          40.34,
          35.239999999999995,
          22.114,
          29.759999999999998,
          26.860000000000003,
          32.64,
          26.619999999999997,
          34.94,
          38.8,
          54,
          20.971999999999998,
          27.159999999999997,
          25.740000000000002,
          30.639999999999997,
          53.96,
          30.9,
          38.959999999999994,
          34.04,
          39.5,
          30.919999999999998,
          28.26,
          22.77,
          25.74,
          25.660000000000004,
          25.500000000000004,
          28.28,
          41.019999999999996,
          29,
          30.580000000000002,
          29.659999999999997,
          33.9,
          39.62,
          48.64,
          28.559999999999995,
          27.419999999999998,
          28.4,
          27.259999999999998,
          25.56,
          48.74,
          29.32,
          29.96,
          27.6,
          22.832,
          32.38,
          29.04,
          32.66,
          32.18,
          29.020000000000003,
          26.919999999999998,
          29.879999999999995,
          32.779999999999994,
          54.82000000000001,
          52.879999999999995,
          25.420000000000005,
          29.339999999999996,
          31.82,
          25.839999999999996,
          33.4,
          56.17999999999999,
          30.9,
          21.464,
          32.64,
          33.12,
          33.54,
          35.620000000000005,
          33.239999999999995,
          30.5,
          43.86,
          32.56,
          28.920000000000005,
          33.94,
          29.6,
          25.82,
          22.54,
          27.8,
          34.12,
          24.92,
          18.468,
          49.36,
          25.58,
          31.839999999999996,
          40.42,
          33.04,
          25.080000000000002,
          29.079999999999995,
          30.28,
          24.6,
          27.26,
          40.44,
          31.560000000000002,
          26.32,
          24.18,
          27.639999999999997,
          32.14,
          56.46,
          54.04,
          31.080000000000002,
          25.520000000000003,
          29.8,
          28.860000000000003,
          26.78,
          28.940000000000005,
          24.192,
          36.36,
          29.2,
          19.402,
          24.000000000000004,
          22.194,
          34.2,
          30.139999999999997,
          46.760000000000005,
          53.02,
          32.44,
          28.9,
          25.4,
          31.880000000000003,
          28.5,
          22.8,
          29.899999999999995,
          30.860000000000003
         ]
        }
       ],
       "layout": {
        "coloraxis": {
         "colorbar": {
          "title": {
           "text": "Mean Life Expectancy"
          }
         },
         "colorscale": [
          [
           0,
           "#0d0887"
          ],
          [
           0.1111111111111111,
           "#46039f"
          ],
          [
           0.2222222222222222,
           "#7201a8"
          ],
          [
           0.3333333333333333,
           "#9c179e"
          ],
          [
           0.4444444444444444,
           "#bd3786"
          ],
          [
           0.5555555555555556,
           "#d8576b"
          ],
          [
           0.6666666666666666,
           "#ed7953"
          ],
          [
           0.7777777777777778,
           "#fb9f3a"
          ],
          [
           0.8888888888888888,
           "#fdca26"
          ],
          [
           1,
           "#f0f921"
          ]
         ]
        },
        "geo": {
         "center": {},
         "domain": {
          "x": [
           0,
           1
          ],
          "y": [
           0,
           1
          ]
         },
         "showcoastlines": false,
         "showframe": false
        },
        "legend": {
         "tracegroupgap": 0
        },
        "margin": {
         "t": 60
        },
        "template": {
         "data": {
          "bar": [
           {
            "error_x": {
             "color": "#2a3f5f"
            },
            "error_y": {
             "color": "#2a3f5f"
            },
            "marker": {
             "line": {
              "color": "#E5ECF6",
              "width": 0.5
             }
            },
            "type": "bar"
           }
          ],
          "barpolar": [
           {
            "marker": {
             "line": {
              "color": "#E5ECF6",
              "width": 0.5
             }
            },
            "type": "barpolar"
           }
          ],
          "carpet": [
           {
            "aaxis": {
             "endlinecolor": "#2a3f5f",
             "gridcolor": "white",
             "linecolor": "white",
             "minorgridcolor": "white",
             "startlinecolor": "#2a3f5f"
            },
            "baxis": {
             "endlinecolor": "#2a3f5f",
             "gridcolor": "white",
             "linecolor": "white",
             "minorgridcolor": "white",
             "startlinecolor": "#2a3f5f"
            },
            "type": "carpet"
           }
          ],
          "choropleth": [
           {
            "colorbar": {
             "outlinewidth": 0,
             "ticks": ""
            },
            "type": "choropleth"
           }
          ],
          "contour": [
           {
            "colorbar": {
             "outlinewidth": 0,
             "ticks": ""
            },
            "colorscale": [
             [
              0,
              "#0d0887"
             ],
             [
              0.1111111111111111,
              "#46039f"
             ],
             [
              0.2222222222222222,
              "#7201a8"
             ],
             [
              0.3333333333333333,
              "#9c179e"
             ],
             [
              0.4444444444444444,
              "#bd3786"
             ],
             [
              0.5555555555555556,
              "#d8576b"
             ],
             [
              0.6666666666666666,
              "#ed7953"
             ],
             [
              0.7777777777777778,
              "#fb9f3a"
             ],
             [
              0.8888888888888888,
              "#fdca26"
             ],
             [
              1,
              "#f0f921"
             ]
            ],
            "type": "contour"
           }
          ],
          "contourcarpet": [
           {
            "colorbar": {
             "outlinewidth": 0,
             "ticks": ""
            },
            "type": "contourcarpet"
           }
          ],
          "heatmap": [
           {
            "colorbar": {
             "outlinewidth": 0,
             "ticks": ""
            },
            "colorscale": [
             [
              0,
              "#0d0887"
             ],
             [
              0.1111111111111111,
              "#46039f"
             ],
             [
              0.2222222222222222,
              "#7201a8"
             ],
             [
              0.3333333333333333,
              "#9c179e"
             ],
             [
              0.4444444444444444,
              "#bd3786"
             ],
             [
              0.5555555555555556,
              "#d8576b"
             ],
             [
              0.6666666666666666,
              "#ed7953"
             ],
             [
              0.7777777777777778,
              "#fb9f3a"
             ],
             [
              0.8888888888888888,
              "#fdca26"
             ],
             [
              1,
              "#f0f921"
             ]
            ],
            "type": "heatmap"
           }
          ],
          "heatmapgl": [
           {
            "colorbar": {
             "outlinewidth": 0,
             "ticks": ""
            },
            "colorscale": [
             [
              0,
              "#0d0887"
             ],
             [
              0.1111111111111111,
              "#46039f"
             ],
             [
              0.2222222222222222,
              "#7201a8"
             ],
             [
              0.3333333333333333,
              "#9c179e"
             ],
             [
              0.4444444444444444,
              "#bd3786"
             ],
             [
              0.5555555555555556,
              "#d8576b"
             ],
             [
              0.6666666666666666,
              "#ed7953"
             ],
             [
              0.7777777777777778,
              "#fb9f3a"
             ],
             [
              0.8888888888888888,
              "#fdca26"
             ],
             [
              1,
              "#f0f921"
             ]
            ],
            "type": "heatmapgl"
           }
          ],
          "histogram": [
           {
            "marker": {
             "colorbar": {
              "outlinewidth": 0,
              "ticks": ""
             }
            },
            "type": "histogram"
           }
          ],
          "histogram2d": [
           {
            "colorbar": {
             "outlinewidth": 0,
             "ticks": ""
            },
            "colorscale": [
             [
              0,
              "#0d0887"
             ],
             [
              0.1111111111111111,
              "#46039f"
             ],
             [
              0.2222222222222222,
              "#7201a8"
             ],
             [
              0.3333333333333333,
              "#9c179e"
             ],
             [
              0.4444444444444444,
              "#bd3786"
             ],
             [
              0.5555555555555556,
              "#d8576b"
             ],
             [
              0.6666666666666666,
              "#ed7953"
             ],
             [
              0.7777777777777778,
              "#fb9f3a"
             ],
             [
              0.8888888888888888,
              "#fdca26"
             ],
             [
              1,
              "#f0f921"
             ]
            ],
            "type": "histogram2d"
           }
          ],
          "histogram2dcontour": [
           {
            "colorbar": {
             "outlinewidth": 0,
             "ticks": ""
            },
            "colorscale": [
             [
              0,
              "#0d0887"
             ],
             [
              0.1111111111111111,
              "#46039f"
             ],
             [
              0.2222222222222222,
              "#7201a8"
             ],
             [
              0.3333333333333333,
              "#9c179e"
             ],
             [
              0.4444444444444444,
              "#bd3786"
             ],
             [
              0.5555555555555556,
              "#d8576b"
             ],
             [
              0.6666666666666666,
              "#ed7953"
             ],
             [
              0.7777777777777778,
              "#fb9f3a"
             ],
             [
              0.8888888888888888,
              "#fdca26"
             ],
             [
              1,
              "#f0f921"
             ]
            ],
            "type": "histogram2dcontour"
           }
          ],
          "mesh3d": [
           {
            "colorbar": {
             "outlinewidth": 0,
             "ticks": ""
            },
            "type": "mesh3d"
           }
          ],
          "parcoords": [
           {
            "line": {
             "colorbar": {
              "outlinewidth": 0,
              "ticks": ""
             }
            },
            "type": "parcoords"
           }
          ],
          "pie": [
           {
            "automargin": true,
            "type": "pie"
           }
          ],
          "scatter": [
           {
            "marker": {
             "colorbar": {
              "outlinewidth": 0,
              "ticks": ""
             }
            },
            "type": "scatter"
           }
          ],
          "scatter3d": [
           {
            "line": {
             "colorbar": {
              "outlinewidth": 0,
              "ticks": ""
             }
            },
            "marker": {
             "colorbar": {
              "outlinewidth": 0,
              "ticks": ""
             }
            },
            "type": "scatter3d"
           }
          ],
          "scattercarpet": [
           {
            "marker": {
             "colorbar": {
              "outlinewidth": 0,
              "ticks": ""
             }
            },
            "type": "scattercarpet"
           }
          ],
          "scattergeo": [
           {
            "marker": {
             "colorbar": {
              "outlinewidth": 0,
              "ticks": ""
             }
            },
            "type": "scattergeo"
           }
          ],
          "scattergl": [
           {
            "marker": {
             "colorbar": {
              "outlinewidth": 0,
              "ticks": ""
             }
            },
            "type": "scattergl"
           }
          ],
          "scattermapbox": [
           {
            "marker": {
             "colorbar": {
              "outlinewidth": 0,
              "ticks": ""
             }
            },
            "type": "scattermapbox"
           }
          ],
          "scatterpolar": [
           {
            "marker": {
             "colorbar": {
              "outlinewidth": 0,
              "ticks": ""
             }
            },
            "type": "scatterpolar"
           }
          ],
          "scatterpolargl": [
           {
            "marker": {
             "colorbar": {
              "outlinewidth": 0,
              "ticks": ""
             }
            },
            "type": "scatterpolargl"
           }
          ],
          "scatterternary": [
           {
            "marker": {
             "colorbar": {
              "outlinewidth": 0,
              "ticks": ""
             }
            },
            "type": "scatterternary"
           }
          ],
          "surface": [
           {
            "colorbar": {
             "outlinewidth": 0,
             "ticks": ""
            },
            "colorscale": [
             [
              0,
              "#0d0887"
             ],
             [
              0.1111111111111111,
              "#46039f"
             ],
             [
              0.2222222222222222,
              "#7201a8"
             ],
             [
              0.3333333333333333,
              "#9c179e"
             ],
             [
              0.4444444444444444,
              "#bd3786"
             ],
             [
              0.5555555555555556,
              "#d8576b"
             ],
             [
              0.6666666666666666,
              "#ed7953"
             ],
             [
              0.7777777777777778,
              "#fb9f3a"
             ],
             [
              0.8888888888888888,
              "#fdca26"
             ],
             [
              1,
              "#f0f921"
             ]
            ],
            "type": "surface"
           }
          ],
          "table": [
           {
            "cells": {
             "fill": {
              "color": "#EBF0F8"
             },
             "line": {
              "color": "white"
             }
            },
            "header": {
             "fill": {
              "color": "#C8D4E3"
             },
             "line": {
              "color": "white"
             }
            },
            "type": "table"
           }
          ]
         },
         "layout": {
          "annotationdefaults": {
           "arrowcolor": "#2a3f5f",
           "arrowhead": 0,
           "arrowwidth": 1
          },
          "autotypenumbers": "strict",
          "coloraxis": {
           "colorbar": {
            "outlinewidth": 0,
            "ticks": ""
           }
          },
          "colorscale": {
           "diverging": [
            [
             0,
             "#8e0152"
            ],
            [
             0.1,
             "#c51b7d"
            ],
            [
             0.2,
             "#de77ae"
            ],
            [
             0.3,
             "#f1b6da"
            ],
            [
             0.4,
             "#fde0ef"
            ],
            [
             0.5,
             "#f7f7f7"
            ],
            [
             0.6,
             "#e6f5d0"
            ],
            [
             0.7,
             "#b8e186"
            ],
            [
             0.8,
             "#7fbc41"
            ],
            [
             0.9,
             "#4d9221"
            ],
            [
             1,
             "#276419"
            ]
           ],
           "sequential": [
            [
             0,
             "#0d0887"
            ],
            [
             0.1111111111111111,
             "#46039f"
            ],
            [
             0.2222222222222222,
             "#7201a8"
            ],
            [
             0.3333333333333333,
             "#9c179e"
            ],
            [
             0.4444444444444444,
             "#bd3786"
            ],
            [
             0.5555555555555556,
             "#d8576b"
            ],
            [
             0.6666666666666666,
             "#ed7953"
            ],
            [
             0.7777777777777778,
             "#fb9f3a"
            ],
            [
             0.8888888888888888,
             "#fdca26"
            ],
            [
             1,
             "#f0f921"
            ]
           ],
           "sequentialminus": [
            [
             0,
             "#0d0887"
            ],
            [
             0.1111111111111111,
             "#46039f"
            ],
            [
             0.2222222222222222,
             "#7201a8"
            ],
            [
             0.3333333333333333,
             "#9c179e"
            ],
            [
             0.4444444444444444,
             "#bd3786"
            ],
            [
             0.5555555555555556,
             "#d8576b"
            ],
            [
             0.6666666666666666,
             "#ed7953"
            ],
            [
             0.7777777777777778,
             "#fb9f3a"
            ],
            [
             0.8888888888888888,
             "#fdca26"
            ],
            [
             1,
             "#f0f921"
            ]
           ]
          },
          "colorway": [
           "#636efa",
           "#EF553B",
           "#00cc96",
           "#ab63fa",
           "#FFA15A",
           "#19d3f3",
           "#FF6692",
           "#B6E880",
           "#FF97FF",
           "#FECB52"
          ],
          "font": {
           "color": "#2a3f5f"
          },
          "geo": {
           "bgcolor": "white",
           "lakecolor": "white",
           "landcolor": "#E5ECF6",
           "showlakes": true,
           "showland": true,
           "subunitcolor": "white"
          },
          "hoverlabel": {
           "align": "left"
          },
          "hovermode": "closest",
          "mapbox": {
           "style": "light"
          },
          "paper_bgcolor": "white",
          "plot_bgcolor": "#E5ECF6",
          "polar": {
           "angularaxis": {
            "gridcolor": "white",
            "linecolor": "white",
            "ticks": ""
           },
           "bgcolor": "#E5ECF6",
           "radialaxis": {
            "gridcolor": "white",
            "linecolor": "white",
            "ticks": ""
           }
          },
          "scene": {
           "xaxis": {
            "backgroundcolor": "#E5ECF6",
            "gridcolor": "white",
            "gridwidth": 2,
            "linecolor": "white",
            "showbackground": true,
            "ticks": "",
            "zerolinecolor": "white"
           },
           "yaxis": {
            "backgroundcolor": "#E5ECF6",
            "gridcolor": "white",
            "gridwidth": 2,
            "linecolor": "white",
            "showbackground": true,
            "ticks": "",
            "zerolinecolor": "white"
           },
           "zaxis": {
            "backgroundcolor": "#E5ECF6",
            "gridcolor": "white",
            "gridwidth": 2,
            "linecolor": "white",
            "showbackground": true,
            "ticks": "",
            "zerolinecolor": "white"
           }
          },
          "shapedefaults": {
           "line": {
            "color": "#2a3f5f"
           }
          },
          "ternary": {
           "aaxis": {
            "gridcolor": "white",
            "linecolor": "white",
            "ticks": ""
           },
           "baxis": {
            "gridcolor": "white",
            "linecolor": "white",
            "ticks": ""
           },
           "bgcolor": "#E5ECF6",
           "caxis": {
            "gridcolor": "white",
            "linecolor": "white",
            "ticks": ""
           }
          },
          "title": {
           "x": 0.05
          },
          "xaxis": {
           "automargin": true,
           "gridcolor": "white",
           "linecolor": "white",
           "ticks": "",
           "title": {
            "standoff": 15
           },
           "zerolinecolor": "white",
           "zerolinewidth": 2
          },
          "yaxis": {
           "automargin": true,
           "gridcolor": "white",
           "linecolor": "white",
           "ticks": "",
           "title": {
            "standoff": 15
           },
           "zerolinecolor": "white",
           "zerolinewidth": 2
          }
         }
        },
        "title": {
         "text": "World Life Expectancy",
         "x": 0.5
        }
       }
      },
      "text/html": [
       "<div>                            <div id=\"5ca9b9b1-e15c-4121-aebc-6735af5c01d7\" class=\"plotly-graph-div\" style=\"height:525px; width:100%;\"></div>            <script type=\"text/javascript\">                require([\"plotly\"], function(Plotly) {                    window.PLOTLYENV=window.PLOTLYENV || {};                                    if (document.getElementById(\"5ca9b9b1-e15c-4121-aebc-6735af5c01d7\")) {                    Plotly.newPlot(                        \"5ca9b9b1-e15c-4121-aebc-6735af5c01d7\",                        [{\"coloraxis\": \"coloraxis\", \"geo\": \"geo\", \"hovertemplate\": \"<b>%{hovertext}</b><br><br>ISO=%{location}<br>Mean Life Expectancy=%{z}<extra></extra>\", \"hovertext\": [\"Afghanistan\", \"Albania\", \"Algeria\", \"Angola\", \"Antigua and Barbuda\", \"Argentina\", \"Armenia\", \"Australia\", \"Austria\", \"Azerbaijan\", \"Bahamas\", \"Bahrain\", \"Bangladesh\", \"Barbados\", \"Belarus\", \"Belgium\", \"Belize\", \"Benin\", \"Bhutan\", \"Bolivia\", \"Bosnia and Herzegovina\", \"Botswana\", \"Brazil\", \"Brunei\", \"Bulgaria\", \"Burkina Faso\", \"Burundi\", \"Cambodia\", \"Cameroon\", \"Canada\", \"Cape Verde\", \"Central African Republic\", \"Chad\", \"Chile\", \"China\", \"Colombia\", \"Comoros\", \"Congo, Dem. Rep.\", \"Congo, Rep.\", \"Costa Rica\", \"Cote d'Ivoire\", \"Croatia\", \"Cuba\", \"Cyprus\", \"Czech Republic\", \"Denmark\", \"Djibouti\", \"Dominican Republic\", \"Ecuador\", \"Egypt\", \"El Salvador\", \"Equatorial Guinea\", \"Eritrea\", \"Estonia\", \"Eswatini\", \"Ethiopia\", \"Fiji\", \"Finland\", \"France\", \"Gabon\", \"Gambia\", \"Georgia\", \"Germany\", \"Ghana\", \"Greece\", \"Grenada\", \"Guatemala\", \"Guinea\", \"Guinea-Bissau\", \"Guyana\", \"Haiti\", \"Honduras\", \"Hungary\", \"Iceland\", \"India\", \"Indonesia\", \"Iran\", \"Iraq\", \"Ireland\", \"Israel\", \"Italy\", \"Jamaica\", \"Japan\", \"Jordan\", \"Kazakhstan\", \"Kenya\", \"Kiribati\", \"Kuwait\", \"Kyrgyz Republic\", \"Lao\", \"Latvia\", \"Lebanon\", \"Lesotho\", \"Liberia\", \"Libya\", \"Lithuania\", \"Luxembourg\", \"Madagascar\", \"Malawi\", \"Malaysia\", \"Maldives\", \"Mali\", \"Malta\", \"Mauritania\", \"Mauritius\", \"Mexico\", \"Micronesia, Fed. Sts.\", \"Moldova\", \"Mongolia\", \"Montenegro\", \"Morocco\", \"Mozambique\", \"Myanmar\", \"Namibia\", \"Nepal\", \"Netherlands\", \"New Zealand\", \"Nicaragua\", \"Niger\", \"Nigeria\", \"North Korea\", \"North Macedonia\", \"Norway\", \"Oman\", \"Pakistan\", \"Palestine\", \"Panama\", \"Papua New Guinea\", \"Paraguay\", \"Peru\", \"Philippines\", \"Poland\", \"Portugal\", \"Qatar\", \"Romania\", \"Russia\", \"Rwanda\", \"Samoa\", \"Sao Tome and Principe\", \"Saudi Arabia\", \"Senegal\", \"Serbia\", \"Seychelles\", \"Sierra Leone\", \"Singapore\", \"Slovak Republic\", \"Slovenia\", \"Solomon Islands\", \"Somalia\", \"South Africa\", \"South Korea\", \"South Sudan\", \"Spain\", \"Sri Lanka\", \"St. Lucia\", \"St. Vincent and the Grenadines\", \"Sudan\", \"Suriname\", \"Sweden\", \"Switzerland\", \"Syria\", \"Tajikistan\", \"Tanzania\", \"Thailand\", \"Timor-Leste\", \"Togo\", \"Tonga\", \"Trinidad and Tobago\", \"Tunisia\", \"Turkey\", \"Turkmenistan\", \"Uganda\", \"Ukraine\", \"United Arab Emirates\", \"United Kingdom\", \"United States\", \"Uruguay\", \"Uzbekistan\", \"Vanuatu\", \"Venezuela\", \"Vietnam\", \"Yemen\", \"Zambia\", \"Zimbabwe\"], \"locations\": [\"AFG\", \"ALB\", \"DZA\", \"AGO\", \"ATG\", \"ARG\", \"ARM\", \"AUS\", \"AUT\", \"AZE\", \"BHS\", \"BHR\", \"BGD\", \"BRB\", \"BLR\", \"BEL\", \"BLZ\", \"BEN\", \"BTN\", \"BOL\", \"BIH\", \"BWA\", \"BRA\", \"BRN\", \"BGR\", \"BFA\", \"BDI\", \"KHM\", \"CMR\", \"CAN\", \"CPV\", \"CAF\", \"TCD\", \"CHL\", \"CHN\", \"COL\", \"COM\", \"COD\", \"COG\", \"CRI\", \"CIV\", \"HRV\", \"CUB\", \"CYP\", \"CZE\", \"DNK\", \"DJI\", \"DOM\", \"ECU\", \"EGY\", \"SLV\", \"GNQ\", \"ERI\", \"EST\", \"SWZ\", \"ETH\", \"FJI\", \"FIN\", \"FRA\", \"GAB\", \"GMB\", \"GEO\", \"DEU\", \"GHA\", \"GRC\", \"GRD\", \"GTM\", \"GIN\", \"GNB\", \"GUY\", \"HTI\", \"HND\", \"HUN\", \"ISL\", \"IND\", \"IDN\", \"IRN\", \"IRQ\", \"IRL\", \"ISR\", \"ITA\", \"JAM\", \"JPN\", \"JOR\", \"KAZ\", \"KEN\", \"KIR\", \"KWT\", \"KGZ\", \"LAO\", \"LVA\", \"LBN\", \"LSO\", \"LBR\", \"LBY\", \"LTU\", \"LUX\", \"MDG\", \"MWI\", \"MYS\", \"MDV\", \"MLI\", \"MLT\", \"MRT\", \"MUS\", \"MEX\", \" \", \" \", \"MNG\", \"MNE\", \"MAR\", \"MOZ\", \"MMR\", \"NAM\", \"NPL\", \"NLD\", \"NZL\", \"NIC\", \"NER\", \"NGA\", \"PRK\", \"MKD\", \"NOR\", \"OMN\", \"PAK\", \"PSE\", \"PAN\", \"PNG\", \"PRY\", \"PER\", \"PHL\", \"POL\", \"PRT\", \"QAT\", \"ROU\", \"RUS\", \"RWA\", \"WSM\", \"STP\", \"SAU\", \"SEN\", \"SRB\", \"SYC\", \"SLE\", \"SGP\", \"SVK\", \"SVN\", \"SLB\", \"SOM\", \"ZAF\", \"KOR\", \"SSD\", \"ESP\", \"LKA\", \" \", \" \", \"SDN\", \"SUR\", \"SWE\", \"CHE\", \"SYR\", \"TJK\", \"TZA\", \"THA\", \"TLS\", \"TGO\", \"TON\", \"TTO\", \"TUN\", \"TUR\", \"TKM\", \"UGA\", \"UKR\", \"ARE\", \"GBR\", \"USA\", \"URY\", \"UZB\", \"VUT\", \"VEN\", \"VNM\", \"YEM\", \"ZMB\", \"ZWE\"], \"name\": \"\", \"type\": \"choropleth\", \"z\": [25.894, 32.2, 29.2, 26.419999999999998, 31.52, 45.4, 34.779999999999994, 57.56, 44.68, 30.459999999999997, 32.54, 29.660000000000004, 20.4, 30.78, 36.7, 40.4, 29.3, 28.54, 30.68, 33.54, 32.3, 29.32, 31.4, 30.48, 42.0, 27.24, 28.080000000000002, 33.660000000000004, 25.310000000000002, 53.08, 31.6, 27.839999999999996, 30.839999999999996, 31.6, 30.080000000000002, 32.46, 28.96, 28.919999999999998, 27.52, 34.78, 29.360000000000003, 31.68, 34.379999999999995, 42.86000000000001, 45.0, 57.44, 28.559999999999995, 29.440000000000005, 33.64, 31.060000000000002, 28.759999999999998, 27.52, 27.119999999999997, 41.56, 29.2, 26.060000000000002, 23.376, 45.260000000000005, 38.04, 28.419999999999998, 30.139999999999997, 33.18, 39.78, 25.7, 40.34, 35.239999999999995, 22.114, 29.759999999999998, 26.860000000000003, 32.64, 26.619999999999997, 34.94, 38.8, 54.0, 20.971999999999998, 27.159999999999997, 25.740000000000002, 30.639999999999997, 53.96, 30.9, 38.959999999999994, 34.04, 39.5, 30.919999999999998, 28.26, 22.77, 25.74, 25.660000000000004, 25.500000000000004, 28.28, 41.019999999999996, 29.0, 30.580000000000002, 29.659999999999997, 33.9, 39.62, 48.64, 28.559999999999995, 27.419999999999998, 28.4, 27.259999999999998, 25.56, 48.74, 29.32, 29.96, 27.6, 22.832, 32.38, 29.04, 32.66, 32.18, 29.020000000000003, 26.919999999999998, 29.879999999999995, 32.779999999999994, 54.82000000000001, 52.879999999999995, 25.420000000000005, 29.339999999999996, 31.82, 25.839999999999996, 33.4, 56.17999999999999, 30.9, 21.464, 32.64, 33.12, 33.54, 35.620000000000005, 33.239999999999995, 30.5, 43.86, 32.56, 28.920000000000005, 33.94, 29.6, 25.82, 22.54, 27.8, 34.12, 24.92, 18.468, 49.36, 25.58, 31.839999999999996, 40.42, 33.04, 25.080000000000002, 29.079999999999995, 30.28, 24.6, 27.26, 40.44, 31.560000000000002, 26.32, 24.18, 27.639999999999997, 32.14, 56.46, 54.04, 31.080000000000002, 25.520000000000003, 29.8, 28.860000000000003, 26.78, 28.940000000000005, 24.192, 36.36, 29.2, 19.402, 24.000000000000004, 22.194, 34.2, 30.139999999999997, 46.760000000000005, 53.02, 32.44, 28.9, 25.4, 31.880000000000003, 28.5, 22.8, 29.899999999999995, 30.860000000000003]}],                        {\"coloraxis\": {\"colorbar\": {\"title\": {\"text\": \"Mean Life Expectancy\"}}, \"colorscale\": [[0.0, \"#0d0887\"], [0.1111111111111111, \"#46039f\"], [0.2222222222222222, \"#7201a8\"], [0.3333333333333333, \"#9c179e\"], [0.4444444444444444, \"#bd3786\"], [0.5555555555555556, \"#d8576b\"], [0.6666666666666666, \"#ed7953\"], [0.7777777777777778, \"#fb9f3a\"], [0.8888888888888888, \"#fdca26\"], [1.0, \"#f0f921\"]]}, \"geo\": {\"center\": {}, \"domain\": {\"x\": [0.0, 1.0], \"y\": [0.0, 1.0]}, \"showcoastlines\": false, \"showframe\": false}, \"legend\": {\"tracegroupgap\": 0}, \"margin\": {\"t\": 60}, \"template\": {\"data\": {\"bar\": [{\"error_x\": {\"color\": \"#2a3f5f\"}, \"error_y\": {\"color\": \"#2a3f5f\"}, \"marker\": {\"line\": {\"color\": \"#E5ECF6\", \"width\": 0.5}}, \"type\": \"bar\"}], \"barpolar\": [{\"marker\": {\"line\": {\"color\": \"#E5ECF6\", \"width\": 0.5}}, \"type\": \"barpolar\"}], \"carpet\": [{\"aaxis\": {\"endlinecolor\": \"#2a3f5f\", \"gridcolor\": \"white\", \"linecolor\": \"white\", \"minorgridcolor\": \"white\", \"startlinecolor\": \"#2a3f5f\"}, \"baxis\": {\"endlinecolor\": \"#2a3f5f\", \"gridcolor\": \"white\", \"linecolor\": \"white\", \"minorgridcolor\": \"white\", \"startlinecolor\": \"#2a3f5f\"}, \"type\": \"carpet\"}], \"choropleth\": [{\"colorbar\": {\"outlinewidth\": 0, \"ticks\": \"\"}, \"type\": \"choropleth\"}], \"contour\": [{\"colorbar\": {\"outlinewidth\": 0, \"ticks\": \"\"}, \"colorscale\": [[0.0, \"#0d0887\"], [0.1111111111111111, \"#46039f\"], [0.2222222222222222, \"#7201a8\"], [0.3333333333333333, \"#9c179e\"], [0.4444444444444444, \"#bd3786\"], [0.5555555555555556, \"#d8576b\"], [0.6666666666666666, \"#ed7953\"], [0.7777777777777778, \"#fb9f3a\"], [0.8888888888888888, \"#fdca26\"], [1.0, \"#f0f921\"]], \"type\": \"contour\"}], \"contourcarpet\": [{\"colorbar\": {\"outlinewidth\": 0, \"ticks\": \"\"}, \"type\": \"contourcarpet\"}], \"heatmap\": [{\"colorbar\": {\"outlinewidth\": 0, \"ticks\": \"\"}, \"colorscale\": [[0.0, \"#0d0887\"], [0.1111111111111111, \"#46039f\"], [0.2222222222222222, \"#7201a8\"], [0.3333333333333333, \"#9c179e\"], [0.4444444444444444, \"#bd3786\"], [0.5555555555555556, \"#d8576b\"], [0.6666666666666666, \"#ed7953\"], [0.7777777777777778, \"#fb9f3a\"], [0.8888888888888888, \"#fdca26\"], [1.0, \"#f0f921\"]], \"type\": \"heatmap\"}], \"heatmapgl\": [{\"colorbar\": {\"outlinewidth\": 0, \"ticks\": \"\"}, \"colorscale\": [[0.0, \"#0d0887\"], [0.1111111111111111, \"#46039f\"], [0.2222222222222222, \"#7201a8\"], [0.3333333333333333, \"#9c179e\"], [0.4444444444444444, \"#bd3786\"], [0.5555555555555556, \"#d8576b\"], [0.6666666666666666, \"#ed7953\"], [0.7777777777777778, \"#fb9f3a\"], [0.8888888888888888, \"#fdca26\"], [1.0, \"#f0f921\"]], \"type\": \"heatmapgl\"}], \"histogram\": [{\"marker\": {\"colorbar\": {\"outlinewidth\": 0, \"ticks\": \"\"}}, \"type\": \"histogram\"}], \"histogram2d\": [{\"colorbar\": {\"outlinewidth\": 0, \"ticks\": \"\"}, \"colorscale\": [[0.0, \"#0d0887\"], [0.1111111111111111, \"#46039f\"], [0.2222222222222222, \"#7201a8\"], [0.3333333333333333, \"#9c179e\"], [0.4444444444444444, \"#bd3786\"], [0.5555555555555556, \"#d8576b\"], [0.6666666666666666, \"#ed7953\"], [0.7777777777777778, \"#fb9f3a\"], [0.8888888888888888, \"#fdca26\"], [1.0, \"#f0f921\"]], \"type\": \"histogram2d\"}], \"histogram2dcontour\": [{\"colorbar\": {\"outlinewidth\": 0, \"ticks\": \"\"}, \"colorscale\": [[0.0, \"#0d0887\"], [0.1111111111111111, \"#46039f\"], [0.2222222222222222, \"#7201a8\"], [0.3333333333333333, \"#9c179e\"], [0.4444444444444444, \"#bd3786\"], [0.5555555555555556, \"#d8576b\"], [0.6666666666666666, \"#ed7953\"], [0.7777777777777778, \"#fb9f3a\"], [0.8888888888888888, \"#fdca26\"], [1.0, \"#f0f921\"]], \"type\": \"histogram2dcontour\"}], \"mesh3d\": [{\"colorbar\": {\"outlinewidth\": 0, \"ticks\": \"\"}, \"type\": \"mesh3d\"}], \"parcoords\": [{\"line\": {\"colorbar\": {\"outlinewidth\": 0, \"ticks\": \"\"}}, \"type\": \"parcoords\"}], \"pie\": [{\"automargin\": true, \"type\": \"pie\"}], \"scatter\": [{\"marker\": {\"colorbar\": {\"outlinewidth\": 0, \"ticks\": \"\"}}, \"type\": \"scatter\"}], \"scatter3d\": [{\"line\": {\"colorbar\": {\"outlinewidth\": 0, \"ticks\": \"\"}}, \"marker\": {\"colorbar\": {\"outlinewidth\": 0, \"ticks\": \"\"}}, \"type\": \"scatter3d\"}], \"scattercarpet\": [{\"marker\": {\"colorbar\": {\"outlinewidth\": 0, \"ticks\": \"\"}}, \"type\": \"scattercarpet\"}], \"scattergeo\": [{\"marker\": {\"colorbar\": {\"outlinewidth\": 0, \"ticks\": \"\"}}, \"type\": \"scattergeo\"}], \"scattergl\": [{\"marker\": {\"colorbar\": {\"outlinewidth\": 0, \"ticks\": \"\"}}, \"type\": \"scattergl\"}], \"scattermapbox\": [{\"marker\": {\"colorbar\": {\"outlinewidth\": 0, \"ticks\": \"\"}}, \"type\": \"scattermapbox\"}], \"scatterpolar\": [{\"marker\": {\"colorbar\": {\"outlinewidth\": 0, \"ticks\": \"\"}}, \"type\": \"scatterpolar\"}], \"scatterpolargl\": [{\"marker\": {\"colorbar\": {\"outlinewidth\": 0, \"ticks\": \"\"}}, \"type\": \"scatterpolargl\"}], \"scatterternary\": [{\"marker\": {\"colorbar\": {\"outlinewidth\": 0, \"ticks\": \"\"}}, \"type\": \"scatterternary\"}], \"surface\": [{\"colorbar\": {\"outlinewidth\": 0, \"ticks\": \"\"}, \"colorscale\": [[0.0, \"#0d0887\"], [0.1111111111111111, \"#46039f\"], [0.2222222222222222, \"#7201a8\"], [0.3333333333333333, \"#9c179e\"], [0.4444444444444444, \"#bd3786\"], [0.5555555555555556, \"#d8576b\"], [0.6666666666666666, \"#ed7953\"], [0.7777777777777778, \"#fb9f3a\"], [0.8888888888888888, \"#fdca26\"], [1.0, \"#f0f921\"]], \"type\": \"surface\"}], \"table\": [{\"cells\": {\"fill\": {\"color\": \"#EBF0F8\"}, \"line\": {\"color\": \"white\"}}, \"header\": {\"fill\": {\"color\": \"#C8D4E3\"}, \"line\": {\"color\": \"white\"}}, \"type\": \"table\"}]}, \"layout\": {\"annotationdefaults\": {\"arrowcolor\": \"#2a3f5f\", \"arrowhead\": 0, \"arrowwidth\": 1}, \"autotypenumbers\": \"strict\", \"coloraxis\": {\"colorbar\": {\"outlinewidth\": 0, \"ticks\": \"\"}}, \"colorscale\": {\"diverging\": [[0, \"#8e0152\"], [0.1, \"#c51b7d\"], [0.2, \"#de77ae\"], [0.3, \"#f1b6da\"], [0.4, \"#fde0ef\"], [0.5, \"#f7f7f7\"], [0.6, \"#e6f5d0\"], [0.7, \"#b8e186\"], [0.8, \"#7fbc41\"], [0.9, \"#4d9221\"], [1, \"#276419\"]], \"sequential\": [[0.0, \"#0d0887\"], [0.1111111111111111, \"#46039f\"], [0.2222222222222222, \"#7201a8\"], [0.3333333333333333, \"#9c179e\"], [0.4444444444444444, \"#bd3786\"], [0.5555555555555556, \"#d8576b\"], [0.6666666666666666, \"#ed7953\"], [0.7777777777777778, \"#fb9f3a\"], [0.8888888888888888, \"#fdca26\"], [1.0, \"#f0f921\"]], \"sequentialminus\": [[0.0, \"#0d0887\"], [0.1111111111111111, \"#46039f\"], [0.2222222222222222, \"#7201a8\"], [0.3333333333333333, \"#9c179e\"], [0.4444444444444444, \"#bd3786\"], [0.5555555555555556, \"#d8576b\"], [0.6666666666666666, \"#ed7953\"], [0.7777777777777778, \"#fb9f3a\"], [0.8888888888888888, \"#fdca26\"], [1.0, \"#f0f921\"]]}, \"colorway\": [\"#636efa\", \"#EF553B\", \"#00cc96\", \"#ab63fa\", \"#FFA15A\", \"#19d3f3\", \"#FF6692\", \"#B6E880\", \"#FF97FF\", \"#FECB52\"], \"font\": {\"color\": \"#2a3f5f\"}, \"geo\": {\"bgcolor\": \"white\", \"lakecolor\": \"white\", \"landcolor\": \"#E5ECF6\", \"showlakes\": true, \"showland\": true, \"subunitcolor\": \"white\"}, \"hoverlabel\": {\"align\": \"left\"}, \"hovermode\": \"closest\", \"mapbox\": {\"style\": \"light\"}, \"paper_bgcolor\": \"white\", \"plot_bgcolor\": \"#E5ECF6\", \"polar\": {\"angularaxis\": {\"gridcolor\": \"white\", \"linecolor\": \"white\", \"ticks\": \"\"}, \"bgcolor\": \"#E5ECF6\", \"radialaxis\": {\"gridcolor\": \"white\", \"linecolor\": \"white\", \"ticks\": \"\"}}, \"scene\": {\"xaxis\": {\"backgroundcolor\": \"#E5ECF6\", \"gridcolor\": \"white\", \"gridwidth\": 2, \"linecolor\": \"white\", \"showbackground\": true, \"ticks\": \"\", \"zerolinecolor\": \"white\"}, \"yaxis\": {\"backgroundcolor\": \"#E5ECF6\", \"gridcolor\": \"white\", \"gridwidth\": 2, \"linecolor\": \"white\", \"showbackground\": true, \"ticks\": \"\", \"zerolinecolor\": \"white\"}, \"zaxis\": {\"backgroundcolor\": \"#E5ECF6\", \"gridcolor\": \"white\", \"gridwidth\": 2, \"linecolor\": \"white\", \"showbackground\": true, \"ticks\": \"\", \"zerolinecolor\": \"white\"}}, \"shapedefaults\": {\"line\": {\"color\": \"#2a3f5f\"}}, \"ternary\": {\"aaxis\": {\"gridcolor\": \"white\", \"linecolor\": \"white\", \"ticks\": \"\"}, \"baxis\": {\"gridcolor\": \"white\", \"linecolor\": \"white\", \"ticks\": \"\"}, \"bgcolor\": \"#E5ECF6\", \"caxis\": {\"gridcolor\": \"white\", \"linecolor\": \"white\", \"ticks\": \"\"}}, \"title\": {\"x\": 0.05}, \"xaxis\": {\"automargin\": true, \"gridcolor\": \"white\", \"linecolor\": \"white\", \"ticks\": \"\", \"title\": {\"standoff\": 15}, \"zerolinecolor\": \"white\", \"zerolinewidth\": 2}, \"yaxis\": {\"automargin\": true, \"gridcolor\": \"white\", \"linecolor\": \"white\", \"ticks\": \"\", \"title\": {\"standoff\": 15}, \"zerolinecolor\": \"white\", \"zerolinewidth\": 2}}}, \"title\": {\"text\": \"World Life Expectancy\", \"x\": 0.5}},                        {\"responsive\": true}                    ).then(function(){\n",
       "                            \n",
       "var gd = document.getElementById('5ca9b9b1-e15c-4121-aebc-6735af5c01d7');\n",
       "var x = new MutationObserver(function (mutations, observer) {{\n",
       "        var display = window.getComputedStyle(gd).display;\n",
       "        if (!display || display === 'none') {{\n",
       "            console.log([gd, 'removed!']);\n",
       "            Plotly.purge(gd);\n",
       "            observer.disconnect();\n",
       "        }}\n",
       "}});\n",
       "\n",
       "// Listen for the removal of the full notebook cells\n",
       "var notebookContainer = gd.closest('#notebook-container');\n",
       "if (notebookContainer) {{\n",
       "    x.observe(notebookContainer, {childList: true});\n",
       "}}\n",
       "\n",
       "// Listen for the clearing of the current output cell\n",
       "var outputEl = gd.closest('.output');\n",
       "if (outputEl) {{\n",
       "    x.observe(outputEl, {childList: true});\n",
       "}}\n",
       "\n",
       "                        })                };                });            </script>        </div>"
      ]
     },
     "metadata": {},
     "output_type": "display_data"
    }
   ],
   "source": [
    "# world during World War I\n",
    "\n",
    "world_map_plot((1914, 1918))"
   ]
  },
  {
   "cell_type": "code",
   "execution_count": 13,
   "metadata": {
    "cell_id": "00020-7cb777ea-b828-4a98-bbc4-7467b5fb0f32",
    "deepnote_cell_type": "code",
    "deepnote_to_be_reexecuted": false,
    "execution_millis": 84,
    "execution_start": 1610404809584,
    "source_hash": "15f6e76a",
    "tags": []
   },
   "outputs": [
    {
     "name": "stdout",
     "output_type": "stream",
     "text": [
      "['Micronesia, Fed. Sts.', 'Moldova', 'St. Lucia', 'St. Vincent and the Grenadines']\n"
     ]
    },
    {
     "data": {
      "application/vnd.plotly.v1+json": {
       "config": {
        "plotlyServerURL": "https://plot.ly"
       },
       "data": [
        {
         "coloraxis": "coloraxis",
         "geo": "geo",
         "hovertemplate": "<b>%{hovertext}</b><br><br>ISO=%{location}<br>Mean Life Expectancy=%{z}<extra></extra>",
         "hovertext": [
          "Afghanistan",
          "Albania",
          "Algeria",
          "Angola",
          "Antigua and Barbuda",
          "Argentina",
          "Armenia",
          "Australia",
          "Austria",
          "Azerbaijan",
          "Bahamas",
          "Bahrain",
          "Bangladesh",
          "Barbados",
          "Belarus",
          "Belgium",
          "Belize",
          "Benin",
          "Bhutan",
          "Bolivia",
          "Bosnia and Herzegovina",
          "Botswana",
          "Brazil",
          "Brunei",
          "Bulgaria",
          "Burkina Faso",
          "Burundi",
          "Cambodia",
          "Cameroon",
          "Canada",
          "Cape Verde",
          "Central African Republic",
          "Chad",
          "Chile",
          "China",
          "Colombia",
          "Comoros",
          "Congo, Dem. Rep.",
          "Congo, Rep.",
          "Costa Rica",
          "Cote d'Ivoire",
          "Croatia",
          "Cuba",
          "Cyprus",
          "Czech Republic",
          "Denmark",
          "Djibouti",
          "Dominican Republic",
          "Ecuador",
          "Egypt",
          "El Salvador",
          "Equatorial Guinea",
          "Eritrea",
          "Estonia",
          "Eswatini",
          "Ethiopia",
          "Fiji",
          "Finland",
          "France",
          "Gabon",
          "Gambia",
          "Georgia",
          "Germany",
          "Ghana",
          "Greece",
          "Grenada",
          "Guatemala",
          "Guinea",
          "Guinea-Bissau",
          "Guyana",
          "Haiti",
          "Honduras",
          "Hungary",
          "Iceland",
          "India",
          "Indonesia",
          "Iran",
          "Iraq",
          "Ireland",
          "Israel",
          "Italy",
          "Jamaica",
          "Japan",
          "Jordan",
          "Kazakhstan",
          "Kenya",
          "Kiribati",
          "Kuwait",
          "Kyrgyz Republic",
          "Lao",
          "Latvia",
          "Lebanon",
          "Lesotho",
          "Liberia",
          "Libya",
          "Lithuania",
          "Luxembourg",
          "Madagascar",
          "Malawi",
          "Malaysia",
          "Maldives",
          "Mali",
          "Malta",
          "Mauritania",
          "Mauritius",
          "Mexico",
          "Micronesia, Fed. Sts.",
          "Moldova",
          "Mongolia",
          "Montenegro",
          "Morocco",
          "Mozambique",
          "Myanmar",
          "Namibia",
          "Nepal",
          "Netherlands",
          "New Zealand",
          "Nicaragua",
          "Niger",
          "Nigeria",
          "North Korea",
          "North Macedonia",
          "Norway",
          "Oman",
          "Pakistan",
          "Palestine",
          "Panama",
          "Papua New Guinea",
          "Paraguay",
          "Peru",
          "Philippines",
          "Poland",
          "Portugal",
          "Qatar",
          "Romania",
          "Russia",
          "Rwanda",
          "Samoa",
          "Sao Tome and Principe",
          "Saudi Arabia",
          "Senegal",
          "Serbia",
          "Seychelles",
          "Sierra Leone",
          "Singapore",
          "Slovak Republic",
          "Slovenia",
          "Solomon Islands",
          "Somalia",
          "South Africa",
          "South Korea",
          "South Sudan",
          "Spain",
          "Sri Lanka",
          "St. Lucia",
          "St. Vincent and the Grenadines",
          "Sudan",
          "Suriname",
          "Sweden",
          "Switzerland",
          "Syria",
          "Tajikistan",
          "Tanzania",
          "Thailand",
          "Timor-Leste",
          "Togo",
          "Tonga",
          "Trinidad and Tobago",
          "Tunisia",
          "Turkey",
          "Turkmenistan",
          "Uganda",
          "Ukraine",
          "United Arab Emirates",
          "United Kingdom",
          "United States",
          "Uruguay",
          "Uzbekistan",
          "Vanuatu",
          "Venezuela",
          "Vietnam",
          "Yemen",
          "Zambia",
          "Zimbabwe"
         ],
         "locations": [
          "AFG",
          "ALB",
          "DZA",
          "AGO",
          "ATG",
          "ARG",
          "ARM",
          "AUS",
          "AUT",
          "AZE",
          "BHS",
          "BHR",
          "BGD",
          "BRB",
          "BLR",
          "BEL",
          "BLZ",
          "BEN",
          "BTN",
          "BOL",
          "BIH",
          "BWA",
          "BRA",
          "BRN",
          "BGR",
          "BFA",
          "BDI",
          "KHM",
          "CMR",
          "CAN",
          "CPV",
          "CAF",
          "TCD",
          "CHL",
          "CHN",
          "COL",
          "COM",
          "COD",
          "COG",
          "CRI",
          "CIV",
          "HRV",
          "CUB",
          "CYP",
          "CZE",
          "DNK",
          "DJI",
          "DOM",
          "ECU",
          "EGY",
          "SLV",
          "GNQ",
          "ERI",
          "EST",
          "SWZ",
          "ETH",
          "FJI",
          "FIN",
          "FRA",
          "GAB",
          "GMB",
          "GEO",
          "DEU",
          "GHA",
          "GRC",
          "GRD",
          "GTM",
          "GIN",
          "GNB",
          "GUY",
          "HTI",
          "HND",
          "HUN",
          "ISL",
          "IND",
          "IDN",
          "IRN",
          "IRQ",
          "IRL",
          "ISR",
          "ITA",
          "JAM",
          "JPN",
          "JOR",
          "KAZ",
          "KEN",
          "KIR",
          "KWT",
          "KGZ",
          "LAO",
          "LVA",
          "LBN",
          "LSO",
          "LBR",
          "LBY",
          "LTU",
          "LUX",
          "MDG",
          "MWI",
          "MYS",
          "MDV",
          "MLI",
          "MLT",
          "MRT",
          "MUS",
          "MEX",
          " ",
          " ",
          "MNG",
          "MNE",
          "MAR",
          "MOZ",
          "MMR",
          "NAM",
          "NPL",
          "NLD",
          "NZL",
          "NIC",
          "NER",
          "NGA",
          "PRK",
          "MKD",
          "NOR",
          "OMN",
          "PAK",
          "PSE",
          "PAN",
          "PNG",
          "PRY",
          "PER",
          "PHL",
          "POL",
          "PRT",
          "QAT",
          "ROU",
          "RUS",
          "RWA",
          "WSM",
          "STP",
          "SAU",
          "SEN",
          "SRB",
          "SYC",
          "SLE",
          "SGP",
          "SVK",
          "SVN",
          "SLB",
          "SOM",
          "ZAF",
          "KOR",
          "SSD",
          "ESP",
          "LKA",
          " ",
          " ",
          "SDN",
          "SUR",
          "SWE",
          "CHE",
          "SYR",
          "TJK",
          "TZA",
          "THA",
          "TLS",
          "TGO",
          "TON",
          "TTO",
          "TUN",
          "TUR",
          "TKM",
          "UGA",
          "UKR",
          "ARE",
          "GBR",
          "USA",
          "URY",
          "UZB",
          "VUT",
          "VEN",
          "VNM",
          "YEM",
          "ZMB",
          "ZWE"
         ],
         "name": "",
         "type": "choropleth",
         "z": [
          32,
          40.642857142857146,
          34.87142857142857,
          32.49999999999999,
          51.728571428571435,
          59.628571428571426,
          33.5,
          66.87142857142855,
          49.699999999999996,
          34.4,
          52.22857142857142,
          36.17142857142857,
          30.642857142857146,
          51.9,
          28.985714285714288,
          58.57142857142856,
          48.028571428571425,
          33.471428571428575,
          35.457142857142856,
          36.65714285714285,
          32.25714285714286,
          34,
          39.800000000000004,
          48.6,
          51.857142857142854,
          32.11428571428571,
          30.042857142857144,
          34.55714285714286,
          30.971428571428568,
          64.62857142857142,
          44.471428571428575,
          32.71428571428572,
          35.2,
          44.41428571428572,
          33.628571428571426,
          42.557142857142864,
          33.54285714285714,
          36.57142857142857,
          30.585714285714285,
          49.9,
          34.78571428571429,
          41.371428571428574,
          49.95714285714286,
          52.31428571428571,
          53.82857142857143,
          66.31428571428572,
          34.07142857142857,
          40,
          39.48571428571429,
          32.49999999999999,
          38.971428571428575,
          32.27142857142857,
          31.314285714285717,
          49.38571428571428,
          33.84285714285714,
          29.11428571428571,
          46.7,
          51.8,
          54.32857142857143,
          33.4,
          37.4,
          37.25714285714286,
          50.300000000000004,
          40.31428571428571,
          47.1,
          51.87142857142857,
          31.47142857142857,
          36.05714285714286,
          33.62857142857143,
          52.25714285714286,
          29.2,
          41.31428571428571,
          47.75714285714285,
          65.5,
          32.85714285714286,
          31.87142857142857,
          30.41428571428571,
          32.857142857142854,
          60.44285714285714,
          46.957142857142856,
          53.971428571428575,
          49.68571428571429,
          44.81428571428571,
          38.4,
          33.642857142857146,
          30.271428571428572,
          31.514285714285716,
          34.01428571428571,
          32.82857142857143,
          28.099999999999998,
          41.39999999999999,
          36.75714285714286,
          36.05714285714286,
          35.371428571428574,
          35.042857142857144,
          39.34285714285714,
          56.442857142857136,
          33.385714285714286,
          31.78571428571429,
          39.300000000000004,
          30.871428571428574,
          30.71428571428572,
          58.68571428571429,
          34.228571428571435,
          33.800000000000004,
          42.771428571428565,
          39.51428571428572,
          38.94285714285714,
          30.985714285714288,
          41.89999999999999,
          36.75714285714285,
          34.7,
          27.128571428571433,
          36.84285714285714,
          36.74285714285715,
          63.7,
          66.15714285714286,
          37.41428571428571,
          34.957142857142856,
          38.5,
          47.48571428571428,
          45.64285714285713,
          66.22857142857143,
          31.82857142857143,
          34.4,
          41.84285714285714,
          46.9,
          33.4,
          52.699999999999996,
          34.54285714285715,
          38.22857142857142,
          34.00000000000001,
          51.04285714285714,
          34.11428571428571,
          45.67142857142857,
          28.97142857142857,
          34.75714285714286,
          40.628571428571426,
          39.05714285714286,
          37.142857142857146,
          32.542857142857144,
          44.41428571428572,
          56.41428571428571,
          30.442857142857143,
          42.15714285714286,
          49.199999999999996,
          50.45714285714286,
          31.142857142857142,
          33.68571428571428,
          42.25714285714285,
          43.857142857142854,
          33.6,
          51.800000000000004,
          44.028571428571425,
          46.128571428571426,
          43.37142857142857,
          34.17142857142857,
          47.74285714285713,
          67.67142857142856,
          65.04285714285713,
          40.9,
          32.84285714285714,
          34.97142857142857,
          40.24285714285714,
          25,
          33.97142857142857,
          49.91428571428572,
          52.800000000000004,
          32.4,
          34.81428571428571,
          31.357142857142858,
          27.88571428571429,
          32,
          31.5,
          63.5,
          64.35714285714286,
          55.357142857142854,
          35.2,
          34.82857142857143,
          42.25714285714286,
          29.414285714285718,
          23.699999999999996,
          34.97142857142857,
          37.62857142857143
         ]
        }
       ],
       "layout": {
        "coloraxis": {
         "colorbar": {
          "title": {
           "text": "Mean Life Expectancy"
          }
         },
         "colorscale": [
          [
           0,
           "#0d0887"
          ],
          [
           0.1111111111111111,
           "#46039f"
          ],
          [
           0.2222222222222222,
           "#7201a8"
          ],
          [
           0.3333333333333333,
           "#9c179e"
          ],
          [
           0.4444444444444444,
           "#bd3786"
          ],
          [
           0.5555555555555556,
           "#d8576b"
          ],
          [
           0.6666666666666666,
           "#ed7953"
          ],
          [
           0.7777777777777778,
           "#fb9f3a"
          ],
          [
           0.8888888888888888,
           "#fdca26"
          ],
          [
           1,
           "#f0f921"
          ]
         ]
        },
        "geo": {
         "center": {},
         "domain": {
          "x": [
           0,
           1
          ],
          "y": [
           0,
           1
          ]
         },
         "showcoastlines": false,
         "showframe": false
        },
        "legend": {
         "tracegroupgap": 0
        },
        "margin": {
         "t": 60
        },
        "template": {
         "data": {
          "bar": [
           {
            "error_x": {
             "color": "#2a3f5f"
            },
            "error_y": {
             "color": "#2a3f5f"
            },
            "marker": {
             "line": {
              "color": "#E5ECF6",
              "width": 0.5
             }
            },
            "type": "bar"
           }
          ],
          "barpolar": [
           {
            "marker": {
             "line": {
              "color": "#E5ECF6",
              "width": 0.5
             }
            },
            "type": "barpolar"
           }
          ],
          "carpet": [
           {
            "aaxis": {
             "endlinecolor": "#2a3f5f",
             "gridcolor": "white",
             "linecolor": "white",
             "minorgridcolor": "white",
             "startlinecolor": "#2a3f5f"
            },
            "baxis": {
             "endlinecolor": "#2a3f5f",
             "gridcolor": "white",
             "linecolor": "white",
             "minorgridcolor": "white",
             "startlinecolor": "#2a3f5f"
            },
            "type": "carpet"
           }
          ],
          "choropleth": [
           {
            "colorbar": {
             "outlinewidth": 0,
             "ticks": ""
            },
            "type": "choropleth"
           }
          ],
          "contour": [
           {
            "colorbar": {
             "outlinewidth": 0,
             "ticks": ""
            },
            "colorscale": [
             [
              0,
              "#0d0887"
             ],
             [
              0.1111111111111111,
              "#46039f"
             ],
             [
              0.2222222222222222,
              "#7201a8"
             ],
             [
              0.3333333333333333,
              "#9c179e"
             ],
             [
              0.4444444444444444,
              "#bd3786"
             ],
             [
              0.5555555555555556,
              "#d8576b"
             ],
             [
              0.6666666666666666,
              "#ed7953"
             ],
             [
              0.7777777777777778,
              "#fb9f3a"
             ],
             [
              0.8888888888888888,
              "#fdca26"
             ],
             [
              1,
              "#f0f921"
             ]
            ],
            "type": "contour"
           }
          ],
          "contourcarpet": [
           {
            "colorbar": {
             "outlinewidth": 0,
             "ticks": ""
            },
            "type": "contourcarpet"
           }
          ],
          "heatmap": [
           {
            "colorbar": {
             "outlinewidth": 0,
             "ticks": ""
            },
            "colorscale": [
             [
              0,
              "#0d0887"
             ],
             [
              0.1111111111111111,
              "#46039f"
             ],
             [
              0.2222222222222222,
              "#7201a8"
             ],
             [
              0.3333333333333333,
              "#9c179e"
             ],
             [
              0.4444444444444444,
              "#bd3786"
             ],
             [
              0.5555555555555556,
              "#d8576b"
             ],
             [
              0.6666666666666666,
              "#ed7953"
             ],
             [
              0.7777777777777778,
              "#fb9f3a"
             ],
             [
              0.8888888888888888,
              "#fdca26"
             ],
             [
              1,
              "#f0f921"
             ]
            ],
            "type": "heatmap"
           }
          ],
          "heatmapgl": [
           {
            "colorbar": {
             "outlinewidth": 0,
             "ticks": ""
            },
            "colorscale": [
             [
              0,
              "#0d0887"
             ],
             [
              0.1111111111111111,
              "#46039f"
             ],
             [
              0.2222222222222222,
              "#7201a8"
             ],
             [
              0.3333333333333333,
              "#9c179e"
             ],
             [
              0.4444444444444444,
              "#bd3786"
             ],
             [
              0.5555555555555556,
              "#d8576b"
             ],
             [
              0.6666666666666666,
              "#ed7953"
             ],
             [
              0.7777777777777778,
              "#fb9f3a"
             ],
             [
              0.8888888888888888,
              "#fdca26"
             ],
             [
              1,
              "#f0f921"
             ]
            ],
            "type": "heatmapgl"
           }
          ],
          "histogram": [
           {
            "marker": {
             "colorbar": {
              "outlinewidth": 0,
              "ticks": ""
             }
            },
            "type": "histogram"
           }
          ],
          "histogram2d": [
           {
            "colorbar": {
             "outlinewidth": 0,
             "ticks": ""
            },
            "colorscale": [
             [
              0,
              "#0d0887"
             ],
             [
              0.1111111111111111,
              "#46039f"
             ],
             [
              0.2222222222222222,
              "#7201a8"
             ],
             [
              0.3333333333333333,
              "#9c179e"
             ],
             [
              0.4444444444444444,
              "#bd3786"
             ],
             [
              0.5555555555555556,
              "#d8576b"
             ],
             [
              0.6666666666666666,
              "#ed7953"
             ],
             [
              0.7777777777777778,
              "#fb9f3a"
             ],
             [
              0.8888888888888888,
              "#fdca26"
             ],
             [
              1,
              "#f0f921"
             ]
            ],
            "type": "histogram2d"
           }
          ],
          "histogram2dcontour": [
           {
            "colorbar": {
             "outlinewidth": 0,
             "ticks": ""
            },
            "colorscale": [
             [
              0,
              "#0d0887"
             ],
             [
              0.1111111111111111,
              "#46039f"
             ],
             [
              0.2222222222222222,
              "#7201a8"
             ],
             [
              0.3333333333333333,
              "#9c179e"
             ],
             [
              0.4444444444444444,
              "#bd3786"
             ],
             [
              0.5555555555555556,
              "#d8576b"
             ],
             [
              0.6666666666666666,
              "#ed7953"
             ],
             [
              0.7777777777777778,
              "#fb9f3a"
             ],
             [
              0.8888888888888888,
              "#fdca26"
             ],
             [
              1,
              "#f0f921"
             ]
            ],
            "type": "histogram2dcontour"
           }
          ],
          "mesh3d": [
           {
            "colorbar": {
             "outlinewidth": 0,
             "ticks": ""
            },
            "type": "mesh3d"
           }
          ],
          "parcoords": [
           {
            "line": {
             "colorbar": {
              "outlinewidth": 0,
              "ticks": ""
             }
            },
            "type": "parcoords"
           }
          ],
          "pie": [
           {
            "automargin": true,
            "type": "pie"
           }
          ],
          "scatter": [
           {
            "marker": {
             "colorbar": {
              "outlinewidth": 0,
              "ticks": ""
             }
            },
            "type": "scatter"
           }
          ],
          "scatter3d": [
           {
            "line": {
             "colorbar": {
              "outlinewidth": 0,
              "ticks": ""
             }
            },
            "marker": {
             "colorbar": {
              "outlinewidth": 0,
              "ticks": ""
             }
            },
            "type": "scatter3d"
           }
          ],
          "scattercarpet": [
           {
            "marker": {
             "colorbar": {
              "outlinewidth": 0,
              "ticks": ""
             }
            },
            "type": "scattercarpet"
           }
          ],
          "scattergeo": [
           {
            "marker": {
             "colorbar": {
              "outlinewidth": 0,
              "ticks": ""
             }
            },
            "type": "scattergeo"
           }
          ],
          "scattergl": [
           {
            "marker": {
             "colorbar": {
              "outlinewidth": 0,
              "ticks": ""
             }
            },
            "type": "scattergl"
           }
          ],
          "scattermapbox": [
           {
            "marker": {
             "colorbar": {
              "outlinewidth": 0,
              "ticks": ""
             }
            },
            "type": "scattermapbox"
           }
          ],
          "scatterpolar": [
           {
            "marker": {
             "colorbar": {
              "outlinewidth": 0,
              "ticks": ""
             }
            },
            "type": "scatterpolar"
           }
          ],
          "scatterpolargl": [
           {
            "marker": {
             "colorbar": {
              "outlinewidth": 0,
              "ticks": ""
             }
            },
            "type": "scatterpolargl"
           }
          ],
          "scatterternary": [
           {
            "marker": {
             "colorbar": {
              "outlinewidth": 0,
              "ticks": ""
             }
            },
            "type": "scatterternary"
           }
          ],
          "surface": [
           {
            "colorbar": {
             "outlinewidth": 0,
             "ticks": ""
            },
            "colorscale": [
             [
              0,
              "#0d0887"
             ],
             [
              0.1111111111111111,
              "#46039f"
             ],
             [
              0.2222222222222222,
              "#7201a8"
             ],
             [
              0.3333333333333333,
              "#9c179e"
             ],
             [
              0.4444444444444444,
              "#bd3786"
             ],
             [
              0.5555555555555556,
              "#d8576b"
             ],
             [
              0.6666666666666666,
              "#ed7953"
             ],
             [
              0.7777777777777778,
              "#fb9f3a"
             ],
             [
              0.8888888888888888,
              "#fdca26"
             ],
             [
              1,
              "#f0f921"
             ]
            ],
            "type": "surface"
           }
          ],
          "table": [
           {
            "cells": {
             "fill": {
              "color": "#EBF0F8"
             },
             "line": {
              "color": "white"
             }
            },
            "header": {
             "fill": {
              "color": "#C8D4E3"
             },
             "line": {
              "color": "white"
             }
            },
            "type": "table"
           }
          ]
         },
         "layout": {
          "annotationdefaults": {
           "arrowcolor": "#2a3f5f",
           "arrowhead": 0,
           "arrowwidth": 1
          },
          "autotypenumbers": "strict",
          "coloraxis": {
           "colorbar": {
            "outlinewidth": 0,
            "ticks": ""
           }
          },
          "colorscale": {
           "diverging": [
            [
             0,
             "#8e0152"
            ],
            [
             0.1,
             "#c51b7d"
            ],
            [
             0.2,
             "#de77ae"
            ],
            [
             0.3,
             "#f1b6da"
            ],
            [
             0.4,
             "#fde0ef"
            ],
            [
             0.5,
             "#f7f7f7"
            ],
            [
             0.6,
             "#e6f5d0"
            ],
            [
             0.7,
             "#b8e186"
            ],
            [
             0.8,
             "#7fbc41"
            ],
            [
             0.9,
             "#4d9221"
            ],
            [
             1,
             "#276419"
            ]
           ],
           "sequential": [
            [
             0,
             "#0d0887"
            ],
            [
             0.1111111111111111,
             "#46039f"
            ],
            [
             0.2222222222222222,
             "#7201a8"
            ],
            [
             0.3333333333333333,
             "#9c179e"
            ],
            [
             0.4444444444444444,
             "#bd3786"
            ],
            [
             0.5555555555555556,
             "#d8576b"
            ],
            [
             0.6666666666666666,
             "#ed7953"
            ],
            [
             0.7777777777777778,
             "#fb9f3a"
            ],
            [
             0.8888888888888888,
             "#fdca26"
            ],
            [
             1,
             "#f0f921"
            ]
           ],
           "sequentialminus": [
            [
             0,
             "#0d0887"
            ],
            [
             0.1111111111111111,
             "#46039f"
            ],
            [
             0.2222222222222222,
             "#7201a8"
            ],
            [
             0.3333333333333333,
             "#9c179e"
            ],
            [
             0.4444444444444444,
             "#bd3786"
            ],
            [
             0.5555555555555556,
             "#d8576b"
            ],
            [
             0.6666666666666666,
             "#ed7953"
            ],
            [
             0.7777777777777778,
             "#fb9f3a"
            ],
            [
             0.8888888888888888,
             "#fdca26"
            ],
            [
             1,
             "#f0f921"
            ]
           ]
          },
          "colorway": [
           "#636efa",
           "#EF553B",
           "#00cc96",
           "#ab63fa",
           "#FFA15A",
           "#19d3f3",
           "#FF6692",
           "#B6E880",
           "#FF97FF",
           "#FECB52"
          ],
          "font": {
           "color": "#2a3f5f"
          },
          "geo": {
           "bgcolor": "white",
           "lakecolor": "white",
           "landcolor": "#E5ECF6",
           "showlakes": true,
           "showland": true,
           "subunitcolor": "white"
          },
          "hoverlabel": {
           "align": "left"
          },
          "hovermode": "closest",
          "mapbox": {
           "style": "light"
          },
          "paper_bgcolor": "white",
          "plot_bgcolor": "#E5ECF6",
          "polar": {
           "angularaxis": {
            "gridcolor": "white",
            "linecolor": "white",
            "ticks": ""
           },
           "bgcolor": "#E5ECF6",
           "radialaxis": {
            "gridcolor": "white",
            "linecolor": "white",
            "ticks": ""
           }
          },
          "scene": {
           "xaxis": {
            "backgroundcolor": "#E5ECF6",
            "gridcolor": "white",
            "gridwidth": 2,
            "linecolor": "white",
            "showbackground": true,
            "ticks": "",
            "zerolinecolor": "white"
           },
           "yaxis": {
            "backgroundcolor": "#E5ECF6",
            "gridcolor": "white",
            "gridwidth": 2,
            "linecolor": "white",
            "showbackground": true,
            "ticks": "",
            "zerolinecolor": "white"
           },
           "zaxis": {
            "backgroundcolor": "#E5ECF6",
            "gridcolor": "white",
            "gridwidth": 2,
            "linecolor": "white",
            "showbackground": true,
            "ticks": "",
            "zerolinecolor": "white"
           }
          },
          "shapedefaults": {
           "line": {
            "color": "#2a3f5f"
           }
          },
          "ternary": {
           "aaxis": {
            "gridcolor": "white",
            "linecolor": "white",
            "ticks": ""
           },
           "baxis": {
            "gridcolor": "white",
            "linecolor": "white",
            "ticks": ""
           },
           "bgcolor": "#E5ECF6",
           "caxis": {
            "gridcolor": "white",
            "linecolor": "white",
            "ticks": ""
           }
          },
          "title": {
           "x": 0.05
          },
          "xaxis": {
           "automargin": true,
           "gridcolor": "white",
           "linecolor": "white",
           "ticks": "",
           "title": {
            "standoff": 15
           },
           "zerolinecolor": "white",
           "zerolinewidth": 2
          },
          "yaxis": {
           "automargin": true,
           "gridcolor": "white",
           "linecolor": "white",
           "ticks": "",
           "title": {
            "standoff": 15
           },
           "zerolinecolor": "white",
           "zerolinewidth": 2
          }
         }
        },
        "title": {
         "text": "World Life Expectancy",
         "x": 0.5
        }
       }
      },
      "text/html": [
       "<div>                            <div id=\"89cd0a08-08b2-4b07-9c5a-3430052b7c94\" class=\"plotly-graph-div\" style=\"height:525px; width:100%;\"></div>            <script type=\"text/javascript\">                require([\"plotly\"], function(Plotly) {                    window.PLOTLYENV=window.PLOTLYENV || {};                                    if (document.getElementById(\"89cd0a08-08b2-4b07-9c5a-3430052b7c94\")) {                    Plotly.newPlot(                        \"89cd0a08-08b2-4b07-9c5a-3430052b7c94\",                        [{\"coloraxis\": \"coloraxis\", \"geo\": \"geo\", \"hovertemplate\": \"<b>%{hovertext}</b><br><br>ISO=%{location}<br>Mean Life Expectancy=%{z}<extra></extra>\", \"hovertext\": [\"Afghanistan\", \"Albania\", \"Algeria\", \"Angola\", \"Antigua and Barbuda\", \"Argentina\", \"Armenia\", \"Australia\", \"Austria\", \"Azerbaijan\", \"Bahamas\", \"Bahrain\", \"Bangladesh\", \"Barbados\", \"Belarus\", \"Belgium\", \"Belize\", \"Benin\", \"Bhutan\", \"Bolivia\", \"Bosnia and Herzegovina\", \"Botswana\", \"Brazil\", \"Brunei\", \"Bulgaria\", \"Burkina Faso\", \"Burundi\", \"Cambodia\", \"Cameroon\", \"Canada\", \"Cape Verde\", \"Central African Republic\", \"Chad\", \"Chile\", \"China\", \"Colombia\", \"Comoros\", \"Congo, Dem. Rep.\", \"Congo, Rep.\", \"Costa Rica\", \"Cote d'Ivoire\", \"Croatia\", \"Cuba\", \"Cyprus\", \"Czech Republic\", \"Denmark\", \"Djibouti\", \"Dominican Republic\", \"Ecuador\", \"Egypt\", \"El Salvador\", \"Equatorial Guinea\", \"Eritrea\", \"Estonia\", \"Eswatini\", \"Ethiopia\", \"Fiji\", \"Finland\", \"France\", \"Gabon\", \"Gambia\", \"Georgia\", \"Germany\", \"Ghana\", \"Greece\", \"Grenada\", \"Guatemala\", \"Guinea\", \"Guinea-Bissau\", \"Guyana\", \"Haiti\", \"Honduras\", \"Hungary\", \"Iceland\", \"India\", \"Indonesia\", \"Iran\", \"Iraq\", \"Ireland\", \"Israel\", \"Italy\", \"Jamaica\", \"Japan\", \"Jordan\", \"Kazakhstan\", \"Kenya\", \"Kiribati\", \"Kuwait\", \"Kyrgyz Republic\", \"Lao\", \"Latvia\", \"Lebanon\", \"Lesotho\", \"Liberia\", \"Libya\", \"Lithuania\", \"Luxembourg\", \"Madagascar\", \"Malawi\", \"Malaysia\", \"Maldives\", \"Mali\", \"Malta\", \"Mauritania\", \"Mauritius\", \"Mexico\", \"Micronesia, Fed. Sts.\", \"Moldova\", \"Mongolia\", \"Montenegro\", \"Morocco\", \"Mozambique\", \"Myanmar\", \"Namibia\", \"Nepal\", \"Netherlands\", \"New Zealand\", \"Nicaragua\", \"Niger\", \"Nigeria\", \"North Korea\", \"North Macedonia\", \"Norway\", \"Oman\", \"Pakistan\", \"Palestine\", \"Panama\", \"Papua New Guinea\", \"Paraguay\", \"Peru\", \"Philippines\", \"Poland\", \"Portugal\", \"Qatar\", \"Romania\", \"Russia\", \"Rwanda\", \"Samoa\", \"Sao Tome and Principe\", \"Saudi Arabia\", \"Senegal\", \"Serbia\", \"Seychelles\", \"Sierra Leone\", \"Singapore\", \"Slovak Republic\", \"Slovenia\", \"Solomon Islands\", \"Somalia\", \"South Africa\", \"South Korea\", \"South Sudan\", \"Spain\", \"Sri Lanka\", \"St. Lucia\", \"St. Vincent and the Grenadines\", \"Sudan\", \"Suriname\", \"Sweden\", \"Switzerland\", \"Syria\", \"Tajikistan\", \"Tanzania\", \"Thailand\", \"Timor-Leste\", \"Togo\", \"Tonga\", \"Trinidad and Tobago\", \"Tunisia\", \"Turkey\", \"Turkmenistan\", \"Uganda\", \"Ukraine\", \"United Arab Emirates\", \"United Kingdom\", \"United States\", \"Uruguay\", \"Uzbekistan\", \"Vanuatu\", \"Venezuela\", \"Vietnam\", \"Yemen\", \"Zambia\", \"Zimbabwe\"], \"locations\": [\"AFG\", \"ALB\", \"DZA\", \"AGO\", \"ATG\", \"ARG\", \"ARM\", \"AUS\", \"AUT\", \"AZE\", \"BHS\", \"BHR\", \"BGD\", \"BRB\", \"BLR\", \"BEL\", \"BLZ\", \"BEN\", \"BTN\", \"BOL\", \"BIH\", \"BWA\", \"BRA\", \"BRN\", \"BGR\", \"BFA\", \"BDI\", \"KHM\", \"CMR\", \"CAN\", \"CPV\", \"CAF\", \"TCD\", \"CHL\", \"CHN\", \"COL\", \"COM\", \"COD\", \"COG\", \"CRI\", \"CIV\", \"HRV\", \"CUB\", \"CYP\", \"CZE\", \"DNK\", \"DJI\", \"DOM\", \"ECU\", \"EGY\", \"SLV\", \"GNQ\", \"ERI\", \"EST\", \"SWZ\", \"ETH\", \"FJI\", \"FIN\", \"FRA\", \"GAB\", \"GMB\", \"GEO\", \"DEU\", \"GHA\", \"GRC\", \"GRD\", \"GTM\", \"GIN\", \"GNB\", \"GUY\", \"HTI\", \"HND\", \"HUN\", \"ISL\", \"IND\", \"IDN\", \"IRN\", \"IRQ\", \"IRL\", \"ISR\", \"ITA\", \"JAM\", \"JPN\", \"JOR\", \"KAZ\", \"KEN\", \"KIR\", \"KWT\", \"KGZ\", \"LAO\", \"LVA\", \"LBN\", \"LSO\", \"LBR\", \"LBY\", \"LTU\", \"LUX\", \"MDG\", \"MWI\", \"MYS\", \"MDV\", \"MLI\", \"MLT\", \"MRT\", \"MUS\", \"MEX\", \" \", \" \", \"MNG\", \"MNE\", \"MAR\", \"MOZ\", \"MMR\", \"NAM\", \"NPL\", \"NLD\", \"NZL\", \"NIC\", \"NER\", \"NGA\", \"PRK\", \"MKD\", \"NOR\", \"OMN\", \"PAK\", \"PSE\", \"PAN\", \"PNG\", \"PRY\", \"PER\", \"PHL\", \"POL\", \"PRT\", \"QAT\", \"ROU\", \"RUS\", \"RWA\", \"WSM\", \"STP\", \"SAU\", \"SEN\", \"SRB\", \"SYC\", \"SLE\", \"SGP\", \"SVK\", \"SVN\", \"SLB\", \"SOM\", \"ZAF\", \"KOR\", \"SSD\", \"ESP\", \"LKA\", \" \", \" \", \"SDN\", \"SUR\", \"SWE\", \"CHE\", \"SYR\", \"TJK\", \"TZA\", \"THA\", \"TLS\", \"TGO\", \"TON\", \"TTO\", \"TUN\", \"TUR\", \"TKM\", \"UGA\", \"UKR\", \"ARE\", \"GBR\", \"USA\", \"URY\", \"UZB\", \"VUT\", \"VEN\", \"VNM\", \"YEM\", \"ZMB\", \"ZWE\"], \"name\": \"\", \"type\": \"choropleth\", \"z\": [32.0, 40.642857142857146, 34.87142857142857, 32.49999999999999, 51.728571428571435, 59.628571428571426, 33.5, 66.87142857142855, 49.699999999999996, 34.4, 52.22857142857142, 36.17142857142857, 30.642857142857146, 51.9, 28.985714285714288, 58.57142857142856, 48.028571428571425, 33.471428571428575, 35.457142857142856, 36.65714285714285, 32.25714285714286, 34.0, 39.800000000000004, 48.6, 51.857142857142854, 32.11428571428571, 30.042857142857144, 34.55714285714286, 30.971428571428568, 64.62857142857142, 44.471428571428575, 32.71428571428572, 35.2, 44.41428571428572, 33.628571428571426, 42.557142857142864, 33.54285714285714, 36.57142857142857, 30.585714285714285, 49.9, 34.78571428571429, 41.371428571428574, 49.95714285714286, 52.31428571428571, 53.82857142857143, 66.31428571428572, 34.07142857142857, 40.0, 39.48571428571429, 32.49999999999999, 38.971428571428575, 32.27142857142857, 31.314285714285717, 49.38571428571428, 33.84285714285714, 29.11428571428571, 46.7, 51.8, 54.32857142857143, 33.4, 37.4, 37.25714285714286, 50.300000000000004, 40.31428571428571, 47.1, 51.87142857142857, 31.47142857142857, 36.05714285714286, 33.62857142857143, 52.25714285714286, 29.2, 41.31428571428571, 47.75714285714285, 65.5, 32.85714285714286, 31.87142857142857, 30.41428571428571, 32.857142857142854, 60.44285714285714, 46.957142857142856, 53.971428571428575, 49.68571428571429, 44.81428571428571, 38.4, 33.642857142857146, 30.271428571428572, 31.514285714285716, 34.01428571428571, 32.82857142857143, 28.099999999999998, 41.39999999999999, 36.75714285714286, 36.05714285714286, 35.371428571428574, 35.042857142857144, 39.34285714285714, 56.442857142857136, 33.385714285714286, 31.78571428571429, 39.300000000000004, 30.871428571428574, 30.71428571428572, 58.68571428571429, 34.228571428571435, 33.800000000000004, 42.771428571428565, 39.51428571428572, 38.94285714285714, 30.985714285714288, 41.89999999999999, 36.75714285714285, 34.7, 27.128571428571433, 36.84285714285714, 36.74285714285715, 63.7, 66.15714285714286, 37.41428571428571, 34.957142857142856, 38.5, 47.48571428571428, 45.64285714285713, 66.22857142857143, 31.82857142857143, 34.4, 41.84285714285714, 46.9, 33.4, 52.699999999999996, 34.54285714285715, 38.22857142857142, 34.00000000000001, 51.04285714285714, 34.11428571428571, 45.67142857142857, 28.97142857142857, 34.75714285714286, 40.628571428571426, 39.05714285714286, 37.142857142857146, 32.542857142857144, 44.41428571428572, 56.41428571428571, 30.442857142857143, 42.15714285714286, 49.199999999999996, 50.45714285714286, 31.142857142857142, 33.68571428571428, 42.25714285714285, 43.857142857142854, 33.6, 51.800000000000004, 44.028571428571425, 46.128571428571426, 43.37142857142857, 34.17142857142857, 47.74285714285713, 67.67142857142856, 65.04285714285713, 40.9, 32.84285714285714, 34.97142857142857, 40.24285714285714, 25.0, 33.97142857142857, 49.91428571428572, 52.800000000000004, 32.4, 34.81428571428571, 31.357142857142858, 27.88571428571429, 32.0, 31.5, 63.5, 64.35714285714286, 55.357142857142854, 35.2, 34.82857142857143, 42.25714285714286, 29.414285714285718, 23.699999999999996, 34.97142857142857, 37.62857142857143]}],                        {\"coloraxis\": {\"colorbar\": {\"title\": {\"text\": \"Mean Life Expectancy\"}}, \"colorscale\": [[0.0, \"#0d0887\"], [0.1111111111111111, \"#46039f\"], [0.2222222222222222, \"#7201a8\"], [0.3333333333333333, \"#9c179e\"], [0.4444444444444444, \"#bd3786\"], [0.5555555555555556, \"#d8576b\"], [0.6666666666666666, \"#ed7953\"], [0.7777777777777778, \"#fb9f3a\"], [0.8888888888888888, \"#fdca26\"], [1.0, \"#f0f921\"]]}, \"geo\": {\"center\": {}, \"domain\": {\"x\": [0.0, 1.0], \"y\": [0.0, 1.0]}, \"showcoastlines\": false, \"showframe\": false}, \"legend\": {\"tracegroupgap\": 0}, \"margin\": {\"t\": 60}, \"template\": {\"data\": {\"bar\": [{\"error_x\": {\"color\": \"#2a3f5f\"}, \"error_y\": {\"color\": \"#2a3f5f\"}, \"marker\": {\"line\": {\"color\": \"#E5ECF6\", \"width\": 0.5}}, \"type\": \"bar\"}], \"barpolar\": [{\"marker\": {\"line\": {\"color\": \"#E5ECF6\", \"width\": 0.5}}, \"type\": \"barpolar\"}], \"carpet\": [{\"aaxis\": {\"endlinecolor\": \"#2a3f5f\", \"gridcolor\": \"white\", \"linecolor\": \"white\", \"minorgridcolor\": \"white\", \"startlinecolor\": \"#2a3f5f\"}, \"baxis\": {\"endlinecolor\": \"#2a3f5f\", \"gridcolor\": \"white\", \"linecolor\": \"white\", \"minorgridcolor\": \"white\", \"startlinecolor\": \"#2a3f5f\"}, \"type\": \"carpet\"}], \"choropleth\": [{\"colorbar\": {\"outlinewidth\": 0, \"ticks\": \"\"}, \"type\": \"choropleth\"}], \"contour\": [{\"colorbar\": {\"outlinewidth\": 0, \"ticks\": \"\"}, \"colorscale\": [[0.0, \"#0d0887\"], [0.1111111111111111, \"#46039f\"], [0.2222222222222222, \"#7201a8\"], [0.3333333333333333, \"#9c179e\"], [0.4444444444444444, \"#bd3786\"], [0.5555555555555556, \"#d8576b\"], [0.6666666666666666, \"#ed7953\"], [0.7777777777777778, \"#fb9f3a\"], [0.8888888888888888, \"#fdca26\"], [1.0, \"#f0f921\"]], \"type\": \"contour\"}], \"contourcarpet\": [{\"colorbar\": {\"outlinewidth\": 0, \"ticks\": \"\"}, \"type\": \"contourcarpet\"}], \"heatmap\": [{\"colorbar\": {\"outlinewidth\": 0, \"ticks\": \"\"}, \"colorscale\": [[0.0, \"#0d0887\"], [0.1111111111111111, \"#46039f\"], [0.2222222222222222, \"#7201a8\"], [0.3333333333333333, \"#9c179e\"], [0.4444444444444444, \"#bd3786\"], [0.5555555555555556, \"#d8576b\"], [0.6666666666666666, \"#ed7953\"], [0.7777777777777778, \"#fb9f3a\"], [0.8888888888888888, \"#fdca26\"], [1.0, \"#f0f921\"]], \"type\": \"heatmap\"}], \"heatmapgl\": [{\"colorbar\": {\"outlinewidth\": 0, \"ticks\": \"\"}, \"colorscale\": [[0.0, \"#0d0887\"], [0.1111111111111111, \"#46039f\"], [0.2222222222222222, \"#7201a8\"], [0.3333333333333333, \"#9c179e\"], [0.4444444444444444, \"#bd3786\"], [0.5555555555555556, \"#d8576b\"], [0.6666666666666666, \"#ed7953\"], [0.7777777777777778, \"#fb9f3a\"], [0.8888888888888888, \"#fdca26\"], [1.0, \"#f0f921\"]], \"type\": \"heatmapgl\"}], \"histogram\": [{\"marker\": {\"colorbar\": {\"outlinewidth\": 0, \"ticks\": \"\"}}, \"type\": \"histogram\"}], \"histogram2d\": [{\"colorbar\": {\"outlinewidth\": 0, \"ticks\": \"\"}, \"colorscale\": [[0.0, \"#0d0887\"], [0.1111111111111111, \"#46039f\"], [0.2222222222222222, \"#7201a8\"], [0.3333333333333333, \"#9c179e\"], [0.4444444444444444, \"#bd3786\"], [0.5555555555555556, \"#d8576b\"], [0.6666666666666666, \"#ed7953\"], [0.7777777777777778, \"#fb9f3a\"], [0.8888888888888888, \"#fdca26\"], [1.0, \"#f0f921\"]], \"type\": \"histogram2d\"}], \"histogram2dcontour\": [{\"colorbar\": {\"outlinewidth\": 0, \"ticks\": \"\"}, \"colorscale\": [[0.0, \"#0d0887\"], [0.1111111111111111, \"#46039f\"], [0.2222222222222222, \"#7201a8\"], [0.3333333333333333, \"#9c179e\"], [0.4444444444444444, \"#bd3786\"], [0.5555555555555556, \"#d8576b\"], [0.6666666666666666, \"#ed7953\"], [0.7777777777777778, \"#fb9f3a\"], [0.8888888888888888, \"#fdca26\"], [1.0, \"#f0f921\"]], \"type\": \"histogram2dcontour\"}], \"mesh3d\": [{\"colorbar\": {\"outlinewidth\": 0, \"ticks\": \"\"}, \"type\": \"mesh3d\"}], \"parcoords\": [{\"line\": {\"colorbar\": {\"outlinewidth\": 0, \"ticks\": \"\"}}, \"type\": \"parcoords\"}], \"pie\": [{\"automargin\": true, \"type\": \"pie\"}], \"scatter\": [{\"marker\": {\"colorbar\": {\"outlinewidth\": 0, \"ticks\": \"\"}}, \"type\": \"scatter\"}], \"scatter3d\": [{\"line\": {\"colorbar\": {\"outlinewidth\": 0, \"ticks\": \"\"}}, \"marker\": {\"colorbar\": {\"outlinewidth\": 0, \"ticks\": \"\"}}, \"type\": \"scatter3d\"}], \"scattercarpet\": [{\"marker\": {\"colorbar\": {\"outlinewidth\": 0, \"ticks\": \"\"}}, \"type\": \"scattercarpet\"}], \"scattergeo\": [{\"marker\": {\"colorbar\": {\"outlinewidth\": 0, \"ticks\": \"\"}}, \"type\": \"scattergeo\"}], \"scattergl\": [{\"marker\": {\"colorbar\": {\"outlinewidth\": 0, \"ticks\": \"\"}}, \"type\": \"scattergl\"}], \"scattermapbox\": [{\"marker\": {\"colorbar\": {\"outlinewidth\": 0, \"ticks\": \"\"}}, \"type\": \"scattermapbox\"}], \"scatterpolar\": [{\"marker\": {\"colorbar\": {\"outlinewidth\": 0, \"ticks\": \"\"}}, \"type\": \"scatterpolar\"}], \"scatterpolargl\": [{\"marker\": {\"colorbar\": {\"outlinewidth\": 0, \"ticks\": \"\"}}, \"type\": \"scatterpolargl\"}], \"scatterternary\": [{\"marker\": {\"colorbar\": {\"outlinewidth\": 0, \"ticks\": \"\"}}, \"type\": \"scatterternary\"}], \"surface\": [{\"colorbar\": {\"outlinewidth\": 0, \"ticks\": \"\"}, \"colorscale\": [[0.0, \"#0d0887\"], [0.1111111111111111, \"#46039f\"], [0.2222222222222222, \"#7201a8\"], [0.3333333333333333, \"#9c179e\"], [0.4444444444444444, \"#bd3786\"], [0.5555555555555556, \"#d8576b\"], [0.6666666666666666, \"#ed7953\"], [0.7777777777777778, \"#fb9f3a\"], [0.8888888888888888, \"#fdca26\"], [1.0, \"#f0f921\"]], \"type\": \"surface\"}], \"table\": [{\"cells\": {\"fill\": {\"color\": \"#EBF0F8\"}, \"line\": {\"color\": \"white\"}}, \"header\": {\"fill\": {\"color\": \"#C8D4E3\"}, \"line\": {\"color\": \"white\"}}, \"type\": \"table\"}]}, \"layout\": {\"annotationdefaults\": {\"arrowcolor\": \"#2a3f5f\", \"arrowhead\": 0, \"arrowwidth\": 1}, \"autotypenumbers\": \"strict\", \"coloraxis\": {\"colorbar\": {\"outlinewidth\": 0, \"ticks\": \"\"}}, \"colorscale\": {\"diverging\": [[0, \"#8e0152\"], [0.1, \"#c51b7d\"], [0.2, \"#de77ae\"], [0.3, \"#f1b6da\"], [0.4, \"#fde0ef\"], [0.5, \"#f7f7f7\"], [0.6, \"#e6f5d0\"], [0.7, \"#b8e186\"], [0.8, \"#7fbc41\"], [0.9, \"#4d9221\"], [1, \"#276419\"]], \"sequential\": [[0.0, \"#0d0887\"], [0.1111111111111111, \"#46039f\"], [0.2222222222222222, \"#7201a8\"], [0.3333333333333333, \"#9c179e\"], [0.4444444444444444, \"#bd3786\"], [0.5555555555555556, \"#d8576b\"], [0.6666666666666666, \"#ed7953\"], [0.7777777777777778, \"#fb9f3a\"], [0.8888888888888888, \"#fdca26\"], [1.0, \"#f0f921\"]], \"sequentialminus\": [[0.0, \"#0d0887\"], [0.1111111111111111, \"#46039f\"], [0.2222222222222222, \"#7201a8\"], [0.3333333333333333, \"#9c179e\"], [0.4444444444444444, \"#bd3786\"], [0.5555555555555556, \"#d8576b\"], [0.6666666666666666, \"#ed7953\"], [0.7777777777777778, \"#fb9f3a\"], [0.8888888888888888, \"#fdca26\"], [1.0, \"#f0f921\"]]}, \"colorway\": [\"#636efa\", \"#EF553B\", \"#00cc96\", \"#ab63fa\", \"#FFA15A\", \"#19d3f3\", \"#FF6692\", \"#B6E880\", \"#FF97FF\", \"#FECB52\"], \"font\": {\"color\": \"#2a3f5f\"}, \"geo\": {\"bgcolor\": \"white\", \"lakecolor\": \"white\", \"landcolor\": \"#E5ECF6\", \"showlakes\": true, \"showland\": true, \"subunitcolor\": \"white\"}, \"hoverlabel\": {\"align\": \"left\"}, \"hovermode\": \"closest\", \"mapbox\": {\"style\": \"light\"}, \"paper_bgcolor\": \"white\", \"plot_bgcolor\": \"#E5ECF6\", \"polar\": {\"angularaxis\": {\"gridcolor\": \"white\", \"linecolor\": \"white\", \"ticks\": \"\"}, \"bgcolor\": \"#E5ECF6\", \"radialaxis\": {\"gridcolor\": \"white\", \"linecolor\": \"white\", \"ticks\": \"\"}}, \"scene\": {\"xaxis\": {\"backgroundcolor\": \"#E5ECF6\", \"gridcolor\": \"white\", \"gridwidth\": 2, \"linecolor\": \"white\", \"showbackground\": true, \"ticks\": \"\", \"zerolinecolor\": \"white\"}, \"yaxis\": {\"backgroundcolor\": \"#E5ECF6\", \"gridcolor\": \"white\", \"gridwidth\": 2, \"linecolor\": \"white\", \"showbackground\": true, \"ticks\": \"\", \"zerolinecolor\": \"white\"}, \"zaxis\": {\"backgroundcolor\": \"#E5ECF6\", \"gridcolor\": \"white\", \"gridwidth\": 2, \"linecolor\": \"white\", \"showbackground\": true, \"ticks\": \"\", \"zerolinecolor\": \"white\"}}, \"shapedefaults\": {\"line\": {\"color\": \"#2a3f5f\"}}, \"ternary\": {\"aaxis\": {\"gridcolor\": \"white\", \"linecolor\": \"white\", \"ticks\": \"\"}, \"baxis\": {\"gridcolor\": \"white\", \"linecolor\": \"white\", \"ticks\": \"\"}, \"bgcolor\": \"#E5ECF6\", \"caxis\": {\"gridcolor\": \"white\", \"linecolor\": \"white\", \"ticks\": \"\"}}, \"title\": {\"x\": 0.05}, \"xaxis\": {\"automargin\": true, \"gridcolor\": \"white\", \"linecolor\": \"white\", \"ticks\": \"\", \"title\": {\"standoff\": 15}, \"zerolinecolor\": \"white\", \"zerolinewidth\": 2}, \"yaxis\": {\"automargin\": true, \"gridcolor\": \"white\", \"linecolor\": \"white\", \"ticks\": \"\", \"title\": {\"standoff\": 15}, \"zerolinecolor\": \"white\", \"zerolinewidth\": 2}}}, \"title\": {\"text\": \"World Life Expectancy\", \"x\": 0.5}},                        {\"responsive\": true}                    ).then(function(){\n",
       "                            \n",
       "var gd = document.getElementById('89cd0a08-08b2-4b07-9c5a-3430052b7c94');\n",
       "var x = new MutationObserver(function (mutations, observer) {{\n",
       "        var display = window.getComputedStyle(gd).display;\n",
       "        if (!display || display === 'none') {{\n",
       "            console.log([gd, 'removed!']);\n",
       "            Plotly.purge(gd);\n",
       "            observer.disconnect();\n",
       "        }}\n",
       "}});\n",
       "\n",
       "// Listen for the removal of the full notebook cells\n",
       "var notebookContainer = gd.closest('#notebook-container');\n",
       "if (notebookContainer) {{\n",
       "    x.observe(notebookContainer, {childList: true});\n",
       "}}\n",
       "\n",
       "// Listen for the clearing of the current output cell\n",
       "var outputEl = gd.closest('.output');\n",
       "if (outputEl) {{\n",
       "    x.observe(outputEl, {childList: true});\n",
       "}}\n",
       "\n",
       "                        })                };                });            </script>        </div>"
      ]
     },
     "metadata": {},
     "output_type": "display_data"
    }
   ],
   "source": [
    "# world during World War II\n",
    "\n",
    "world_map_plot((1939, 1945))"
   ]
  },
  {
   "cell_type": "code",
   "execution_count": 14,
   "metadata": {
    "cell_id": "00021-544658ab-a6ab-4d55-be78-222564480ce3",
    "deepnote_cell_type": "code",
    "deepnote_to_be_reexecuted": false,
    "execution_millis": 136,
    "execution_start": 1610404809683,
    "source_hash": "7efed350",
    "tags": []
   },
   "outputs": [
    {
     "name": "stdout",
     "output_type": "stream",
     "text": [
      "['Micronesia, Fed. Sts.', 'Moldova', 'St. Lucia', 'St. Vincent and the Grenadines']\n"
     ]
    },
    {
     "data": {
      "application/vnd.plotly.v1+json": {
       "config": {
        "plotlyServerURL": "https://plot.ly"
       },
       "data": [
        {
         "coloraxis": "coloraxis",
         "geo": "geo",
         "hovertemplate": "<b>%{hovertext}</b><br><br>ISO=%{location}<br>Mean Life Expectancy=%{z}<extra></extra>",
         "hovertext": [
          "Afghanistan",
          "Albania",
          "Algeria",
          "Angola",
          "Antigua and Barbuda",
          "Argentina",
          "Armenia",
          "Australia",
          "Austria",
          "Azerbaijan",
          "Bahamas",
          "Bahrain",
          "Bangladesh",
          "Barbados",
          "Belarus",
          "Belgium",
          "Belize",
          "Benin",
          "Bhutan",
          "Bolivia",
          "Bosnia and Herzegovina",
          "Botswana",
          "Brazil",
          "Brunei",
          "Bulgaria",
          "Burkina Faso",
          "Burundi",
          "Cambodia",
          "Cameroon",
          "Canada",
          "Cape Verde",
          "Central African Republic",
          "Chad",
          "Chile",
          "China",
          "Colombia",
          "Comoros",
          "Congo, Dem. Rep.",
          "Congo, Rep.",
          "Costa Rica",
          "Cote d'Ivoire",
          "Croatia",
          "Cuba",
          "Cyprus",
          "Czech Republic",
          "Denmark",
          "Djibouti",
          "Dominican Republic",
          "Ecuador",
          "Egypt",
          "El Salvador",
          "Equatorial Guinea",
          "Eritrea",
          "Estonia",
          "Eswatini",
          "Ethiopia",
          "Fiji",
          "Finland",
          "France",
          "Gabon",
          "Gambia",
          "Georgia",
          "Germany",
          "Ghana",
          "Greece",
          "Grenada",
          "Guatemala",
          "Guinea",
          "Guinea-Bissau",
          "Guyana",
          "Haiti",
          "Honduras",
          "Hungary",
          "Iceland",
          "India",
          "Indonesia",
          "Iran",
          "Iraq",
          "Ireland",
          "Israel",
          "Italy",
          "Jamaica",
          "Japan",
          "Jordan",
          "Kazakhstan",
          "Kenya",
          "Kiribati",
          "Kuwait",
          "Kyrgyz Republic",
          "Lao",
          "Latvia",
          "Lebanon",
          "Lesotho",
          "Liberia",
          "Libya",
          "Lithuania",
          "Luxembourg",
          "Madagascar",
          "Malawi",
          "Malaysia",
          "Maldives",
          "Mali",
          "Malta",
          "Mauritania",
          "Mauritius",
          "Mexico",
          "Micronesia, Fed. Sts.",
          "Moldova",
          "Mongolia",
          "Montenegro",
          "Morocco",
          "Mozambique",
          "Myanmar",
          "Namibia",
          "Nepal",
          "Netherlands",
          "New Zealand",
          "Nicaragua",
          "Niger",
          "Nigeria",
          "North Korea",
          "North Macedonia",
          "Norway",
          "Oman",
          "Pakistan",
          "Palestine",
          "Panama",
          "Papua New Guinea",
          "Paraguay",
          "Peru",
          "Philippines",
          "Poland",
          "Portugal",
          "Qatar",
          "Romania",
          "Russia",
          "Rwanda",
          "Samoa",
          "Sao Tome and Principe",
          "Saudi Arabia",
          "Senegal",
          "Serbia",
          "Seychelles",
          "Sierra Leone",
          "Singapore",
          "Slovak Republic",
          "Slovenia",
          "Solomon Islands",
          "Somalia",
          "South Africa",
          "South Korea",
          "South Sudan",
          "Spain",
          "Sri Lanka",
          "St. Lucia",
          "St. Vincent and the Grenadines",
          "Sudan",
          "Suriname",
          "Sweden",
          "Switzerland",
          "Syria",
          "Tajikistan",
          "Tanzania",
          "Thailand",
          "Timor-Leste",
          "Togo",
          "Tonga",
          "Trinidad and Tobago",
          "Tunisia",
          "Turkey",
          "Turkmenistan",
          "Uganda",
          "Ukraine",
          "United Arab Emirates",
          "United Kingdom",
          "United States",
          "Uruguay",
          "Uzbekistan",
          "Vanuatu",
          "Venezuela",
          "Vietnam",
          "Yemen",
          "Zambia",
          "Zimbabwe"
         ],
         "locations": [
          "AFG",
          "ALB",
          "DZA",
          "AGO",
          "ATG",
          "ARG",
          "ARM",
          "AUS",
          "AUT",
          "AZE",
          "BHS",
          "BHR",
          "BGD",
          "BRB",
          "BLR",
          "BEL",
          "BLZ",
          "BEN",
          "BTN",
          "BOL",
          "BIH",
          "BWA",
          "BRA",
          "BRN",
          "BGR",
          "BFA",
          "BDI",
          "KHM",
          "CMR",
          "CAN",
          "CPV",
          "CAF",
          "TCD",
          "CHL",
          "CHN",
          "COL",
          "COM",
          "COD",
          "COG",
          "CRI",
          "CIV",
          "HRV",
          "CUB",
          "CYP",
          "CZE",
          "DNK",
          "DJI",
          "DOM",
          "ECU",
          "EGY",
          "SLV",
          "GNQ",
          "ERI",
          "EST",
          "SWZ",
          "ETH",
          "FJI",
          "FIN",
          "FRA",
          "GAB",
          "GMB",
          "GEO",
          "DEU",
          "GHA",
          "GRC",
          "GRD",
          "GTM",
          "GIN",
          "GNB",
          "GUY",
          "HTI",
          "HND",
          "HUN",
          "ISL",
          "IND",
          "IDN",
          "IRN",
          "IRQ",
          "IRL",
          "ISR",
          "ITA",
          "JAM",
          "JPN",
          "JOR",
          "KAZ",
          "KEN",
          "KIR",
          "KWT",
          "KGZ",
          "LAO",
          "LVA",
          "LBN",
          "LSO",
          "LBR",
          "LBY",
          "LTU",
          "LUX",
          "MDG",
          "MWI",
          "MYS",
          "MDV",
          "MLI",
          "MLT",
          "MRT",
          "MUS",
          "MEX",
          " ",
          " ",
          "MNG",
          "MNE",
          "MAR",
          "MOZ",
          "MMR",
          "NAM",
          "NPL",
          "NLD",
          "NZL",
          "NIC",
          "NER",
          "NGA",
          "PRK",
          "MKD",
          "NOR",
          "OMN",
          "PAK",
          "PSE",
          "PAN",
          "PNG",
          "PRY",
          "PER",
          "PHL",
          "POL",
          "PRT",
          "QAT",
          "ROU",
          "RUS",
          "RWA",
          "WSM",
          "STP",
          "SAU",
          "SEN",
          "SRB",
          "SYC",
          "SLE",
          "SGP",
          "SVK",
          "SVN",
          "SLB",
          "SOM",
          "ZAF",
          "KOR",
          "SSD",
          "ESP",
          "LKA",
          " ",
          " ",
          "SDN",
          "SUR",
          "SWE",
          "CHE",
          "SYR",
          "TJK",
          "TZA",
          "THA",
          "TLS",
          "TGO",
          "TON",
          "TTO",
          "TUN",
          "TUR",
          "TKM",
          "UGA",
          "UKR",
          "ARE",
          "GBR",
          "USA",
          "URY",
          "UZB",
          "VUT",
          "VEN",
          "VNM",
          "YEM",
          "ZMB",
          "ZWE"
         ],
         "name": "",
         "type": "choropleth",
         "z": [
          37.66603960396041,
          52.95445544554457,
          47.12475247524751,
          37.893069306930684,
          54.646534653465366,
          59.225742574257445,
          52.63069306930693,
          67.37425742574256,
          61.27128712871291,
          49.41485148514851,
          54.10198019801981,
          47.98613861386138,
          38.74158415841584,
          54.94653465346532,
          55.4960396039604,
          63.53366336633661,
          51.63465346534654,
          40.451485148514855,
          42.34455445544555,
          44.37425742574258,
          52.542574257425755,
          45.41188118811881,
          48.6089108910891,
          51.514851485148526,
          58.49207920792078,
          38.04158415841585,
          37.73465346534655,
          41.858415841584154,
          40.9539603960396,
          65.93465346534653,
          50.54158415841583,
          38.24752475247526,
          41.62178217821782,
          51.622772277227725,
          46.532673267326736,
          51.16930693069306,
          42.68514851485149,
          42.408910891089114,
          40.0990099009901,
          55.88019801980197,
          41.41188118811883,
          54.7920792079208,
          56.27227722772278,
          60.01089108910893,
          60.670297029702965,
          67.3148514851485,
          44.98811881188119,
          49.87029702970295,
          50.63069306930693,
          43.68118811881188,
          46.83564356435643,
          38.429702970297036,
          37.610891089108925,
          59.16831683168315,
          43.301980198019805,
          35.91287128712872,
          49.474059405940615,
          61.57524752475248,
          63.055445544554466,
          42.870297029702975,
          43.985148514851474,
          52.29207920792081,
          62.55247524752475,
          44.21287128712869,
          60.71881188118814,
          54.799009900990086,
          40.25514851485149,
          40.52475247524753,
          37.3970297029703,
          51.90297029702972,
          38.38316831683168,
          48.7970297029703,
          57.24059405940597,
          67.09207920792082,
          39.10257425742576,
          43.15049504950494,
          44.14257425742575,
          44.595049504950495,
          64.37821782178221,
          54.67821782178217,
          61.56732673267328,
          55.54356435643566,
          59.01584158415842,
          48.16435643564356,
          48.16950495049506,
          42.39257425742575,
          41.64554455445544,
          49.31980198019804,
          45.69504950495048,
          37.94851485148514,
          59.44059405940593,
          48.762376237623755,
          45.206930693069296,
          40.42079207920792,
          49.24158415841582,
          58.54455445544552,
          62.99108910891089,
          41.68613861386137,
          37.9,
          49.76633663366339,
          39.5841584158416,
          35.63366336633665,
          62.36336633663369,
          43.77524752475249,
          46.9891089108911,
          49.47623762376236,
          46.02336633663366,
          50.340594059405944,
          42.84455445544555,
          55.688118811881196,
          46.540594059405926,
          39.567326732673266,
          38.163366336633665,
          44.86821782178218,
          43.612871287128726,
          67.63663366336633,
          65.5851485148515,
          45.19603960396041,
          38.852475247524744,
          44.09306930693067,
          49.30891089108911,
          54.33267326732672,
          68.33960396039605,
          43.53762376237624,
          41.197227722772276,
          49.52475247524753,
          54.538613861386125,
          42.01287128712872,
          56.03267326732673,
          45.943564356435665,
          49.40099009900991,
          57.36930693069305,
          55.083168316831696,
          48.225742574257424,
          54.44950495049505,
          50.35742574257428,
          38.961782178217824,
          48.52673267326733,
          46.134653465346545,
          50.50891089108911,
          40.290099009900985,
          53.570693069306955,
          59.38712871287128,
          36.91287128712871,
          55.20693069306931,
          58.23267326732674,
          56.64653465346534,
          41.47029702970297,
          40.02475247524752,
          47.4950495049505,
          48.22277227722773,
          39.48910891089108,
          59.519801980198004,
          50.66435643564357,
          49.977227722772284,
          48.82673267326733,
          42.84356435643565,
          51.072277227722786,
          68.52475247524757,
          66.65346534653465,
          49.297029702970306,
          45.340594059405944,
          43.179207920792095,
          49.32772277227725,
          39.08118811881188,
          42.29999999999999,
          51.53524752475248,
          55.469306930693065,
          46.52871287128714,
          46.568415841584155,
          44.52970297029704,
          36.366039603960395,
          53.9429702970297,
          47.594059405940605,
          65.17128712871288,
          65.27029702970299,
          55.553465346534644,
          49.33861386138614,
          42.72970297029703,
          51.19207920792081,
          46.133663366336634,
          34.96633663366337,
          42.703960396039605,
          45.50792079207922
         ]
        }
       ],
       "layout": {
        "coloraxis": {
         "colorbar": {
          "title": {
           "text": "Mean Life Expectancy"
          }
         },
         "colorscale": [
          [
           0,
           "#0d0887"
          ],
          [
           0.1111111111111111,
           "#46039f"
          ],
          [
           0.2222222222222222,
           "#7201a8"
          ],
          [
           0.3333333333333333,
           "#9c179e"
          ],
          [
           0.4444444444444444,
           "#bd3786"
          ],
          [
           0.5555555555555556,
           "#d8576b"
          ],
          [
           0.6666666666666666,
           "#ed7953"
          ],
          [
           0.7777777777777778,
           "#fb9f3a"
          ],
          [
           0.8888888888888888,
           "#fdca26"
          ],
          [
           1,
           "#f0f921"
          ]
         ]
        },
        "geo": {
         "center": {},
         "domain": {
          "x": [
           0,
           1
          ],
          "y": [
           0,
           1
          ]
         },
         "showcoastlines": false,
         "showframe": false
        },
        "legend": {
         "tracegroupgap": 0
        },
        "margin": {
         "t": 60
        },
        "template": {
         "data": {
          "bar": [
           {
            "error_x": {
             "color": "#2a3f5f"
            },
            "error_y": {
             "color": "#2a3f5f"
            },
            "marker": {
             "line": {
              "color": "#E5ECF6",
              "width": 0.5
             }
            },
            "type": "bar"
           }
          ],
          "barpolar": [
           {
            "marker": {
             "line": {
              "color": "#E5ECF6",
              "width": 0.5
             }
            },
            "type": "barpolar"
           }
          ],
          "carpet": [
           {
            "aaxis": {
             "endlinecolor": "#2a3f5f",
             "gridcolor": "white",
             "linecolor": "white",
             "minorgridcolor": "white",
             "startlinecolor": "#2a3f5f"
            },
            "baxis": {
             "endlinecolor": "#2a3f5f",
             "gridcolor": "white",
             "linecolor": "white",
             "minorgridcolor": "white",
             "startlinecolor": "#2a3f5f"
            },
            "type": "carpet"
           }
          ],
          "choropleth": [
           {
            "colorbar": {
             "outlinewidth": 0,
             "ticks": ""
            },
            "type": "choropleth"
           }
          ],
          "contour": [
           {
            "colorbar": {
             "outlinewidth": 0,
             "ticks": ""
            },
            "colorscale": [
             [
              0,
              "#0d0887"
             ],
             [
              0.1111111111111111,
              "#46039f"
             ],
             [
              0.2222222222222222,
              "#7201a8"
             ],
             [
              0.3333333333333333,
              "#9c179e"
             ],
             [
              0.4444444444444444,
              "#bd3786"
             ],
             [
              0.5555555555555556,
              "#d8576b"
             ],
             [
              0.6666666666666666,
              "#ed7953"
             ],
             [
              0.7777777777777778,
              "#fb9f3a"
             ],
             [
              0.8888888888888888,
              "#fdca26"
             ],
             [
              1,
              "#f0f921"
             ]
            ],
            "type": "contour"
           }
          ],
          "contourcarpet": [
           {
            "colorbar": {
             "outlinewidth": 0,
             "ticks": ""
            },
            "type": "contourcarpet"
           }
          ],
          "heatmap": [
           {
            "colorbar": {
             "outlinewidth": 0,
             "ticks": ""
            },
            "colorscale": [
             [
              0,
              "#0d0887"
             ],
             [
              0.1111111111111111,
              "#46039f"
             ],
             [
              0.2222222222222222,
              "#7201a8"
             ],
             [
              0.3333333333333333,
              "#9c179e"
             ],
             [
              0.4444444444444444,
              "#bd3786"
             ],
             [
              0.5555555555555556,
              "#d8576b"
             ],
             [
              0.6666666666666666,
              "#ed7953"
             ],
             [
              0.7777777777777778,
              "#fb9f3a"
             ],
             [
              0.8888888888888888,
              "#fdca26"
             ],
             [
              1,
              "#f0f921"
             ]
            ],
            "type": "heatmap"
           }
          ],
          "heatmapgl": [
           {
            "colorbar": {
             "outlinewidth": 0,
             "ticks": ""
            },
            "colorscale": [
             [
              0,
              "#0d0887"
             ],
             [
              0.1111111111111111,
              "#46039f"
             ],
             [
              0.2222222222222222,
              "#7201a8"
             ],
             [
              0.3333333333333333,
              "#9c179e"
             ],
             [
              0.4444444444444444,
              "#bd3786"
             ],
             [
              0.5555555555555556,
              "#d8576b"
             ],
             [
              0.6666666666666666,
              "#ed7953"
             ],
             [
              0.7777777777777778,
              "#fb9f3a"
             ],
             [
              0.8888888888888888,
              "#fdca26"
             ],
             [
              1,
              "#f0f921"
             ]
            ],
            "type": "heatmapgl"
           }
          ],
          "histogram": [
           {
            "marker": {
             "colorbar": {
              "outlinewidth": 0,
              "ticks": ""
             }
            },
            "type": "histogram"
           }
          ],
          "histogram2d": [
           {
            "colorbar": {
             "outlinewidth": 0,
             "ticks": ""
            },
            "colorscale": [
             [
              0,
              "#0d0887"
             ],
             [
              0.1111111111111111,
              "#46039f"
             ],
             [
              0.2222222222222222,
              "#7201a8"
             ],
             [
              0.3333333333333333,
              "#9c179e"
             ],
             [
              0.4444444444444444,
              "#bd3786"
             ],
             [
              0.5555555555555556,
              "#d8576b"
             ],
             [
              0.6666666666666666,
              "#ed7953"
             ],
             [
              0.7777777777777778,
              "#fb9f3a"
             ],
             [
              0.8888888888888888,
              "#fdca26"
             ],
             [
              1,
              "#f0f921"
             ]
            ],
            "type": "histogram2d"
           }
          ],
          "histogram2dcontour": [
           {
            "colorbar": {
             "outlinewidth": 0,
             "ticks": ""
            },
            "colorscale": [
             [
              0,
              "#0d0887"
             ],
             [
              0.1111111111111111,
              "#46039f"
             ],
             [
              0.2222222222222222,
              "#7201a8"
             ],
             [
              0.3333333333333333,
              "#9c179e"
             ],
             [
              0.4444444444444444,
              "#bd3786"
             ],
             [
              0.5555555555555556,
              "#d8576b"
             ],
             [
              0.6666666666666666,
              "#ed7953"
             ],
             [
              0.7777777777777778,
              "#fb9f3a"
             ],
             [
              0.8888888888888888,
              "#fdca26"
             ],
             [
              1,
              "#f0f921"
             ]
            ],
            "type": "histogram2dcontour"
           }
          ],
          "mesh3d": [
           {
            "colorbar": {
             "outlinewidth": 0,
             "ticks": ""
            },
            "type": "mesh3d"
           }
          ],
          "parcoords": [
           {
            "line": {
             "colorbar": {
              "outlinewidth": 0,
              "ticks": ""
             }
            },
            "type": "parcoords"
           }
          ],
          "pie": [
           {
            "automargin": true,
            "type": "pie"
           }
          ],
          "scatter": [
           {
            "marker": {
             "colorbar": {
              "outlinewidth": 0,
              "ticks": ""
             }
            },
            "type": "scatter"
           }
          ],
          "scatter3d": [
           {
            "line": {
             "colorbar": {
              "outlinewidth": 0,
              "ticks": ""
             }
            },
            "marker": {
             "colorbar": {
              "outlinewidth": 0,
              "ticks": ""
             }
            },
            "type": "scatter3d"
           }
          ],
          "scattercarpet": [
           {
            "marker": {
             "colorbar": {
              "outlinewidth": 0,
              "ticks": ""
             }
            },
            "type": "scattercarpet"
           }
          ],
          "scattergeo": [
           {
            "marker": {
             "colorbar": {
              "outlinewidth": 0,
              "ticks": ""
             }
            },
            "type": "scattergeo"
           }
          ],
          "scattergl": [
           {
            "marker": {
             "colorbar": {
              "outlinewidth": 0,
              "ticks": ""
             }
            },
            "type": "scattergl"
           }
          ],
          "scattermapbox": [
           {
            "marker": {
             "colorbar": {
              "outlinewidth": 0,
              "ticks": ""
             }
            },
            "type": "scattermapbox"
           }
          ],
          "scatterpolar": [
           {
            "marker": {
             "colorbar": {
              "outlinewidth": 0,
              "ticks": ""
             }
            },
            "type": "scatterpolar"
           }
          ],
          "scatterpolargl": [
           {
            "marker": {
             "colorbar": {
              "outlinewidth": 0,
              "ticks": ""
             }
            },
            "type": "scatterpolargl"
           }
          ],
          "scatterternary": [
           {
            "marker": {
             "colorbar": {
              "outlinewidth": 0,
              "ticks": ""
             }
            },
            "type": "scatterternary"
           }
          ],
          "surface": [
           {
            "colorbar": {
             "outlinewidth": 0,
             "ticks": ""
            },
            "colorscale": [
             [
              0,
              "#0d0887"
             ],
             [
              0.1111111111111111,
              "#46039f"
             ],
             [
              0.2222222222222222,
              "#7201a8"
             ],
             [
              0.3333333333333333,
              "#9c179e"
             ],
             [
              0.4444444444444444,
              "#bd3786"
             ],
             [
              0.5555555555555556,
              "#d8576b"
             ],
             [
              0.6666666666666666,
              "#ed7953"
             ],
             [
              0.7777777777777778,
              "#fb9f3a"
             ],
             [
              0.8888888888888888,
              "#fdca26"
             ],
             [
              1,
              "#f0f921"
             ]
            ],
            "type": "surface"
           }
          ],
          "table": [
           {
            "cells": {
             "fill": {
              "color": "#EBF0F8"
             },
             "line": {
              "color": "white"
             }
            },
            "header": {
             "fill": {
              "color": "#C8D4E3"
             },
             "line": {
              "color": "white"
             }
            },
            "type": "table"
           }
          ]
         },
         "layout": {
          "annotationdefaults": {
           "arrowcolor": "#2a3f5f",
           "arrowhead": 0,
           "arrowwidth": 1
          },
          "autotypenumbers": "strict",
          "coloraxis": {
           "colorbar": {
            "outlinewidth": 0,
            "ticks": ""
           }
          },
          "colorscale": {
           "diverging": [
            [
             0,
             "#8e0152"
            ],
            [
             0.1,
             "#c51b7d"
            ],
            [
             0.2,
             "#de77ae"
            ],
            [
             0.3,
             "#f1b6da"
            ],
            [
             0.4,
             "#fde0ef"
            ],
            [
             0.5,
             "#f7f7f7"
            ],
            [
             0.6,
             "#e6f5d0"
            ],
            [
             0.7,
             "#b8e186"
            ],
            [
             0.8,
             "#7fbc41"
            ],
            [
             0.9,
             "#4d9221"
            ],
            [
             1,
             "#276419"
            ]
           ],
           "sequential": [
            [
             0,
             "#0d0887"
            ],
            [
             0.1111111111111111,
             "#46039f"
            ],
            [
             0.2222222222222222,
             "#7201a8"
            ],
            [
             0.3333333333333333,
             "#9c179e"
            ],
            [
             0.4444444444444444,
             "#bd3786"
            ],
            [
             0.5555555555555556,
             "#d8576b"
            ],
            [
             0.6666666666666666,
             "#ed7953"
            ],
            [
             0.7777777777777778,
             "#fb9f3a"
            ],
            [
             0.8888888888888888,
             "#fdca26"
            ],
            [
             1,
             "#f0f921"
            ]
           ],
           "sequentialminus": [
            [
             0,
             "#0d0887"
            ],
            [
             0.1111111111111111,
             "#46039f"
            ],
            [
             0.2222222222222222,
             "#7201a8"
            ],
            [
             0.3333333333333333,
             "#9c179e"
            ],
            [
             0.4444444444444444,
             "#bd3786"
            ],
            [
             0.5555555555555556,
             "#d8576b"
            ],
            [
             0.6666666666666666,
             "#ed7953"
            ],
            [
             0.7777777777777778,
             "#fb9f3a"
            ],
            [
             0.8888888888888888,
             "#fdca26"
            ],
            [
             1,
             "#f0f921"
            ]
           ]
          },
          "colorway": [
           "#636efa",
           "#EF553B",
           "#00cc96",
           "#ab63fa",
           "#FFA15A",
           "#19d3f3",
           "#FF6692",
           "#B6E880",
           "#FF97FF",
           "#FECB52"
          ],
          "font": {
           "color": "#2a3f5f"
          },
          "geo": {
           "bgcolor": "white",
           "lakecolor": "white",
           "landcolor": "#E5ECF6",
           "showlakes": true,
           "showland": true,
           "subunitcolor": "white"
          },
          "hoverlabel": {
           "align": "left"
          },
          "hovermode": "closest",
          "mapbox": {
           "style": "light"
          },
          "paper_bgcolor": "white",
          "plot_bgcolor": "#E5ECF6",
          "polar": {
           "angularaxis": {
            "gridcolor": "white",
            "linecolor": "white",
            "ticks": ""
           },
           "bgcolor": "#E5ECF6",
           "radialaxis": {
            "gridcolor": "white",
            "linecolor": "white",
            "ticks": ""
           }
          },
          "scene": {
           "xaxis": {
            "backgroundcolor": "#E5ECF6",
            "gridcolor": "white",
            "gridwidth": 2,
            "linecolor": "white",
            "showbackground": true,
            "ticks": "",
            "zerolinecolor": "white"
           },
           "yaxis": {
            "backgroundcolor": "#E5ECF6",
            "gridcolor": "white",
            "gridwidth": 2,
            "linecolor": "white",
            "showbackground": true,
            "ticks": "",
            "zerolinecolor": "white"
           },
           "zaxis": {
            "backgroundcolor": "#E5ECF6",
            "gridcolor": "white",
            "gridwidth": 2,
            "linecolor": "white",
            "showbackground": true,
            "ticks": "",
            "zerolinecolor": "white"
           }
          },
          "shapedefaults": {
           "line": {
            "color": "#2a3f5f"
           }
          },
          "ternary": {
           "aaxis": {
            "gridcolor": "white",
            "linecolor": "white",
            "ticks": ""
           },
           "baxis": {
            "gridcolor": "white",
            "linecolor": "white",
            "ticks": ""
           },
           "bgcolor": "#E5ECF6",
           "caxis": {
            "gridcolor": "white",
            "linecolor": "white",
            "ticks": ""
           }
          },
          "title": {
           "x": 0.05
          },
          "xaxis": {
           "automargin": true,
           "gridcolor": "white",
           "linecolor": "white",
           "ticks": "",
           "title": {
            "standoff": 15
           },
           "zerolinecolor": "white",
           "zerolinewidth": 2
          },
          "yaxis": {
           "automargin": true,
           "gridcolor": "white",
           "linecolor": "white",
           "ticks": "",
           "title": {
            "standoff": 15
           },
           "zerolinecolor": "white",
           "zerolinewidth": 2
          }
         }
        },
        "title": {
         "text": "World Life Expectancy",
         "x": 0.5
        }
       }
      },
      "text/html": [
       "<div>                            <div id=\"d54c19f0-7155-42e0-a52b-b0506eb3105f\" class=\"plotly-graph-div\" style=\"height:525px; width:100%;\"></div>            <script type=\"text/javascript\">                require([\"plotly\"], function(Plotly) {                    window.PLOTLYENV=window.PLOTLYENV || {};                                    if (document.getElementById(\"d54c19f0-7155-42e0-a52b-b0506eb3105f\")) {                    Plotly.newPlot(                        \"d54c19f0-7155-42e0-a52b-b0506eb3105f\",                        [{\"coloraxis\": \"coloraxis\", \"geo\": \"geo\", \"hovertemplate\": \"<b>%{hovertext}</b><br><br>ISO=%{location}<br>Mean Life Expectancy=%{z}<extra></extra>\", \"hovertext\": [\"Afghanistan\", \"Albania\", \"Algeria\", \"Angola\", \"Antigua and Barbuda\", \"Argentina\", \"Armenia\", \"Australia\", \"Austria\", \"Azerbaijan\", \"Bahamas\", \"Bahrain\", \"Bangladesh\", \"Barbados\", \"Belarus\", \"Belgium\", \"Belize\", \"Benin\", \"Bhutan\", \"Bolivia\", \"Bosnia and Herzegovina\", \"Botswana\", \"Brazil\", \"Brunei\", \"Bulgaria\", \"Burkina Faso\", \"Burundi\", \"Cambodia\", \"Cameroon\", \"Canada\", \"Cape Verde\", \"Central African Republic\", \"Chad\", \"Chile\", \"China\", \"Colombia\", \"Comoros\", \"Congo, Dem. Rep.\", \"Congo, Rep.\", \"Costa Rica\", \"Cote d'Ivoire\", \"Croatia\", \"Cuba\", \"Cyprus\", \"Czech Republic\", \"Denmark\", \"Djibouti\", \"Dominican Republic\", \"Ecuador\", \"Egypt\", \"El Salvador\", \"Equatorial Guinea\", \"Eritrea\", \"Estonia\", \"Eswatini\", \"Ethiopia\", \"Fiji\", \"Finland\", \"France\", \"Gabon\", \"Gambia\", \"Georgia\", \"Germany\", \"Ghana\", \"Greece\", \"Grenada\", \"Guatemala\", \"Guinea\", \"Guinea-Bissau\", \"Guyana\", \"Haiti\", \"Honduras\", \"Hungary\", \"Iceland\", \"India\", \"Indonesia\", \"Iran\", \"Iraq\", \"Ireland\", \"Israel\", \"Italy\", \"Jamaica\", \"Japan\", \"Jordan\", \"Kazakhstan\", \"Kenya\", \"Kiribati\", \"Kuwait\", \"Kyrgyz Republic\", \"Lao\", \"Latvia\", \"Lebanon\", \"Lesotho\", \"Liberia\", \"Libya\", \"Lithuania\", \"Luxembourg\", \"Madagascar\", \"Malawi\", \"Malaysia\", \"Maldives\", \"Mali\", \"Malta\", \"Mauritania\", \"Mauritius\", \"Mexico\", \"Micronesia, Fed. Sts.\", \"Moldova\", \"Mongolia\", \"Montenegro\", \"Morocco\", \"Mozambique\", \"Myanmar\", \"Namibia\", \"Nepal\", \"Netherlands\", \"New Zealand\", \"Nicaragua\", \"Niger\", \"Nigeria\", \"North Korea\", \"North Macedonia\", \"Norway\", \"Oman\", \"Pakistan\", \"Palestine\", \"Panama\", \"Papua New Guinea\", \"Paraguay\", \"Peru\", \"Philippines\", \"Poland\", \"Portugal\", \"Qatar\", \"Romania\", \"Russia\", \"Rwanda\", \"Samoa\", \"Sao Tome and Principe\", \"Saudi Arabia\", \"Senegal\", \"Serbia\", \"Seychelles\", \"Sierra Leone\", \"Singapore\", \"Slovak Republic\", \"Slovenia\", \"Solomon Islands\", \"Somalia\", \"South Africa\", \"South Korea\", \"South Sudan\", \"Spain\", \"Sri Lanka\", \"St. Lucia\", \"St. Vincent and the Grenadines\", \"Sudan\", \"Suriname\", \"Sweden\", \"Switzerland\", \"Syria\", \"Tajikistan\", \"Tanzania\", \"Thailand\", \"Timor-Leste\", \"Togo\", \"Tonga\", \"Trinidad and Tobago\", \"Tunisia\", \"Turkey\", \"Turkmenistan\", \"Uganda\", \"Ukraine\", \"United Arab Emirates\", \"United Kingdom\", \"United States\", \"Uruguay\", \"Uzbekistan\", \"Vanuatu\", \"Venezuela\", \"Vietnam\", \"Yemen\", \"Zambia\", \"Zimbabwe\"], \"locations\": [\"AFG\", \"ALB\", \"DZA\", \"AGO\", \"ATG\", \"ARG\", \"ARM\", \"AUS\", \"AUT\", \"AZE\", \"BHS\", \"BHR\", \"BGD\", \"BRB\", \"BLR\", \"BEL\", \"BLZ\", \"BEN\", \"BTN\", \"BOL\", \"BIH\", \"BWA\", \"BRA\", \"BRN\", \"BGR\", \"BFA\", \"BDI\", \"KHM\", \"CMR\", \"CAN\", \"CPV\", \"CAF\", \"TCD\", \"CHL\", \"CHN\", \"COL\", \"COM\", \"COD\", \"COG\", \"CRI\", \"CIV\", \"HRV\", \"CUB\", \"CYP\", \"CZE\", \"DNK\", \"DJI\", \"DOM\", \"ECU\", \"EGY\", \"SLV\", \"GNQ\", \"ERI\", \"EST\", \"SWZ\", \"ETH\", \"FJI\", \"FIN\", \"FRA\", \"GAB\", \"GMB\", \"GEO\", \"DEU\", \"GHA\", \"GRC\", \"GRD\", \"GTM\", \"GIN\", \"GNB\", \"GUY\", \"HTI\", \"HND\", \"HUN\", \"ISL\", \"IND\", \"IDN\", \"IRN\", \"IRQ\", \"IRL\", \"ISR\", \"ITA\", \"JAM\", \"JPN\", \"JOR\", \"KAZ\", \"KEN\", \"KIR\", \"KWT\", \"KGZ\", \"LAO\", \"LVA\", \"LBN\", \"LSO\", \"LBR\", \"LBY\", \"LTU\", \"LUX\", \"MDG\", \"MWI\", \"MYS\", \"MDV\", \"MLI\", \"MLT\", \"MRT\", \"MUS\", \"MEX\", \" \", \" \", \"MNG\", \"MNE\", \"MAR\", \"MOZ\", \"MMR\", \"NAM\", \"NPL\", \"NLD\", \"NZL\", \"NIC\", \"NER\", \"NGA\", \"PRK\", \"MKD\", \"NOR\", \"OMN\", \"PAK\", \"PSE\", \"PAN\", \"PNG\", \"PRY\", \"PER\", \"PHL\", \"POL\", \"PRT\", \"QAT\", \"ROU\", \"RUS\", \"RWA\", \"WSM\", \"STP\", \"SAU\", \"SEN\", \"SRB\", \"SYC\", \"SLE\", \"SGP\", \"SVK\", \"SVN\", \"SLB\", \"SOM\", \"ZAF\", \"KOR\", \"SSD\", \"ESP\", \"LKA\", \" \", \" \", \"SDN\", \"SUR\", \"SWE\", \"CHE\", \"SYR\", \"TJK\", \"TZA\", \"THA\", \"TLS\", \"TGO\", \"TON\", \"TTO\", \"TUN\", \"TUR\", \"TKM\", \"UGA\", \"UKR\", \"ARE\", \"GBR\", \"USA\", \"URY\", \"UZB\", \"VUT\", \"VEN\", \"VNM\", \"YEM\", \"ZMB\", \"ZWE\"], \"name\": \"\", \"type\": \"choropleth\", \"z\": [37.66603960396041, 52.95445544554457, 47.12475247524751, 37.893069306930684, 54.646534653465366, 59.225742574257445, 52.63069306930693, 67.37425742574256, 61.27128712871291, 49.41485148514851, 54.10198019801981, 47.98613861386138, 38.74158415841584, 54.94653465346532, 55.4960396039604, 63.53366336633661, 51.63465346534654, 40.451485148514855, 42.34455445544555, 44.37425742574258, 52.542574257425755, 45.41188118811881, 48.6089108910891, 51.514851485148526, 58.49207920792078, 38.04158415841585, 37.73465346534655, 41.858415841584154, 40.9539603960396, 65.93465346534653, 50.54158415841583, 38.24752475247526, 41.62178217821782, 51.622772277227725, 46.532673267326736, 51.16930693069306, 42.68514851485149, 42.408910891089114, 40.0990099009901, 55.88019801980197, 41.41188118811883, 54.7920792079208, 56.27227722772278, 60.01089108910893, 60.670297029702965, 67.3148514851485, 44.98811881188119, 49.87029702970295, 50.63069306930693, 43.68118811881188, 46.83564356435643, 38.429702970297036, 37.610891089108925, 59.16831683168315, 43.301980198019805, 35.91287128712872, 49.474059405940615, 61.57524752475248, 63.055445544554466, 42.870297029702975, 43.985148514851474, 52.29207920792081, 62.55247524752475, 44.21287128712869, 60.71881188118814, 54.799009900990086, 40.25514851485149, 40.52475247524753, 37.3970297029703, 51.90297029702972, 38.38316831683168, 48.7970297029703, 57.24059405940597, 67.09207920792082, 39.10257425742576, 43.15049504950494, 44.14257425742575, 44.595049504950495, 64.37821782178221, 54.67821782178217, 61.56732673267328, 55.54356435643566, 59.01584158415842, 48.16435643564356, 48.16950495049506, 42.39257425742575, 41.64554455445544, 49.31980198019804, 45.69504950495048, 37.94851485148514, 59.44059405940593, 48.762376237623755, 45.206930693069296, 40.42079207920792, 49.24158415841582, 58.54455445544552, 62.99108910891089, 41.68613861386137, 37.9, 49.76633663366339, 39.5841584158416, 35.63366336633665, 62.36336633663369, 43.77524752475249, 46.9891089108911, 49.47623762376236, 46.02336633663366, 50.340594059405944, 42.84455445544555, 55.688118811881196, 46.540594059405926, 39.567326732673266, 38.163366336633665, 44.86821782178218, 43.612871287128726, 67.63663366336633, 65.5851485148515, 45.19603960396041, 38.852475247524744, 44.09306930693067, 49.30891089108911, 54.33267326732672, 68.33960396039605, 43.53762376237624, 41.197227722772276, 49.52475247524753, 54.538613861386125, 42.01287128712872, 56.03267326732673, 45.943564356435665, 49.40099009900991, 57.36930693069305, 55.083168316831696, 48.225742574257424, 54.44950495049505, 50.35742574257428, 38.961782178217824, 48.52673267326733, 46.134653465346545, 50.50891089108911, 40.290099009900985, 53.570693069306955, 59.38712871287128, 36.91287128712871, 55.20693069306931, 58.23267326732674, 56.64653465346534, 41.47029702970297, 40.02475247524752, 47.4950495049505, 48.22277227722773, 39.48910891089108, 59.519801980198004, 50.66435643564357, 49.977227722772284, 48.82673267326733, 42.84356435643565, 51.072277227722786, 68.52475247524757, 66.65346534653465, 49.297029702970306, 45.340594059405944, 43.179207920792095, 49.32772277227725, 39.08118811881188, 42.29999999999999, 51.53524752475248, 55.469306930693065, 46.52871287128714, 46.568415841584155, 44.52970297029704, 36.366039603960395, 53.9429702970297, 47.594059405940605, 65.17128712871288, 65.27029702970299, 55.553465346534644, 49.33861386138614, 42.72970297029703, 51.19207920792081, 46.133663366336634, 34.96633663366337, 42.703960396039605, 45.50792079207922]}],                        {\"coloraxis\": {\"colorbar\": {\"title\": {\"text\": \"Mean Life Expectancy\"}}, \"colorscale\": [[0.0, \"#0d0887\"], [0.1111111111111111, \"#46039f\"], [0.2222222222222222, \"#7201a8\"], [0.3333333333333333, \"#9c179e\"], [0.4444444444444444, \"#bd3786\"], [0.5555555555555556, \"#d8576b\"], [0.6666666666666666, \"#ed7953\"], [0.7777777777777778, \"#fb9f3a\"], [0.8888888888888888, \"#fdca26\"], [1.0, \"#f0f921\"]]}, \"geo\": {\"center\": {}, \"domain\": {\"x\": [0.0, 1.0], \"y\": [0.0, 1.0]}, \"showcoastlines\": false, \"showframe\": false}, \"legend\": {\"tracegroupgap\": 0}, \"margin\": {\"t\": 60}, \"template\": {\"data\": {\"bar\": [{\"error_x\": {\"color\": \"#2a3f5f\"}, \"error_y\": {\"color\": \"#2a3f5f\"}, \"marker\": {\"line\": {\"color\": \"#E5ECF6\", \"width\": 0.5}}, \"type\": \"bar\"}], \"barpolar\": [{\"marker\": {\"line\": {\"color\": \"#E5ECF6\", \"width\": 0.5}}, \"type\": \"barpolar\"}], \"carpet\": [{\"aaxis\": {\"endlinecolor\": \"#2a3f5f\", \"gridcolor\": \"white\", \"linecolor\": \"white\", \"minorgridcolor\": \"white\", \"startlinecolor\": \"#2a3f5f\"}, \"baxis\": {\"endlinecolor\": \"#2a3f5f\", \"gridcolor\": \"white\", \"linecolor\": \"white\", \"minorgridcolor\": \"white\", \"startlinecolor\": \"#2a3f5f\"}, \"type\": \"carpet\"}], \"choropleth\": [{\"colorbar\": {\"outlinewidth\": 0, \"ticks\": \"\"}, \"type\": \"choropleth\"}], \"contour\": [{\"colorbar\": {\"outlinewidth\": 0, \"ticks\": \"\"}, \"colorscale\": [[0.0, \"#0d0887\"], [0.1111111111111111, \"#46039f\"], [0.2222222222222222, \"#7201a8\"], [0.3333333333333333, \"#9c179e\"], [0.4444444444444444, \"#bd3786\"], [0.5555555555555556, \"#d8576b\"], [0.6666666666666666, \"#ed7953\"], [0.7777777777777778, \"#fb9f3a\"], [0.8888888888888888, \"#fdca26\"], [1.0, \"#f0f921\"]], \"type\": \"contour\"}], \"contourcarpet\": [{\"colorbar\": {\"outlinewidth\": 0, \"ticks\": \"\"}, \"type\": \"contourcarpet\"}], \"heatmap\": [{\"colorbar\": {\"outlinewidth\": 0, \"ticks\": \"\"}, \"colorscale\": [[0.0, \"#0d0887\"], [0.1111111111111111, \"#46039f\"], [0.2222222222222222, \"#7201a8\"], [0.3333333333333333, \"#9c179e\"], [0.4444444444444444, \"#bd3786\"], [0.5555555555555556, \"#d8576b\"], [0.6666666666666666, \"#ed7953\"], [0.7777777777777778, \"#fb9f3a\"], [0.8888888888888888, \"#fdca26\"], [1.0, \"#f0f921\"]], \"type\": \"heatmap\"}], \"heatmapgl\": [{\"colorbar\": {\"outlinewidth\": 0, \"ticks\": \"\"}, \"colorscale\": [[0.0, \"#0d0887\"], [0.1111111111111111, \"#46039f\"], [0.2222222222222222, \"#7201a8\"], [0.3333333333333333, \"#9c179e\"], [0.4444444444444444, \"#bd3786\"], [0.5555555555555556, \"#d8576b\"], [0.6666666666666666, \"#ed7953\"], [0.7777777777777778, \"#fb9f3a\"], [0.8888888888888888, \"#fdca26\"], [1.0, \"#f0f921\"]], \"type\": \"heatmapgl\"}], \"histogram\": [{\"marker\": {\"colorbar\": {\"outlinewidth\": 0, \"ticks\": \"\"}}, \"type\": \"histogram\"}], \"histogram2d\": [{\"colorbar\": {\"outlinewidth\": 0, \"ticks\": \"\"}, \"colorscale\": [[0.0, \"#0d0887\"], [0.1111111111111111, \"#46039f\"], [0.2222222222222222, \"#7201a8\"], [0.3333333333333333, \"#9c179e\"], [0.4444444444444444, \"#bd3786\"], [0.5555555555555556, \"#d8576b\"], [0.6666666666666666, \"#ed7953\"], [0.7777777777777778, \"#fb9f3a\"], [0.8888888888888888, \"#fdca26\"], [1.0, \"#f0f921\"]], \"type\": \"histogram2d\"}], \"histogram2dcontour\": [{\"colorbar\": {\"outlinewidth\": 0, \"ticks\": \"\"}, \"colorscale\": [[0.0, \"#0d0887\"], [0.1111111111111111, \"#46039f\"], [0.2222222222222222, \"#7201a8\"], [0.3333333333333333, \"#9c179e\"], [0.4444444444444444, \"#bd3786\"], [0.5555555555555556, \"#d8576b\"], [0.6666666666666666, \"#ed7953\"], [0.7777777777777778, \"#fb9f3a\"], [0.8888888888888888, \"#fdca26\"], [1.0, \"#f0f921\"]], \"type\": \"histogram2dcontour\"}], \"mesh3d\": [{\"colorbar\": {\"outlinewidth\": 0, \"ticks\": \"\"}, \"type\": \"mesh3d\"}], \"parcoords\": [{\"line\": {\"colorbar\": {\"outlinewidth\": 0, \"ticks\": \"\"}}, \"type\": \"parcoords\"}], \"pie\": [{\"automargin\": true, \"type\": \"pie\"}], \"scatter\": [{\"marker\": {\"colorbar\": {\"outlinewidth\": 0, \"ticks\": \"\"}}, \"type\": \"scatter\"}], \"scatter3d\": [{\"line\": {\"colorbar\": {\"outlinewidth\": 0, \"ticks\": \"\"}}, \"marker\": {\"colorbar\": {\"outlinewidth\": 0, \"ticks\": \"\"}}, \"type\": \"scatter3d\"}], \"scattercarpet\": [{\"marker\": {\"colorbar\": {\"outlinewidth\": 0, \"ticks\": \"\"}}, \"type\": \"scattercarpet\"}], \"scattergeo\": [{\"marker\": {\"colorbar\": {\"outlinewidth\": 0, \"ticks\": \"\"}}, \"type\": \"scattergeo\"}], \"scattergl\": [{\"marker\": {\"colorbar\": {\"outlinewidth\": 0, \"ticks\": \"\"}}, \"type\": \"scattergl\"}], \"scattermapbox\": [{\"marker\": {\"colorbar\": {\"outlinewidth\": 0, \"ticks\": \"\"}}, \"type\": \"scattermapbox\"}], \"scatterpolar\": [{\"marker\": {\"colorbar\": {\"outlinewidth\": 0, \"ticks\": \"\"}}, \"type\": \"scatterpolar\"}], \"scatterpolargl\": [{\"marker\": {\"colorbar\": {\"outlinewidth\": 0, \"ticks\": \"\"}}, \"type\": \"scatterpolargl\"}], \"scatterternary\": [{\"marker\": {\"colorbar\": {\"outlinewidth\": 0, \"ticks\": \"\"}}, \"type\": \"scatterternary\"}], \"surface\": [{\"colorbar\": {\"outlinewidth\": 0, \"ticks\": \"\"}, \"colorscale\": [[0.0, \"#0d0887\"], [0.1111111111111111, \"#46039f\"], [0.2222222222222222, \"#7201a8\"], [0.3333333333333333, \"#9c179e\"], [0.4444444444444444, \"#bd3786\"], [0.5555555555555556, \"#d8576b\"], [0.6666666666666666, \"#ed7953\"], [0.7777777777777778, \"#fb9f3a\"], [0.8888888888888888, \"#fdca26\"], [1.0, \"#f0f921\"]], \"type\": \"surface\"}], \"table\": [{\"cells\": {\"fill\": {\"color\": \"#EBF0F8\"}, \"line\": {\"color\": \"white\"}}, \"header\": {\"fill\": {\"color\": \"#C8D4E3\"}, \"line\": {\"color\": \"white\"}}, \"type\": \"table\"}]}, \"layout\": {\"annotationdefaults\": {\"arrowcolor\": \"#2a3f5f\", \"arrowhead\": 0, \"arrowwidth\": 1}, \"autotypenumbers\": \"strict\", \"coloraxis\": {\"colorbar\": {\"outlinewidth\": 0, \"ticks\": \"\"}}, \"colorscale\": {\"diverging\": [[0, \"#8e0152\"], [0.1, \"#c51b7d\"], [0.2, \"#de77ae\"], [0.3, \"#f1b6da\"], [0.4, \"#fde0ef\"], [0.5, \"#f7f7f7\"], [0.6, \"#e6f5d0\"], [0.7, \"#b8e186\"], [0.8, \"#7fbc41\"], [0.9, \"#4d9221\"], [1, \"#276419\"]], \"sequential\": [[0.0, \"#0d0887\"], [0.1111111111111111, \"#46039f\"], [0.2222222222222222, \"#7201a8\"], [0.3333333333333333, \"#9c179e\"], [0.4444444444444444, \"#bd3786\"], [0.5555555555555556, \"#d8576b\"], [0.6666666666666666, \"#ed7953\"], [0.7777777777777778, \"#fb9f3a\"], [0.8888888888888888, \"#fdca26\"], [1.0, \"#f0f921\"]], \"sequentialminus\": [[0.0, \"#0d0887\"], [0.1111111111111111, \"#46039f\"], [0.2222222222222222, \"#7201a8\"], [0.3333333333333333, \"#9c179e\"], [0.4444444444444444, \"#bd3786\"], [0.5555555555555556, \"#d8576b\"], [0.6666666666666666, \"#ed7953\"], [0.7777777777777778, \"#fb9f3a\"], [0.8888888888888888, \"#fdca26\"], [1.0, \"#f0f921\"]]}, \"colorway\": [\"#636efa\", \"#EF553B\", \"#00cc96\", \"#ab63fa\", \"#FFA15A\", \"#19d3f3\", \"#FF6692\", \"#B6E880\", \"#FF97FF\", \"#FECB52\"], \"font\": {\"color\": \"#2a3f5f\"}, \"geo\": {\"bgcolor\": \"white\", \"lakecolor\": \"white\", \"landcolor\": \"#E5ECF6\", \"showlakes\": true, \"showland\": true, \"subunitcolor\": \"white\"}, \"hoverlabel\": {\"align\": \"left\"}, \"hovermode\": \"closest\", \"mapbox\": {\"style\": \"light\"}, \"paper_bgcolor\": \"white\", \"plot_bgcolor\": \"#E5ECF6\", \"polar\": {\"angularaxis\": {\"gridcolor\": \"white\", \"linecolor\": \"white\", \"ticks\": \"\"}, \"bgcolor\": \"#E5ECF6\", \"radialaxis\": {\"gridcolor\": \"white\", \"linecolor\": \"white\", \"ticks\": \"\"}}, \"scene\": {\"xaxis\": {\"backgroundcolor\": \"#E5ECF6\", \"gridcolor\": \"white\", \"gridwidth\": 2, \"linecolor\": \"white\", \"showbackground\": true, \"ticks\": \"\", \"zerolinecolor\": \"white\"}, \"yaxis\": {\"backgroundcolor\": \"#E5ECF6\", \"gridcolor\": \"white\", \"gridwidth\": 2, \"linecolor\": \"white\", \"showbackground\": true, \"ticks\": \"\", \"zerolinecolor\": \"white\"}, \"zaxis\": {\"backgroundcolor\": \"#E5ECF6\", \"gridcolor\": \"white\", \"gridwidth\": 2, \"linecolor\": \"white\", \"showbackground\": true, \"ticks\": \"\", \"zerolinecolor\": \"white\"}}, \"shapedefaults\": {\"line\": {\"color\": \"#2a3f5f\"}}, \"ternary\": {\"aaxis\": {\"gridcolor\": \"white\", \"linecolor\": \"white\", \"ticks\": \"\"}, \"baxis\": {\"gridcolor\": \"white\", \"linecolor\": \"white\", \"ticks\": \"\"}, \"bgcolor\": \"#E5ECF6\", \"caxis\": {\"gridcolor\": \"white\", \"linecolor\": \"white\", \"ticks\": \"\"}}, \"title\": {\"x\": 0.05}, \"xaxis\": {\"automargin\": true, \"gridcolor\": \"white\", \"linecolor\": \"white\", \"ticks\": \"\", \"title\": {\"standoff\": 15}, \"zerolinecolor\": \"white\", \"zerolinewidth\": 2}, \"yaxis\": {\"automargin\": true, \"gridcolor\": \"white\", \"linecolor\": \"white\", \"ticks\": \"\", \"title\": {\"standoff\": 15}, \"zerolinecolor\": \"white\", \"zerolinewidth\": 2}}}, \"title\": {\"text\": \"World Life Expectancy\", \"x\": 0.5}},                        {\"responsive\": true}                    ).then(function(){\n",
       "                            \n",
       "var gd = document.getElementById('d54c19f0-7155-42e0-a52b-b0506eb3105f');\n",
       "var x = new MutationObserver(function (mutations, observer) {{\n",
       "        var display = window.getComputedStyle(gd).display;\n",
       "        if (!display || display === 'none') {{\n",
       "            console.log([gd, 'removed!']);\n",
       "            Plotly.purge(gd);\n",
       "            observer.disconnect();\n",
       "        }}\n",
       "}});\n",
       "\n",
       "// Listen for the removal of the full notebook cells\n",
       "var notebookContainer = gd.closest('#notebook-container');\n",
       "if (notebookContainer) {{\n",
       "    x.observe(notebookContainer, {childList: true});\n",
       "}}\n",
       "\n",
       "// Listen for the clearing of the current output cell\n",
       "var outputEl = gd.closest('.output');\n",
       "if (outputEl) {{\n",
       "    x.observe(outputEl, {childList: true});\n",
       "}}\n",
       "\n",
       "                        })                };                });            </script>        </div>"
      ]
     },
     "metadata": {},
     "output_type": "display_data"
    }
   ],
   "source": [
    "# world during the period from 1900 to 2000\n",
    "world_map_plot((1900, 2000))"
   ]
  },
  {
   "cell_type": "code",
   "execution_count": 15,
   "metadata": {
    "cell_id": "00018-24c20253-1f71-4799-b1a8-78165b05fffb",
    "deepnote_cell_type": "code",
    "deepnote_to_be_reexecuted": false,
    "execution_millis": 198,
    "execution_start": 1610404809879,
    "source_hash": "6ad69f8e",
    "tags": []
   },
   "outputs": [
    {
     "data": {
      "image/png": "[encoded data removed]",
      "text/plain": [
       "<Figure size 1152x504 with 2 Axes>"
      ]
     },
     "metadata": {
      "needs_background": "light"
     },
     "output_type": "display_data"
    }
   ],
   "source": [
    "barplot_top5((1914, 1918))"
   ]
  },
  {
   "cell_type": "code",
   "execution_count": 16,
   "metadata": {
    "cell_id": "00019-c47f8a2b-1cff-4878-a20c-72393adc8590",
    "deepnote_cell_type": "code",
    "deepnote_to_be_reexecuted": false,
    "execution_millis": 248,
    "execution_start": 1610404810080,
    "source_hash": "f1c5b2ec",
    "tags": []
   },
   "outputs": [
    {
     "data": {
      "image/png": "[encoded data removed]",
      "text/plain": [
       "<Figure size 1152x504 with 2 Axes>"
      ]
     },
     "metadata": {
      "needs_background": "light"
     },
     "output_type": "display_data"
    }
   ],
   "source": [
    "barplot_top5((1939, 1945))"
   ]
  },
  {
   "cell_type": "markdown",
   "metadata": {
    "cell_id": "00017-78b0e603-46ce-44b1-84d3-b93a30e6fb8d",
    "deepnote_cell_type": "markdown",
    "tags": []
   },
   "source": [
    "It can be seen, that during both World Wars many countries' life expectancy was negatively affected. It can be also confirmed using multiple linear plots of few selected countries.\n",
    "\n",
    "Features of descriptive statistics part:\n",
    "\n",
    "- 1) Bar plot\n",
    "\n",
    "It is possible to select year period of interest by adjusting slider\n",
    "\n",
    "- 2) Multiple linear plot\n",
    "\n",
    "Input is a list of desired countries, no additional widgets were added\n",
    "\n",
    "- 3) Choropleth plot\n",
    "\n",
    "It is possible to select year period of interest by adjusting slider\n",
    "\n"
   ]
  },
  {
   "cell_type": "markdown",
   "metadata": {
    "cell_id": "00021-7de2e975-0f01-47cc-b535-f82cc540aa05",
    "deepnote_cell_type": "markdown",
    "tags": []
   },
   "source": [
    "#### Correlations between attributes:"
   ]
  },
  {
   "cell_type": "code",
   "execution_count": 17,
   "metadata": {
    "cell_id": "00022-e262c8a6-4992-4b87-9168-e6fcc427a150",
    "deepnote_cell_type": "code",
    "deepnote_to_be_reexecuted": false,
    "execution_millis": 385,
    "execution_start": 1610404810335,
    "source_hash": "f3df4834",
    "tags": []
   },
   "outputs": [
    {
     "data": {
      "application/vnd.jupyter.widget-view+json": {
       "model_id": "be85e2e5cf6747e7b5c39c82bff58c97",
       "version_major": 2,
       "version_minor": 0
      },
      "text/plain": [
       "interactive(children=(IntRangeSlider(value=(1950, 2000), description='range slider', max=2100, min=1800), Outp…"
      ]
     },
     "metadata": {},
     "output_type": "display_data"
    }
   ],
   "source": [
    "from scipy.stats import pearsonr\n",
    "\n",
    "df_orig = df_orig.dropna()\n",
    "\n",
    "# Correlations between attributes (Pearson)\n",
    "@interact(years=widgets.IntRangeSlider(value=(1950, 2000), min=1800, max=2100, step=1, description='range slider'))\n",
    "def pearson_correlation(years):\n",
    "    year_from, year_to = years[0], years[1]\n",
    "    year_on = str(year_to)\n",
    "    temp = df_orig.copy()\n",
    "    maxes = temp[year_on].nlargest(5)\n",
    "    \n",
    "    temp = df[df['year'].between(year_from, year_to, inclusive=True)]\n",
    "    xx = [i for i in temp.columns[1:]]\n",
    "    res = []\n",
    "    for i in xx:\n",
    "        means = temp[i].mean()\n",
    "        res.append((i, means))\n",
    "    res = sorted(res, key=lambda x:x[1], reverse=True)\n",
    "    best_means = res[:5]\n",
    "    second_best = res[5:10]\n",
    "    country_names1, means1 = [i for i,j in best_means], [j for i,j in best_means]\n",
    "    country_names2, means2 = [i for i,j in second_best], [j for i,j in second_best]\n",
    "    corr, _ = pearsonr(means2, means1)\n",
    "    print(\"Pearson’s Correlation: {}\".format(corr))"
   ]
  },
  {
   "cell_type": "markdown",
   "metadata": {
    "cell_id": "00023-42740928-e95d-4711-92cf-ddcdefc48692",
    "deepnote_cell_type": "markdown",
    "tags": []
   },
   "source": [
    "The Pearson Correlation shows that the live expectancy of the top 5 countrys differ pretty hard\n",
    "compared to the top 5-9 top countrys."
   ]
  },
  {
   "cell_type": "markdown",
   "metadata": {
    "cell_id": "00011-5e2484e0-aced-45c0-b3f2-992118a65b2f",
    "deepnote_cell_type": "markdown",
    "tags": []
   },
   "source": [
    "####  Cluster similar items:"
   ]
  },
  {
   "cell_type": "code",
   "execution_count": 18,
   "metadata": {
    "cell_id": "00012-070ddd97-cb1c-4ac9-9031-09e6032c3024",
    "deepnote_cell_type": "code",
    "deepnote_to_be_reexecuted": false,
    "execution_millis": 372,
    "execution_start": 1610404810720,
    "source_hash": "8f1b9bab",
    "tags": []
   },
   "outputs": [],
   "source": [
    "from sklearn import decomposition\n",
    "\n",
    "# define all demensionality reduction methods:\n",
    "\n",
    "def pca(data_frame):\n",
    "    array = np.delete(data_frame.to_numpy(), 0, axis=1)\n",
    "    pca = decomposition.PCA(n_components=2)\n",
    "    pos = pca.fit(array).transform(array)\n",
    "    pos_T = pca.fit(array.T).transform(array.T)\n",
    "    \n",
    "    df_country = pd.DataFrame(data=pos_T, columns=['x', 'y'], index=data_frame.columns.drop('year')).reset_index()\n",
    "    df_year = pd.DataFrame(data=pos, columns=['x', 'y'], index=data_frame['year']).reset_index()\n",
    "    \n",
    "    return df_country, df_year\n",
    "\n",
    "from sklearn import manifold\n",
    "\n",
    "def tsne(data_frame, perplexity=30):\n",
    "    array = np.delete(data_frame.to_numpy(), 0, axis=1)\n",
    "    tsne = manifold.TSNE(n_components=2, perplexity=perplexity)\n",
    "    pos = tsne.fit_transform(array)\n",
    "    pos_T = tsne.fit_transform(array.T)\n",
    "    \n",
    "    df_country = pd.DataFrame(data=pos_T, columns=['x', 'y'], index=data_frame.columns.drop('year')).reset_index()\n",
    "    df_year = pd.DataFrame(data=pos, columns=['x', 'y'], index=data_frame['year']).reset_index()\n",
    "    \n",
    "    return df_country, df_year\n",
    "\n",
    "def se(data_frame):\n",
    "    array = np.delete(data_frame.to_numpy(), 0, axis=1)\n",
    "    se = manifold.SpectralEmbedding(n_components=2, affinity='rbf')\n",
    "    pos = se.fit_transform(array)\n",
    "    pos_T = se.fit_transform(array.T)\n",
    "    \n",
    "    df_country = pd.DataFrame(data=pos_T, columns=['x', 'y'], index=data_frame.columns.drop('year')).reset_index()\n",
    "    df_year = pd.DataFrame(data=pos, columns=['x', 'y'], index=data_frame['year']).reset_index()\n",
    "    \n",
    "    return df_country, df_year"
   ]
  },
  {
   "cell_type": "code",
   "execution_count": 19,
   "metadata": {
    "cell_id": "00016-84ed7ac1-83a5-4219-92b0-cb590f637a8b",
    "deepnote_cell_type": "code",
    "deepnote_to_be_reexecuted": false,
    "execution_millis": 5,
    "execution_start": 1610404811097,
    "source_hash": "6f588853",
    "tags": []
   },
   "outputs": [],
   "source": [
    "def add_country_codecs(data_frame):\n",
    "    '''Adds country codecs to each country in the the dataframe\n",
    "    Countries must be in a column called 'country'\n",
    "    :param data_frame:\n",
    "    :return data_frame:\n",
    "    '''\n",
    "    \n",
    "    # get codecs form csv file\n",
    "    codes = pd.read_csv('data/ISO_3166-2_Codes_of_Countries.csv', sep=';')\n",
    "    codes['Numeric code'].astype(int)\n",
    "    codes = codes.set_index('name').T\n",
    "\n",
    "    # surch for every country in the dataframe the correct codec\n",
    "    numerics = []\n",
    "    alpha3 = []\n",
    "    for name in data_frame['country']:\n",
    "        try:\n",
    "            numerics.append(codes[name]['Numeric code'])\n",
    "            alpha3.append(codes[name]['Alpha-3 code'])\n",
    "        except:\n",
    "            numerics.append(0)\n",
    "            alpha3.append(name)\n",
    "    \n",
    "    # add codecs to data frame\n",
    "    data_frame['Numeric code'] = numerics\n",
    "    data_frame['Alpha-3 code'] = alpha3\n",
    "\n",
    "    return data_frame"
   ]
  },
  {
   "cell_type": "code",
   "execution_count": 20,
   "metadata": {
    "cell_id": "00011-6268518c-a24c-4c81-9072-3daca2cff613",
    "deepnote_cell_type": "code",
    "deepnote_to_be_reexecuted": false,
    "execution_millis": 7,
    "execution_start": 1610404811118,
    "source_hash": "a2122163",
    "tags": []
   },
   "outputs": [],
   "source": [
    "def plot_reduced(data_orig, data_country, df_year, title='Plot'):\n",
    "\n",
    "    '''\n",
    "    Plot function for dimensionalaity reduction!\n",
    "    :param data_orig: original data frame before dimensionality rediction\n",
    "    :param data_country: dataframe reduced to 2 dimensions with respect to countries\n",
    "    :param data_year: dataframe reduced to 2 dimensions with respect to years\n",
    "    :return: altair plot\n",
    "    '''\n",
    "    \n",
    "    # create selector brushes\n",
    "    brush_year = alt.selection_interval()\n",
    "    brush_country = alt.selection_interval()\n",
    "    nearest_line = alt.selection(type='single', nearest=True, on='mouseover',\n",
    "                                fields=['country'])\n",
    "\n",
    "    \n",
    "    # add country codecs to dataframe -> important to join with world map\n",
    "    data_country = add_country_codecs(data_country)\n",
    "\n",
    "    shapefile  = alt.topo_feature('https://vega.github.io/vega-datasets/data/world-110m.json', 'countries')\n",
    "    \n",
    "    # dimensionality reduced to countries\n",
    "    # create scatterplot\n",
    "    country_Chart = alt.Chart(data_country, title='life expectancy reduced to countries').mark_point().encode(\n",
    "        y ='y',\n",
    "        x ='x',\n",
    "        color=alt.condition(brush_country, alt.value('#1f77b4'), alt.value('lightgray')),\n",
    "        tooltip=['country']\n",
    "    ).add_selection(\n",
    "        brush_country\n",
    "    ).properties(width=400, height=300)\n",
    "    \n",
    "    # plot map\n",
    "    country_map = alt.Chart(shapefile).mark_geoshape().encode(\n",
    "        color=alt.condition(brush_country, alt.value('#1f77b4'), alt.value('lightgray')),\n",
    "        tooltip=[\n",
    "            alt.Tooltip(\"country:O\", title=\"country\"),\n",
    "            alt.Tooltip(\"Alpha-3 code:O\", title=\"code\"),\n",
    "        ]\n",
    "    ).transform_lookup(\n",
    "        lookup=\"id\",\n",
    "        from_=alt.LookupData(data_country, \"Numeric code\", ['country', 'x', 'y', 'Numeric code', 'Alpha-3 code']),\n",
    "    ).project(\n",
    "        type='equirectangular'\n",
    "    ).properties(\n",
    "        width=800, \n",
    "        height=400\n",
    "    )\n",
    "    \n",
    "    # create linear plot\n",
    "    loc = data_orig.copy()\n",
    "    loc = loc.melt('year')\n",
    "    alt.data_transformers.disable_max_rows()\n",
    "    \n",
    "    # create mean plot\n",
    "    base_line = alt.Chart(loc)\n",
    "    mean_linear_plot = base_line.mark_line().encode(\n",
    "        x=alt.X('year:N', axis=alt.Axis(values=list(range(1800, 2101, 10))) ),\n",
    "        y=alt.Y('total:Q', title='life expectancy mean', sort='ascending'),\n",
    "        color=alt.value(\"#000099\")\n",
    "    ).transform_lookup(\n",
    "        lookup=\"country\",\n",
    "        from_=alt.LookupData(data_country, \"country\", ['country', 'x', 'y', 'Numeric code', 'Alpha-3 code']),\n",
    "    ).transform_filter(\n",
    "        brush_country\n",
    "    ).transform_aggregate(\n",
    "        total='mean(value)',\n",
    "        groupby=[\"year\"]\n",
    "    ).properties(width=400, height=300)\n",
    "\n",
    "    # plot countries linear\n",
    "    countries_linear_plot = base_line.mark_line(opacity=0.15).encode(\n",
    "        x=alt.X('year:N', axis=alt.Axis(values=list(range(1800, 2101, 10)))),\n",
    "        y=alt.Y('value:Q', title='', sort='ascending'),\n",
    "        opacity = alt.condition(nearest_line, alt.value(0.15), alt.value(1.0)),\n",
    "        color='country:N',\n",
    "        tooltip=['country']\n",
    "    ).transform_lookup(\n",
    "        lookup=\"country\",\n",
    "        from_=alt.LookupData(data_country, \"country\", ['country', 'x', 'y', 'Numeric code', 'Alpha-3 code']),\n",
    "    ).transform_filter(\n",
    "        brush_country\n",
    "    ).add_selection(\n",
    "        nearest_line\n",
    "    ).properties(width=400, height=300)\n",
    "    \n",
    "    \n",
    "    # dimensionality reduced to years\n",
    "    # create scatter plot\n",
    "    year_Chart = alt.Chart(df_year, title='life expectancy reduced to years').mark_point().encode(\n",
    "        y ='y',\n",
    "        x ='x',\n",
    "        color=alt.condition(brush_year, alt.value('#1f77b4'), alt.value('lightgray')),\n",
    "        tooltip=['year']\n",
    "    ).add_selection(\n",
    "        brush_year\n",
    "    ).properties(width=400, height=300)\n",
    "    \n",
    "    # create yearplot\n",
    "    year_bar = alt.Chart(df_year).mark_point().encode(\n",
    "        y = alt.Y('year:N', scale=alt.Scale(zero=False), axis=alt.Axis(values=list(range(1800, 2101, 10))), sort='ascending' ),        \n",
    "        color=alt.condition(brush_year, alt.value('#1f77b4'), alt.value('lightgray')),\n",
    "        tooltip=['year']\n",
    "    ).add_selection(\n",
    "        brush_year\n",
    "    ).properties(width=30, height=300)\n",
    "    \n",
    "    return ((country_Chart | (countries_linear_plot+mean_linear_plot).interactive() ) \n",
    "            & country_map  \n",
    "            & (year_Chart | year_bar) )"
   ]
  },
  {
   "cell_type": "code",
   "execution_count": 21,
   "metadata": {
    "cell_id": "00014-e48d77c9-cb8b-43d1-be4d-3a27993f83c1",
    "deepnote_cell_type": "code",
    "deepnote_to_be_reexecuted": false,
    "execution_millis": 21,
    "execution_start": 1610404811153,
    "source_hash": "561543be",
    "tags": []
   },
   "outputs": [
    {
     "data": {
      "application/vnd.jupyter.widget-view+json": {
       "model_id": "04e2859e89484136a54918b630d8c4ab",
       "version_major": 2,
       "version_minor": 0
      },
      "text/plain": [
       "VBox(children=(ToggleButtons(description=' ', options=('PCA', 'TSNE', 'Spectral Embedding'), value='PCA'), Int…"
      ]
     },
     "metadata": {},
     "output_type": "display_data"
    },
    {
     "data": {
      "application/vnd.jupyter.widget-view+json": {
       "model_id": "202bcadfa9654e79a8d534f728be06bc",
       "version_major": 2,
       "version_minor": 0
      },
      "text/plain": [
       "interactive(children=(Button(description='Run Interact', style=ButtonStyle()), Output()), _dom_classes=('widge…"
      ]
     },
     "metadata": {},
     "output_type": "display_data"
    }
   ],
   "source": [
    "from ipywidgets import HBox, VBox\n",
    "from IPython.display import display\n",
    "\n",
    "# creat interactive plot for dimensionlity reduciton\n",
    "\n",
    "# Create buttons for dimensionality reduction method\n",
    "method_selection = widgets.ToggleButtons(options=['PCA', 'TSNE', 'Spectral Embedding'], description=' ')\n",
    "# create setting widgets\n",
    "year_slider = widgets.IntRangeSlider(value=[1800, 2100], min=1800, max=2100, step=1, description='Year:')\n",
    "perplexity_slider = widgets.IntSlider(min=1, max=150, step=1, value=1, description=\"TSNE Perplexity:\")\n",
    "\n",
    "# create widget box for visu\n",
    "main_box = VBox(children = [method_selection, year_slider, perplexity_slider])\n",
    "display(main_box)\n",
    "\n",
    "@interact_manual()\n",
    "def update():\n",
    "    '''Update Plots on button click\n",
    "    '''\n",
    "    \n",
    "    year_start = year_slider.value[0] - 1800\n",
    "    year_end = year_slider.value[1] - 1800\n",
    "    df_loc = df.loc[year_start:year_end]\n",
    "    \n",
    "    if method_selection.value == 'PCA':\n",
    "        return plot_reduced(df_loc, *pca(df_loc))\n",
    "    elif method_selection.value == 'TSNE':\n",
    "        return plot_reduced(df_loc, *tsne(df_loc, perplexity_slider.value))\n",
    "    if method_selection.value == 'Spectral Embedding':\n",
    "        return plot_reduced(df_loc, *se(df_loc))\n"
   ]
  },
  {
   "cell_type": "markdown",
   "metadata": {
    "cell_id": "00026-99aaf633-9620-4f54-9948-76cb8348a4c1",
    "deepnote_cell_type": "markdown",
    "tags": []
   },
   "source": [
    "For clustering similar items we created an interactive plot where you can choose the dimensionality reduction technique and furhter important settings. The visualisation contains 2 main parts, \"data reduced with respect to the countries\" and \"data reduced with respect to years\".\n",
    "\n",
    "Settings:\n",
    "- First you can choose between the different dimensionality reduction techniques\n",
    "- Then we added a slider to select the years you are interessted in. The dataset contains an approximation of the future data up to the year 2100 which might lead to useless dimensionality reduced data or you just wan to focus on a specific time range.\n",
    "- The last settings you find are specific settings for the according selected method (here just tsne perplexity)\n",
    "\n",
    "dimensionality reduction technique:\n",
    "- PCA\n",
    "- tsne\n",
    "- Spectral Embedding\n",
    "- others are simple to add\n",
    "\n",
    "1st part \"dimensionality reduction with respect to the countries\":\n",
    "- This is the more interessting part and contains 3 plots\n",
    "- In the first plot you see the result from the dim. red. tech. in a 2 dimensional plot\n",
    "- The second plot shows the mean of all selected countries to get more insights of the selected cluster, in the foreground. Furhter you see each individual country timeline in the background for detailed information. This plot was a tradoff, it should show the country charts of the selected countries but the problem was: if there is no country selected or a alot countries the plot becomes very useless. So the opacity of the background is set very low but these makes it a bit hard to see the exact lines.\n",
    "- In the 3rd plot you can see the selcted countries on the world map to see location correlation between the clusters.\n",
    "- Result: Basically the dim. red. tech. finds clusters of similar patterns. Sometimes it findes clusters of locally connected countries what is quite obvious and some times countries spread over the whole world have very similar charts, but therefore it is hard to find some connections of these countries. Therefore it would be now interessting to connect our dataset with other datasets (e.g. wealth) to find the reason for such connections. One Cluster very often shown are the countries in south afrika. They have one of the lowest lief expectancys and there is a drop from 1985 - 2010, tsne clusters these countries very well. \n",
    "\n",
    "2nd part \"dimensionality reduction with respect to years\":\n",
    "- This part contains of two plots\n",
    "- In the first plot you see the result from the dim. red. tech. in a 2 dimensional plot with respect to the years\n",
    "- In the second plot you see the timeline where the selected years are displayed\n",
    "- Result: All reduction techniques recognize the year of WWI as an outlier, it has a very huge impact on almost every country, further WWII can be seen in most plots but not so extereme than WWI. "
   ]
  }
 ],
 "metadata": {
  "deepnote_execution_queue": [],
  "deepnote_notebook_id": "275696d6-a5d3-49ab-b03a-6210454a27bd",
  "kernelspec": {
   "display_name": "Python 3",
   "language": "python",
   "name": "python3"
  },
  "language_info": {
   "codemirror_mode": {
    "name": "ipython",
    "version": 3
   },
   "file_extension": ".py",
   "mimetype": "text/x-python",
   "name": "python",
   "nbconvert_exporter": "python",
   "pygments_lexer": "ipython3",
   "version": "3.7.9"
  }
 },
 "nbformat": 4,
 "nbformat_minor": 2
}
